{
 "cells": [
  {
   "cell_type": "markdown",
   "metadata": {},
   "source": [
    "# Analyzer\n",
    "\n",
    "> This class contains the main methods to make a polarization analysis"
   ]
  },
  {
   "cell_type": "code",
   "execution_count": null,
   "metadata": {},
   "outputs": [],
   "source": [
    "#| default_exp Analyzer"
   ]
  },
  {
   "cell_type": "code",
   "execution_count": null,
   "metadata": {},
   "outputs": [],
   "source": [
    "#| hide\n",
    "from nbdev.showdoc import *"
   ]
  },
  {
   "cell_type": "code",
   "execution_count": null,
   "metadata": {},
   "outputs": [
    {
     "name": "stdout",
     "output_type": "stream",
     "text": [
      "Intel MKL WARNING: Support of Intel(R) Streaming SIMD Extensions 4.2 (Intel(R) SSE4.2) enabled only processors has been deprecated. Intel oneAPI Math Kernel Library 2025.0 will require Intel(R) Advanced Vector Extensions (Intel(R) AVX) instructions.\n",
      "Intel MKL WARNING: Support of Intel(R) Streaming SIMD Extensions 4.2 (Intel(R) SSE4.2) enabled only processors has been deprecated. Intel oneAPI Math Kernel Library 2025.0 will require Intel(R) Advanced Vector Extensions (Intel(R) AVX) instructions.\n"
     ]
    }
   ],
   "source": [
    "#| export\n",
    "import pandas as pd\n",
    "from unidecode import unidecode\n",
    "import regex as re\n",
    "from mexican_polarization.Loader import Loader \n",
    "from wordcloud import WordCloud\n",
    "from nltk.corpus import stopwords\n",
    "import matplotlib.pyplot as plt\n",
    "\n"
   ]
  },
  {
   "cell_type": "code",
   "execution_count": null,
   "metadata": {},
   "outputs": [],
   "source": [
    "#| export\n",
    "class Analyzer:\n",
    "    def __init__(self,\n",
    "                 loader:Loader,\n",
    "                 ):\n",
    "        \"\"\"Constructor of the Analyzer class\"\"\"\n",
    "        if loader.processed_bool == False:\n",
    "            self.methods_available = False\n",
    "        else:\n",
    "            self.methods_available = True\n",
    "        self.loader = loader\n",
    "\n",
    "    def moral_words_count(self, message_col: str) -> pd.DataFrame:\n",
    "        \"\"\"Returns a dataframe with the count of virtue and vice words in each message in the message_col column\"\"\"\n",
    "        if not self.methods_available:\n",
    "            print('You need to process the data first')\n",
    "            return None\n",
    "        \n",
    "        vice_d = self.loader.vice_dict\n",
    "        virtue_d = self.loader.virtue_dict\n",
    "        df = self.loader.processed\n",
    "\n",
    "        vice = set(vice_d.keys())\n",
    "        virtue = set(virtue_d.keys())\n",
    "\n",
    "        def count_words(text, set_of_words):\n",
    "            words_in_text = text.lower().split()\n",
    "            word_count = 0\n",
    "            word_list = []\n",
    "            for word in words_in_text:\n",
    "                if word in set_of_words:\n",
    "                    word_count += 1\n",
    "                    word_list.append(word)\n",
    "            return word_count, word_list\n",
    "\n",
    "        # Agregar las columnas 'Vice words' y 'Virtue words' utilizando apply y la función count_words\n",
    "        df[['Vice words count', 'Vice words']] = df[message_col].apply(lambda x: pd.Series(count_words(str(x), vice)))\n",
    "        df[['Virtue words count', 'Virtue words']] = df[message_col].apply(lambda x: pd.Series(count_words(str(x), virtue)))\n",
    "\n",
    "        df.sort_values(by=['Vice words count', 'Virtue words count'], ascending=False)\n",
    "\n",
    "        df['Total words'] = df[message_col].apply(lambda x: len(x.split()))\n",
    "\n",
    "        df = df[df['Total words'] != 0] # Remove rows with empty messages\n",
    "        df = df[df['Total words'] > 3] # Remove rows with less than 3 words \n",
    "\n",
    "        df['Sum vice and virtue'] = df['Vice words count'] + df['Virtue words count']\n",
    "\n",
    "        return df\n",
    "    \n",
    "    def get_moral_df(self,\n",
    "                     df:pd.DataFrame): #DataFrame with the moral words count\n",
    "        \"\"\"Returns a dataframe with moral words in the message, and gives a series of ratios.\"\"\"\n",
    "\n",
    "        df_moral = df[(df ['Vice words count'] > 0) | (df['Virtue words count'] > 0)]\n",
    "        df_moral['VVRate'] = df.apply(lambda row: (row['Virtue words count'] + row['Vice words count']) / row['Total words'], axis=1)\n",
    "        df_moral['Vice Rate'] = df.apply(lambda row: row['Vice words count'] / row['Total words'], axis=1)\n",
    "        df_moral['Virtue Rate'] = df.apply(lambda row: row['Virtue words count'] / row['Total words'], axis=1)\n",
    "\n",
    "        df_moral['Category'] = df_moral.apply(lambda row: 'Vice' if row['Vice Rate'] > row['Virtue Rate'] else 'Virtue', axis=1)\n",
    "        df_moral['Original Message'] = self.loader.original['Message'].loc[self.loader.original.index]\n",
    "\n",
    "        df_moral = df_moral.round({'VVRate': 2, 'Vice Rate': 2, 'Virtue Rate': 2})\n",
    "        df_moral = df_moral.sort_values(by=['VVRate'], ascending=False)\n",
    "    \n",
    "        return df_moral\n",
    "    \n",
    "    def moral_words_wc(self,\n",
    "                       message_col:str, #Column with the messages\n",
    "                       media_names:str = None, #Column with media names\n",
    "                        media_list:list = None): \n",
    "\n",
    "        \"\"\"Creates a wordcloud with the virtue and vice words in the message_col column\"\"\"\n",
    "        if self.methods_available == False:\n",
    "            print('You need to process the data first')\n",
    "            return None\n",
    "        df = self.loader.processed\n",
    "        stop_words_es = set(stopwords.words('spanish'))\n",
    "        morales = set()\n",
    "        morales.update(self.loader.vice_dict.keys())\n",
    "        morales.update(self.loader.virtue_dict.keys())\n",
    "\n",
    "        if media_list:\n",
    "            page_names = media_list\n",
    "        else:   \n",
    "            page_names = df[media_names].unique()\n",
    "\n",
    "\n",
    "        for name in page_names:\n",
    "            page_df = df[df[media_names] == name]\n",
    "            \n",
    "            # Remove rows with empty messages\n",
    "            page_df = page_df[page_df[media_names].apply(lambda x: isinstance(x, str))]\n",
    "            \n",
    "            # Tokenize the messages and remove stop words\n",
    "            messages = ' '.join([word for sentence in page_df[message_col] for word in sentence.split() if word.lower() not in stop_words_es])\n",
    "            \n",
    "            # Filter only the words that are in the moral words set\n",
    "            moral_words = ' '.join([word for word in messages.split() if word.lower() in morales])\n",
    "\n",
    "            # Create wordclouds for general words and moral words\n",
    "            wordcloud_general = WordCloud(width=800, height=400).generate(messages)\n",
    "            wordcloud_morales = WordCloud(width=800, height=400).generate(moral_words)\n",
    "\n",
    "            # Show wordcloud for general words\n",
    "            plt.figure(figsize=(10, 5))\n",
    "            plt.imshow(wordcloud_general, interpolation='bilinear')\n",
    "            plt.title(f'Most Common Words in {name}')\n",
    "            plt.axis(\"off\")\n",
    "            plt.show()\n",
    "\n",
    "            # Show wordcloud for moral words\n",
    "            plt.figure(figsize=(10, 5))\n",
    "            plt.imshow(wordcloud_morales, interpolation='bilinear')\n",
    "            plt.title(f'Most Common Moral Words in {name}')\n",
    "            plt.axis(\"off\")\n",
    "            plt.show()\n"
   ]
  },
  {
   "cell_type": "code",
   "execution_count": null,
   "metadata": {},
   "outputs": [
    {
     "data": {
      "text/markdown": [
       "---\n",
       "\n",
       "### Analyzer.moral_words_count\n",
       "\n",
       ">      Analyzer.moral_words_count (message_col:str)\n",
       "\n",
       "Returns a dataframe with the count of virtue and vice words in each message in the message_col column\n",
       "\n",
       "|    | **Type** | **Details** |\n",
       "| -- | -------- | ----------- |\n",
       "| message_col | str | Column with the messages |\n",
       "| **Returns** | **DataFrame** | **DataFrame with extra counting columns** |"
      ],
      "text/plain": [
       "---\n",
       "\n",
       "### Analyzer.moral_words_count\n",
       "\n",
       ">      Analyzer.moral_words_count (message_col:str)\n",
       "\n",
       "Returns a dataframe with the count of virtue and vice words in each message in the message_col column\n",
       "\n",
       "|    | **Type** | **Details** |\n",
       "| -- | -------- | ----------- |\n",
       "| message_col | str | Column with the messages |\n",
       "| **Returns** | **DataFrame** | **DataFrame with extra counting columns** |"
      ]
     },
     "execution_count": null,
     "metadata": {},
     "output_type": "execute_result"
    }
   ],
   "source": [
    "show_doc(Analyzer.moral_words_count)"
   ]
  },
  {
   "cell_type": "code",
   "execution_count": null,
   "metadata": {},
   "outputs": [
    {
     "data": {
      "text/markdown": [
       "---\n",
       "\n",
       "### Analyzer.moral_words_wc\n",
       "\n",
       ">      Analyzer.moral_words_wc (message_col:str, media_names:str)\n",
       "\n",
       "Creates a wordcloud with the virtue and vice words in the message_col column\n",
       "\n",
       "|    | **Type** | **Details** |\n",
       "| -- | -------- | ----------- |\n",
       "| message_col | str | Column with the messages |\n",
       "| media_names | str | Column with media names |"
      ],
      "text/plain": [
       "---\n",
       "\n",
       "### Analyzer.moral_words_wc\n",
       "\n",
       ">      Analyzer.moral_words_wc (message_col:str, media_names:str)\n",
       "\n",
       "Creates a wordcloud with the virtue and vice words in the message_col column\n",
       "\n",
       "|    | **Type** | **Details** |\n",
       "| -- | -------- | ----------- |\n",
       "| message_col | str | Column with the messages |\n",
       "| media_names | str | Column with media names |"
      ]
     },
     "execution_count": null,
     "metadata": {},
     "output_type": "execute_result"
    }
   ],
   "source": [
    "show_doc(Analyzer.moral_words_wc)"
   ]
  }
 ],
 "metadata": {
  "kernelspec": {
   "display_name": ".env-web-scrap",
   "language": "python",
   "name": ".env-web-scrap"
  }
 },
 "nbformat": 4,
 "nbformat_minor": 2
}
