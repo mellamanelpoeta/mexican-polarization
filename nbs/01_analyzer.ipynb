{
 "cells": [
  {
   "cell_type": "markdown",
   "metadata": {},
   "source": [
    "# Analyzer\n",
    "\n",
    "> This class contains the main methods to make a polarization analysis"
   ]
  },
  {
   "cell_type": "code",
   "execution_count": 1,
   "metadata": {},
   "outputs": [],
   "source": [
    "#| default_exp Analyzer"
   ]
  },
  {
   "cell_type": "code",
   "execution_count": null,
   "metadata": {},
   "outputs": [],
   "source": [
    "#| hide\n",
    "from nbdev.showdoc import *"
   ]
  },
  {
   "cell_type": "code",
   "execution_count": null,
   "metadata": {},
   "outputs": [],
   "source": [
    "#| export\n",
    "import pandas as pd\n",
    "from unidecode import unidecode\n",
    "import regex as re\n",
    "from mexican_polarization.Loader import Loader \n",
    "from wordcloud import WordCloud\n",
    "from nltk.corpus import stopwords\n",
    "import matplotlib.pyplot as plt\n",
    "\n"
   ]
  },
  {
   "cell_type": "code",
   "execution_count": 4,
   "metadata": {},
   "outputs": [],
   "source": [
    "#| export\n",
    "class Analyzer:\n",
    "    def __init__(self,\n",
    "                 loader:Loader,\n",
    "                 ):\n",
    "        \"\"\"Constructor of the Analyzer class\"\"\"\n",
    "        if loader.processed_bool == False:\n",
    "            self.methods_available = False\n",
    "        else:\n",
    "            self.methods_available = True\n",
    "        self.loader = loader\n",
    "\n",
    "    def moral_words_count(self,\n",
    "                          message_col:str   #Column with the messages\n",
    "                          ) -> pd.DataFrame: #DataFrame with extra counting columns\n",
    "        \"\"\"Returns a dataframe with the count of virtue and vice words in each message in the message_col column\"\"\"\n",
    "        if self.methods_available == False:\n",
    "            print('You need to process the data first')\n",
    "            return None\n",
    "        vice_d = self.loader.vice_dict\n",
    "        virtue_d = self.loader.virtue_dict\n",
    "        df = self.loader.processed\n",
    "\n",
    "        vice = set(vice_d.keys())\n",
    "        virtue = set(virtue_d.keys())\n",
    "\n",
    "        def count_words(text,set_of_words):\n",
    "            words_in_text = text.lower().split()\n",
    "            i = 0\n",
    "            for word in words_in_text:\n",
    "                if word in set_of_words:\n",
    "                    i += 1\n",
    "            return i\n",
    "        \n",
    "        df['Vice words count'] = df[message_col].apply(lambda x: count_words(str(x),vice)) #¿POR QUE DEBO HACER EL CASTEO?\n",
    "        df['Virtue words count'] = df[message_col].apply(lambda x: count_words(str(x),virtue))\n",
    "\n",
    "        return df\n",
    "    \n",
    "        \n",
    "    def moral_words_wc(self,\n",
    "                       message_col:str, #Column with the messages\n",
    "                       media_names:str): #Column with media names\n",
    "        \"\"\"Creates a wordcloud with the virtue and vice words in the message_col column\"\"\"\n",
    "        if self.methods_available == False:\n",
    "            print('You need to process the data first')\n",
    "            return None\n",
    "        df = self.loader.processed\n",
    "        stop_words_es = set(stopwords.words('spanish'))\n",
    "        morales = set()\n",
    "        morales.update(self.loader.vice_dict.keys())\n",
    "        morales.update(self.loader.virtue_dict.keys())\n",
    "\n",
    "        page_names = df[media_names].unique()\n",
    "\n",
    "\n",
    "        for name in page_names:\n",
    "            page_df = df[df[media_names] == name]\n",
    "            \n",
    "            # Remove rows with empty messages\n",
    "            page_df = page_df[page_df[media_names].apply(lambda x: isinstance(x, str))]\n",
    "            \n",
    "            # Tokenize the messages and remove stop words\n",
    "            messages = ' '.join([word for sentence in page_df[message_col] for word in sentence.split() if word.lower() not in stop_words_es])\n",
    "            \n",
    "            # Filter only the words that are in the moral words set\n",
    "            moral_words = ' '.join([word for word in messages.split() if word.lower() in morales])\n",
    "\n",
    "            # Create wordclouds for general words and moral words\n",
    "            wordcloud_general = WordCloud(width=800, height=400).generate(messages)\n",
    "            wordcloud_morales = WordCloud(width=800, height=400).generate(moral_words)\n",
    "\n",
    "            # Show wordcloud for general words\n",
    "            plt.figure(figsize=(10, 5))\n",
    "            plt.imshow(wordcloud_general, interpolation='bilinear')\n",
    "            plt.title(f'Most Common Words in {name}')\n",
    "            plt.axis(\"off\")\n",
    "            plt.show()\n",
    "\n",
    "            # Show wordcloud for moral words\n",
    "            plt.figure(figsize=(10, 5))\n",
    "            plt.imshow(wordcloud_morales, interpolation='bilinear')\n",
    "            plt.title(f'Most Common Moral Words in {name}')\n",
    "            plt.axis(\"off\")\n",
    "            plt.show()\n"
   ]
  },
  {
   "cell_type": "code",
   "execution_count": null,
   "metadata": {},
   "outputs": [
    {
     "data": {
      "text/markdown": [
       "---\n",
       "\n",
       "### Analyzer.moral_words_count\n",
       "\n",
       ">      Analyzer.moral_words_count (message_col:str)\n",
       "\n",
       "Returns a dataframe with the count of virtue and vice words in each message in the message_col column\n",
       "\n",
       "|    | **Type** | **Details** |\n",
       "| -- | -------- | ----------- |\n",
       "| message_col | str | Column with the messages |\n",
       "| **Returns** | **DataFrame** | **DataFrame with extra counting columns** |"
      ],
      "text/plain": [
       "---\n",
       "\n",
       "### Analyzer.moral_words_count\n",
       "\n",
       ">      Analyzer.moral_words_count (message_col:str)\n",
       "\n",
       "Returns a dataframe with the count of virtue and vice words in each message in the message_col column\n",
       "\n",
       "|    | **Type** | **Details** |\n",
       "| -- | -------- | ----------- |\n",
       "| message_col | str | Column with the messages |\n",
       "| **Returns** | **DataFrame** | **DataFrame with extra counting columns** |"
      ]
     },
     "execution_count": null,
     "metadata": {},
     "output_type": "execute_result"
    }
   ],
   "source": [
    "show_doc(Analyzer.moral_words_count)"
   ]
  },
  {
   "cell_type": "code",
   "execution_count": null,
   "metadata": {},
   "outputs": [
    {
     "data": {
      "text/markdown": [
       "---\n",
       "\n",
       "### Analyzer.moral_words_wc\n",
       "\n",
       ">      Analyzer.moral_words_wc (message_col:str, media_names:str)\n",
       "\n",
       "Creates a wordcloud with the virtue and vice words in the message_col column\n",
       "\n",
       "|    | **Type** | **Details** |\n",
       "| -- | -------- | ----------- |\n",
       "| message_col | str | Column with the messages |\n",
       "| media_names | str | Column with media names |"
      ],
      "text/plain": [
       "---\n",
       "\n",
       "### Analyzer.moral_words_wc\n",
       "\n",
       ">      Analyzer.moral_words_wc (message_col:str, media_names:str)\n",
       "\n",
       "Creates a wordcloud with the virtue and vice words in the message_col column\n",
       "\n",
       "|    | **Type** | **Details** |\n",
       "| -- | -------- | ----------- |\n",
       "| message_col | str | Column with the messages |\n",
       "| media_names | str | Column with media names |"
      ]
     },
     "execution_count": null,
     "metadata": {},
     "output_type": "execute_result"
    }
   ],
   "source": [
    "show_doc(Analyzer.moral_words_wc)"
   ]
  }
 ],
 "metadata": {
  "kernelspec": {
   "display_name": ".env-web-scrap",
   "language": "python",
   "name": ".env-web-scrap"
  },
  "language_info": {
   "codemirror_mode": {
    "name": "ipython",
    "version": 3
   },
   "file_extension": ".py",
   "mimetype": "text/x-python",
   "name": "python",
   "nbconvert_exporter": "python",
   "pygments_lexer": "ipython3",
   "version": "3.10.13"
  }
 },
 "nbformat": 4,
 "nbformat_minor": 2
}
