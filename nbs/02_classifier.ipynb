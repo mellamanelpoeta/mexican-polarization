{
 "cells": [
  {
   "cell_type": "markdown",
   "metadata": {},
   "source": [
    "# Classifier\n",
    "> This is the class that creates the dictionary model"
   ]
  },
  {
   "cell_type": "code",
   "execution_count": 1,
   "metadata": {},
   "outputs": [],
   "source": [
    "#| default_exp Classifier"
   ]
  },
  {
   "cell_type": "code",
   "execution_count": 113,
   "metadata": {},
   "outputs": [],
   "source": [
    "#| hide\n",
    "from nbdev.showdoc import *\n",
    "from matplotlib import pyplot as plt"
   ]
  },
  {
   "cell_type": "code",
   "execution_count": 106,
   "metadata": {},
   "outputs": [],
   "source": [
    "#| export\n",
    "import pandas as pd\n",
    "import numpy as np\n",
    "from sklearn.neighbors import KNeighborsClassifier\n",
    "from sklearn.model_selection import train_test_split"
   ]
  },
  {
   "cell_type": "code",
   "execution_count": 88,
   "metadata": {},
   "outputs": [],
   "source": [
    "#negative_words file\n",
    "df = pd.read_csv('negative_words.csv')\n",
    "df = df.drop(columns=['original']) #drop it since it contains the concept with an * in it\n",
    "\n",
    "neg_words = [] \n",
    "for _, row in df.iterrows():\n",
    "    for item in row:\n",
    "        if pd.notnull(item):\n",
    "            neg_words.append(item)"
   ]
  },
  {
   "cell_type": "code",
   "execution_count": 89,
   "metadata": {},
   "outputs": [
    {
     "data": {
      "text/plain": [
       "1599"
      ]
     },
     "execution_count": 89,
     "metadata": {},
     "output_type": "execute_result"
    }
   ],
   "source": [
    "#Drop duplicates in neg_words:\n",
    "neg_words = list(set(neg_words))\n",
    "\n",
    "len(neg_words)"
   ]
  },
  {
   "cell_type": "code",
   "execution_count": 90,
   "metadata": {},
   "outputs": [
    {
     "name": "stdout",
     "output_type": "stream",
     "text": [
      "['moralidad']\n",
      "['moral']\n",
      "['etica']\n",
      "['etico']\n",
      "['principios']\n",
      "['valores']\n",
      "['bueno', ' buena']\n",
      "['bondadoso']\n",
      "['correcto']\n",
      "['erroneo', ' equivocado', ' incorrecto', ' malo']\n",
      "['justicia']\n",
      "['fechoria', ' pecado', ' indebido']\n",
      "['virtud']\n",
      "['vicioso']\n",
      "['moralidad']\n",
      "['etica']\n"
     ]
    }
   ],
   "source": [
    "#moral_foundations_dictionary file:\n",
    "df = pd.read_csv('moral_foundations_dictionary_1.0.csv')\n",
    "df = df[['categories','word_examples']]\n",
    "\n",
    "virtue = []\n",
    "vice = []\n",
    "for _, row in df.iterrows():\n",
    "    if pd.notnull(row['word_examples']):\n",
    "        words = row['word_examples'].split(',')\n",
    "        if 'Virtue' in row['categories']:\n",
    "            virtue.extend(words)\n",
    "        elif 'Vice' in row['categories']:\n",
    "            vice.extend(words)\n",
    "        else:\n",
    "            print(words)\n",
    "\n",
    "\n"
   ]
  },
  {
   "cell_type": "code",
   "execution_count": 91,
   "metadata": {},
   "outputs": [
    {
     "name": "stdout",
     "output_type": "stream",
     "text": [
      "vice examples:  ['arruinar', ' explotado', 'espionaje', 'delatar', 'desertar', 'aplastar', ' triturar', ' extraño', 'abandono', ' destruir']\n",
      "virtue examples:  [' sometido', 'patriotico', 'recto', ' cuadros', 'guadian', 'patria', ' controlar', ' vigilar', ' autoritario', 'legalidad']\n"
     ]
    }
   ],
   "source": [
    "virtue.extend(['moralidad','moral','etica','etico','principios','valores','bueno','buena','bondadoso','correcto','justicia','virtud','moralidad','etica'])\n",
    "vice.extend(['erroneo','equivocado','incorrecto','malo','fechoria','pecado','indebido','vicioso'])\n",
    "#Drop duplicates in virtue and vice:\n",
    "virtue = list(set(virtue))\n",
    "vice = list(set(vice))\n",
    "\n",
    "print('vice examples: ', vice[:10])\n",
    "print('virtue examples: ', virtue[:10])"
   ]
  },
  {
   "cell_type": "code",
   "execution_count": 92,
   "metadata": {},
   "outputs": [],
   "source": [
    "#Load the vectors data frame:\n",
    "def load_embeddings(file_path):\n",
    "    word_to_vec = {}\n",
    "    with open(file_path, 'r', encoding='utf-8') as file:\n",
    "        for line in file:\n",
    "            values = line.split()\n",
    "            word = values[0]\n",
    "            vector = np.array(values[1:], dtype='float32')\n",
    "            word_to_vec[word] = vector\n",
    "    return word_to_vec\n",
    "\n",
    "word_to_vec = load_embeddings('vectorspol.txt')"
   ]
  },
  {
   "cell_type": "code",
   "execution_count": 94,
   "metadata": {},
   "outputs": [],
   "source": [
    "one = set(vice)\n",
    "two = set(neg_words)\n",
    "\n",
    "vice = list(one.union(two))"
   ]
  },
  {
   "cell_type": "code",
   "execution_count": 95,
   "metadata": {},
   "outputs": [
    {
     "name": "stdout",
     "output_type": "stream",
     "text": [
      "1936\n"
     ]
    }
   ],
   "source": [
    "print(len(vice)+len(virtue))"
   ]
  },
  {
   "cell_type": "code",
   "execution_count": 96,
   "metadata": {},
   "outputs": [],
   "source": [
    "#| export\n",
    "class Classifier:\n",
    "    def __init__(self):\n",
    "        self.embeddings = None\n",
    "        self.vice = None\n",
    "        self.virtue = None\n",
    "\n",
    "    def load_embeddings(file_path):\n",
    "        '''Loads the embeddings from a file and returns a dictionary with the words as keys and the vectors as values'''\n",
    "        word_to_vec = {}\n",
    "        with open(file_path, 'r', encoding='utf-8') as file:\n",
    "            for line in file:\n",
    "                values = line.split()\n",
    "                word = values[0]\n",
    "                vector = np.array(values[1:], dtype='float32')\n",
    "                print(vector.shape)\n",
    "                word_to_vec[word] = vector\n",
    "        self.embeddings = word_to_vec\n",
    "        return word_to_vec\n",
    "    \n",
    "    \n",
    "    def list_to_vec(vice, virtue, word_to_vec):\n",
    "        '''Returns the vector representation of a list of words in a df'''\n",
    "        data = {'word': [], 'vector': [], 'category': []}\n",
    "        for word in vice:\n",
    "            if word in word_to_vec.keys():\n",
    "                data['word'].append(word)\n",
    "                data['vector'].append(word_to_vec[word])\n",
    "                data['category'].append(0.0) #vice will be represented as 0\n",
    "            else:\n",
    "                data['word'].append(word)\n",
    "                data['vector'].append(np.nan)\n",
    "                data['category'].append(0.0) \n",
    "        \n",
    "        for word in virtue:\n",
    "            if word in word_to_vec.keys():\n",
    "                data['word'].append(word)\n",
    "                data['vector'].append(word_to_vec[word])\n",
    "                data['category'].append(1.0) #virtue will be represented as 1\n",
    "            else:\n",
    "                data['word'].append(word)\n",
    "                data['vector'].append(np.nan)\n",
    "                data['category'].append(1.0)\n",
    "\n",
    "        df = pd.DataFrame(data)\n",
    "        return df"
   ]
  },
  {
   "cell_type": "code",
   "execution_count": 97,
   "metadata": {},
   "outputs": [
    {
     "name": "stdout",
     "output_type": "stream",
     "text": [
      "Total words:  1936\n",
      "Total words after dropping NaN:  1015\n",
      "∆:  921\n",
      "∆%: 47.57\n"
     ]
    },
    {
     "data": {
      "text/html": [
       "<div>\n",
       "<style scoped>\n",
       "    .dataframe tbody tr th:only-of-type {\n",
       "        vertical-align: middle;\n",
       "    }\n",
       "\n",
       "    .dataframe tbody tr th {\n",
       "        vertical-align: top;\n",
       "    }\n",
       "\n",
       "    .dataframe thead th {\n",
       "        text-align: right;\n",
       "    }\n",
       "</style>\n",
       "<table border=\"1\" class=\"dataframe\">\n",
       "  <thead>\n",
       "    <tr style=\"text-align: right;\">\n",
       "      <th></th>\n",
       "      <th>word</th>\n",
       "      <th>vector</th>\n",
       "      <th>category</th>\n",
       "    </tr>\n",
       "  </thead>\n",
       "  <tbody>\n",
       "    <tr>\n",
       "      <th>0</th>\n",
       "      <td>enfadado</td>\n",
       "      <td>[0.331249, -0.051375, 0.114062, 0.006835, 0.25...</td>\n",
       "      <td>0.0</td>\n",
       "    </tr>\n",
       "    <tr>\n",
       "      <th>1</th>\n",
       "      <td>combativo</td>\n",
       "      <td>[-0.524794, 0.377421, -0.451236, -0.278488, 0....</td>\n",
       "      <td>0.0</td>\n",
       "    </tr>\n",
       "    <tr>\n",
       "      <th>2</th>\n",
       "      <td>arruinar</td>\n",
       "      <td>[0.369527, 0.341969, 0.576228, 0.253873, -0.11...</td>\n",
       "      <td>0.0</td>\n",
       "    </tr>\n",
       "    <tr>\n",
       "      <th>3</th>\n",
       "      <td>fatal</td>\n",
       "      <td>[-0.077049, -1.069112, 0.972782, 0.419374, 0.0...</td>\n",
       "      <td>0.0</td>\n",
       "    </tr>\n",
       "    <tr>\n",
       "      <th>4</th>\n",
       "      <td>furia</td>\n",
       "      <td>[0.167831, -0.13676, 0.101164, 0.180804, -0.24...</td>\n",
       "      <td>0.0</td>\n",
       "    </tr>\n",
       "    <tr>\n",
       "      <th>...</th>\n",
       "      <td>...</td>\n",
       "      <td>...</td>\n",
       "      <td>...</td>\n",
       "    </tr>\n",
       "    <tr>\n",
       "      <th>1010</th>\n",
       "      <td>justo</td>\n",
       "      <td>[0.2676, 0.02936, 0.478917, 0.353459, 0.068529...</td>\n",
       "      <td>1.0</td>\n",
       "    </tr>\n",
       "    <tr>\n",
       "      <th>1011</th>\n",
       "      <td>equidad</td>\n",
       "      <td>[-0.05194, -0.447539, -0.369943, 0.367933, 0.3...</td>\n",
       "      <td>1.0</td>\n",
       "    </tr>\n",
       "    <tr>\n",
       "      <th>1012</th>\n",
       "      <td>seguir</td>\n",
       "      <td>[0.929292, 0.084175, -0.086734, 0.031077, -0.4...</td>\n",
       "      <td>1.0</td>\n",
       "    </tr>\n",
       "    <tr>\n",
       "      <th>1013</th>\n",
       "      <td>equivalente</td>\n",
       "      <td>[0.072723, -0.031619, -0.847589, 0.129053, -0....</td>\n",
       "      <td>1.0</td>\n",
       "    </tr>\n",
       "    <tr>\n",
       "      <th>1014</th>\n",
       "      <td>castigo</td>\n",
       "      <td>[0.300206, 0.182386, -0.113264, 0.146073, -0.6...</td>\n",
       "      <td>1.0</td>\n",
       "    </tr>\n",
       "  </tbody>\n",
       "</table>\n",
       "<p>1015 rows × 3 columns</p>\n",
       "</div>"
      ],
      "text/plain": [
       "             word                                             vector  category\n",
       "0        enfadado  [0.331249, -0.051375, 0.114062, 0.006835, 0.25...       0.0\n",
       "1       combativo  [-0.524794, 0.377421, -0.451236, -0.278488, 0....       0.0\n",
       "2        arruinar  [0.369527, 0.341969, 0.576228, 0.253873, -0.11...       0.0\n",
       "3           fatal  [-0.077049, -1.069112, 0.972782, 0.419374, 0.0...       0.0\n",
       "4           furia  [0.167831, -0.13676, 0.101164, 0.180804, -0.24...       0.0\n",
       "...           ...                                                ...       ...\n",
       "1010        justo  [0.2676, 0.02936, 0.478917, 0.353459, 0.068529...       1.0\n",
       "1011      equidad  [-0.05194, -0.447539, -0.369943, 0.367933, 0.3...       1.0\n",
       "1012       seguir  [0.929292, 0.084175, -0.086734, 0.031077, -0.4...       1.0\n",
       "1013  equivalente  [0.072723, -0.031619, -0.847589, 0.129053, -0....       1.0\n",
       "1014      castigo  [0.300206, 0.182386, -0.113264, 0.146073, -0.6...       1.0\n",
       "\n",
       "[1015 rows x 3 columns]"
      ]
     },
     "execution_count": 97,
     "metadata": {},
     "output_type": "execute_result"
    }
   ],
   "source": [
    "def list_to_vec(vice, virtue, word_to_vec):\n",
    "    '''Returns the vector representation of a list of words in a df'''\n",
    "    data = {'word': [], 'vector': [], 'category': []}\n",
    "    for word in vice:\n",
    "        if word in word_to_vec.keys():\n",
    "            data['word'].append(word)\n",
    "            data['vector'].append(word_to_vec[word])\n",
    "            data['category'].append(0.0) #vice will be represented as 0\n",
    "        else:\n",
    "            data['word'].append(word)\n",
    "            data['vector'].append(np.nan)\n",
    "            data['category'].append(0.0) \n",
    "    \n",
    "    for word in virtue:\n",
    "        if word in word_to_vec.keys():\n",
    "            data['word'].append(word)\n",
    "            data['vector'].append(word_to_vec[word])\n",
    "            data['category'].append(1.0) #virtue will be represented as 1\n",
    "        else:\n",
    "            data['word'].append(word)\n",
    "            data['vector'].append(np.nan)\n",
    "            data['category'].append(1.0)\n",
    "\n",
    "    df = pd.DataFrame(data)\n",
    "    return df\n",
    "\n",
    "df = list_to_vec(vice,virtue,word_to_vec)\n",
    "total = len(df)\n",
    "print('Total words: ',total)\n",
    "df.dropna(inplace=True)\n",
    "df.reset_index(inplace=True,drop=True)\n",
    "print('Total words after dropping NaN: ',len(df))\n",
    "print('∆: ',total-len(df))\n",
    "print('∆%:', round((total-len(df))/total*100,2) )\n",
    "df"
   ]
  },
  {
   "cell_type": "code",
   "execution_count": 98,
   "metadata": {},
   "outputs": [
    {
     "data": {
      "text/html": [
       "<div>\n",
       "<style scoped>\n",
       "    .dataframe tbody tr th:only-of-type {\n",
       "        vertical-align: middle;\n",
       "    }\n",
       "\n",
       "    .dataframe tbody tr th {\n",
       "        vertical-align: top;\n",
       "    }\n",
       "\n",
       "    .dataframe thead th {\n",
       "        text-align: right;\n",
       "    }\n",
       "</style>\n",
       "<table border=\"1\" class=\"dataframe\">\n",
       "  <thead>\n",
       "    <tr style=\"text-align: right;\">\n",
       "      <th></th>\n",
       "      <th>word</th>\n",
       "      <th>vector</th>\n",
       "      <th>category</th>\n",
       "    </tr>\n",
       "  </thead>\n",
       "  <tbody>\n",
       "    <tr>\n",
       "      <th>0</th>\n",
       "      <td>enfadado</td>\n",
       "      <td>[0.331249, -0.051375, 0.114062, 0.006835, 0.25...</td>\n",
       "      <td>0.0</td>\n",
       "    </tr>\n",
       "    <tr>\n",
       "      <th>1</th>\n",
       "      <td>combativo</td>\n",
       "      <td>[-0.524794, 0.377421, -0.451236, -0.278488, 0....</td>\n",
       "      <td>0.0</td>\n",
       "    </tr>\n",
       "    <tr>\n",
       "      <th>2</th>\n",
       "      <td>arruinar</td>\n",
       "      <td>[0.369527, 0.341969, 0.576228, 0.253873, -0.11...</td>\n",
       "      <td>0.0</td>\n",
       "    </tr>\n",
       "    <tr>\n",
       "      <th>3</th>\n",
       "      <td>fatal</td>\n",
       "      <td>[-0.077049, -1.069112, 0.972782, 0.419374, 0.0...</td>\n",
       "      <td>0.0</td>\n",
       "    </tr>\n",
       "    <tr>\n",
       "      <th>4</th>\n",
       "      <td>furia</td>\n",
       "      <td>[0.167831, -0.13676, 0.101164, 0.180804, -0.24...</td>\n",
       "      <td>0.0</td>\n",
       "    </tr>\n",
       "    <tr>\n",
       "      <th>...</th>\n",
       "      <td>...</td>\n",
       "      <td>...</td>\n",
       "      <td>...</td>\n",
       "    </tr>\n",
       "    <tr>\n",
       "      <th>896</th>\n",
       "      <td>mentira</td>\n",
       "      <td>[0.018032, -0.723217, 0.51755, 0.501916, -0.35...</td>\n",
       "      <td>0.0</td>\n",
       "    </tr>\n",
       "    <tr>\n",
       "      <th>897</th>\n",
       "      <td>contiendas</td>\n",
       "      <td>[-0.320461, -0.862633, 0.520723, 0.02839, -0.0...</td>\n",
       "      <td>0.0</td>\n",
       "    </tr>\n",
       "    <tr>\n",
       "      <th>898</th>\n",
       "      <td>preocupo</td>\n",
       "      <td>[0.022981, 0.441229, 0.015648, -0.033112, 0.22...</td>\n",
       "      <td>0.0</td>\n",
       "    </tr>\n",
       "    <tr>\n",
       "      <th>899</th>\n",
       "      <td>teme</td>\n",
       "      <td>[0.104233, -0.136537, -0.013065, 0.150914, -0....</td>\n",
       "      <td>0.0</td>\n",
       "    </tr>\n",
       "    <tr>\n",
       "      <th>900</th>\n",
       "      <td>enojado</td>\n",
       "      <td>[0.217171, 0.25545, -0.065049, 0.573992, 0.244...</td>\n",
       "      <td>0.0</td>\n",
       "    </tr>\n",
       "  </tbody>\n",
       "</table>\n",
       "<p>901 rows × 3 columns</p>\n",
       "</div>"
      ],
      "text/plain": [
       "           word                                             vector  category\n",
       "0      enfadado  [0.331249, -0.051375, 0.114062, 0.006835, 0.25...       0.0\n",
       "1     combativo  [-0.524794, 0.377421, -0.451236, -0.278488, 0....       0.0\n",
       "2      arruinar  [0.369527, 0.341969, 0.576228, 0.253873, -0.11...       0.0\n",
       "3         fatal  [-0.077049, -1.069112, 0.972782, 0.419374, 0.0...       0.0\n",
       "4         furia  [0.167831, -0.13676, 0.101164, 0.180804, -0.24...       0.0\n",
       "..          ...                                                ...       ...\n",
       "896     mentira  [0.018032, -0.723217, 0.51755, 0.501916, -0.35...       0.0\n",
       "897  contiendas  [-0.320461, -0.862633, 0.520723, 0.02839, -0.0...       0.0\n",
       "898    preocupo  [0.022981, 0.441229, 0.015648, -0.033112, 0.22...       0.0\n",
       "899        teme  [0.104233, -0.136537, -0.013065, 0.150914, -0....       0.0\n",
       "900     enojado  [0.217171, 0.25545, -0.065049, 0.573992, 0.244...       0.0\n",
       "\n",
       "[901 rows x 3 columns]"
      ]
     },
     "execution_count": 98,
     "metadata": {},
     "output_type": "execute_result"
    }
   ],
   "source": [
    "df[df['category'] == 0.0]"
   ]
  },
  {
   "cell_type": "code",
   "execution_count": 99,
   "metadata": {},
   "outputs": [
    {
     "data": {
      "text/html": [
       "<div>\n",
       "<style scoped>\n",
       "    .dataframe tbody tr th:only-of-type {\n",
       "        vertical-align: middle;\n",
       "    }\n",
       "\n",
       "    .dataframe tbody tr th {\n",
       "        vertical-align: top;\n",
       "    }\n",
       "\n",
       "    .dataframe thead th {\n",
       "        text-align: right;\n",
       "    }\n",
       "</style>\n",
       "<table border=\"1\" class=\"dataframe\">\n",
       "  <thead>\n",
       "    <tr style=\"text-align: right;\">\n",
       "      <th></th>\n",
       "      <th>word</th>\n",
       "      <th>vector</th>\n",
       "      <th>category</th>\n",
       "    </tr>\n",
       "  </thead>\n",
       "  <tbody>\n",
       "    <tr>\n",
       "      <th>0</th>\n",
       "      <td>patriotico</td>\n",
       "      <td>[-0.391148, -0.314462, -0.495306, -0.404786, -...</td>\n",
       "      <td>1.0</td>\n",
       "    </tr>\n",
       "    <tr>\n",
       "      <th>1</th>\n",
       "      <td>recto</td>\n",
       "      <td>[-0.021141, 0.448575, -0.220464, 0.467975, 0.2...</td>\n",
       "      <td>1.0</td>\n",
       "    </tr>\n",
       "    <tr>\n",
       "      <th>2</th>\n",
       "      <td>patria</td>\n",
       "      <td>[0.003204, -0.04956, -0.590258, -0.435866, 0.0...</td>\n",
       "      <td>1.0</td>\n",
       "    </tr>\n",
       "    <tr>\n",
       "      <th>3</th>\n",
       "      <td>legalidad</td>\n",
       "      <td>[-0.301906, -0.196408, -0.416985, 0.346942, 0....</td>\n",
       "      <td>1.0</td>\n",
       "    </tr>\n",
       "    <tr>\n",
       "      <th>4</th>\n",
       "      <td>legitimidad</td>\n",
       "      <td>[-0.043358, -0.593217, -0.050186, 0.157775, 0....</td>\n",
       "      <td>1.0</td>\n",
       "    </tr>\n",
       "    <tr>\n",
       "      <th>...</th>\n",
       "      <td>...</td>\n",
       "      <td>...</td>\n",
       "      <td>...</td>\n",
       "    </tr>\n",
       "    <tr>\n",
       "      <th>109</th>\n",
       "      <td>justo</td>\n",
       "      <td>[0.2676, 0.02936, 0.478917, 0.353459, 0.068529...</td>\n",
       "      <td>1.0</td>\n",
       "    </tr>\n",
       "    <tr>\n",
       "      <th>110</th>\n",
       "      <td>equidad</td>\n",
       "      <td>[-0.05194, -0.447539, -0.369943, 0.367933, 0.3...</td>\n",
       "      <td>1.0</td>\n",
       "    </tr>\n",
       "    <tr>\n",
       "      <th>111</th>\n",
       "      <td>seguir</td>\n",
       "      <td>[0.929292, 0.084175, -0.086734, 0.031077, -0.4...</td>\n",
       "      <td>1.0</td>\n",
       "    </tr>\n",
       "    <tr>\n",
       "      <th>112</th>\n",
       "      <td>equivalente</td>\n",
       "      <td>[0.072723, -0.031619, -0.847589, 0.129053, -0....</td>\n",
       "      <td>1.0</td>\n",
       "    </tr>\n",
       "    <tr>\n",
       "      <th>113</th>\n",
       "      <td>castigo</td>\n",
       "      <td>[0.300206, 0.182386, -0.113264, 0.146073, -0.6...</td>\n",
       "      <td>1.0</td>\n",
       "    </tr>\n",
       "  </tbody>\n",
       "</table>\n",
       "<p>114 rows × 3 columns</p>\n",
       "</div>"
      ],
      "text/plain": [
       "            word                                             vector  category\n",
       "0     patriotico  [-0.391148, -0.314462, -0.495306, -0.404786, -...       1.0\n",
       "1          recto  [-0.021141, 0.448575, -0.220464, 0.467975, 0.2...       1.0\n",
       "2         patria  [0.003204, -0.04956, -0.590258, -0.435866, 0.0...       1.0\n",
       "3      legalidad  [-0.301906, -0.196408, -0.416985, 0.346942, 0....       1.0\n",
       "4    legitimidad  [-0.043358, -0.593217, -0.050186, 0.157775, 0....       1.0\n",
       "..           ...                                                ...       ...\n",
       "109        justo  [0.2676, 0.02936, 0.478917, 0.353459, 0.068529...       1.0\n",
       "110      equidad  [-0.05194, -0.447539, -0.369943, 0.367933, 0.3...       1.0\n",
       "111       seguir  [0.929292, 0.084175, -0.086734, 0.031077, -0.4...       1.0\n",
       "112  equivalente  [0.072723, -0.031619, -0.847589, 0.129053, -0....       1.0\n",
       "113      castigo  [0.300206, 0.182386, -0.113264, 0.146073, -0.6...       1.0\n",
       "\n",
       "[114 rows x 3 columns]"
      ]
     },
     "execution_count": 99,
     "metadata": {},
     "output_type": "execute_result"
    }
   ],
   "source": [
    "df[df['category'] == 1.0].reset_index(drop=True)"
   ]
  },
  {
   "cell_type": "code",
   "execution_count": 131,
   "metadata": {},
   "outputs": [],
   "source": [
    "X_train, X_test, y_train, y_test = train_test_split(df['vector'], df['category'], test_size=0.2, random_state=21,stratify=df['category'])\n"
   ]
  },
  {
   "cell_type": "code",
   "execution_count": 132,
   "metadata": {},
   "outputs": [],
   "source": [
    "X_train = X_train.to_list()\n"
   ]
  },
  {
   "cell_type": "code",
   "execution_count": 133,
   "metadata": {},
   "outputs": [
    {
     "data": {
      "text/html": [
       "<style>#sk-container-id-10 {color: black;}#sk-container-id-10 pre{padding: 0;}#sk-container-id-10 div.sk-toggleable {background-color: white;}#sk-container-id-10 label.sk-toggleable__label {cursor: pointer;display: block;width: 100%;margin-bottom: 0;padding: 0.3em;box-sizing: border-box;text-align: center;}#sk-container-id-10 label.sk-toggleable__label-arrow:before {content: \"▸\";float: left;margin-right: 0.25em;color: #696969;}#sk-container-id-10 label.sk-toggleable__label-arrow:hover:before {color: black;}#sk-container-id-10 div.sk-estimator:hover label.sk-toggleable__label-arrow:before {color: black;}#sk-container-id-10 div.sk-toggleable__content {max-height: 0;max-width: 0;overflow: hidden;text-align: left;background-color: #f0f8ff;}#sk-container-id-10 div.sk-toggleable__content pre {margin: 0.2em;color: black;border-radius: 0.25em;background-color: #f0f8ff;}#sk-container-id-10 input.sk-toggleable__control:checked~div.sk-toggleable__content {max-height: 200px;max-width: 100%;overflow: auto;}#sk-container-id-10 input.sk-toggleable__control:checked~label.sk-toggleable__label-arrow:before {content: \"▾\";}#sk-container-id-10 div.sk-estimator input.sk-toggleable__control:checked~label.sk-toggleable__label {background-color: #d4ebff;}#sk-container-id-10 div.sk-label input.sk-toggleable__control:checked~label.sk-toggleable__label {background-color: #d4ebff;}#sk-container-id-10 input.sk-hidden--visually {border: 0;clip: rect(1px 1px 1px 1px);clip: rect(1px, 1px, 1px, 1px);height: 1px;margin: -1px;overflow: hidden;padding: 0;position: absolute;width: 1px;}#sk-container-id-10 div.sk-estimator {font-family: monospace;background-color: #f0f8ff;border: 1px dotted black;border-radius: 0.25em;box-sizing: border-box;margin-bottom: 0.5em;}#sk-container-id-10 div.sk-estimator:hover {background-color: #d4ebff;}#sk-container-id-10 div.sk-parallel-item::after {content: \"\";width: 100%;border-bottom: 1px solid gray;flex-grow: 1;}#sk-container-id-10 div.sk-label:hover label.sk-toggleable__label {background-color: #d4ebff;}#sk-container-id-10 div.sk-serial::before {content: \"\";position: absolute;border-left: 1px solid gray;box-sizing: border-box;top: 0;bottom: 0;left: 50%;z-index: 0;}#sk-container-id-10 div.sk-serial {display: flex;flex-direction: column;align-items: center;background-color: white;padding-right: 0.2em;padding-left: 0.2em;position: relative;}#sk-container-id-10 div.sk-item {position: relative;z-index: 1;}#sk-container-id-10 div.sk-parallel {display: flex;align-items: stretch;justify-content: center;background-color: white;position: relative;}#sk-container-id-10 div.sk-item::before, #sk-container-id-10 div.sk-parallel-item::before {content: \"\";position: absolute;border-left: 1px solid gray;box-sizing: border-box;top: 0;bottom: 0;left: 50%;z-index: -1;}#sk-container-id-10 div.sk-parallel-item {display: flex;flex-direction: column;z-index: 1;position: relative;background-color: white;}#sk-container-id-10 div.sk-parallel-item:first-child::after {align-self: flex-end;width: 50%;}#sk-container-id-10 div.sk-parallel-item:last-child::after {align-self: flex-start;width: 50%;}#sk-container-id-10 div.sk-parallel-item:only-child::after {width: 0;}#sk-container-id-10 div.sk-dashed-wrapped {border: 1px dashed gray;margin: 0 0.4em 0.5em 0.4em;box-sizing: border-box;padding-bottom: 0.4em;background-color: white;}#sk-container-id-10 div.sk-label label {font-family: monospace;font-weight: bold;display: inline-block;line-height: 1.2em;}#sk-container-id-10 div.sk-label-container {text-align: center;}#sk-container-id-10 div.sk-container {/* jupyter's `normalize.less` sets `[hidden] { display: none; }` but bootstrap.min.css set `[hidden] { display: none !important; }` so we also need the `!important` here to be able to override the default hidden behavior on the sphinx rendered scikit-learn.org. See: https://github.com/scikit-learn/scikit-learn/issues/21755 */display: inline-block !important;position: relative;}#sk-container-id-10 div.sk-text-repr-fallback {display: none;}</style><div id=\"sk-container-id-10\" class=\"sk-top-container\"><div class=\"sk-text-repr-fallback\"><pre>KNeighborsClassifier(n_neighbors=3)</pre><b>In a Jupyter environment, please rerun this cell to show the HTML representation or trust the notebook. <br />On GitHub, the HTML representation is unable to render, please try loading this page with nbviewer.org.</b></div><div class=\"sk-container\" hidden><div class=\"sk-item\"><div class=\"sk-estimator sk-toggleable\"><input class=\"sk-toggleable__control sk-hidden--visually\" id=\"sk-estimator-id-10\" type=\"checkbox\" checked><label for=\"sk-estimator-id-10\" class=\"sk-toggleable__label sk-toggleable__label-arrow\">KNeighborsClassifier</label><div class=\"sk-toggleable__content\"><pre>KNeighborsClassifier(n_neighbors=3)</pre></div></div></div></div></div>"
      ],
      "text/plain": [
       "KNeighborsClassifier(n_neighbors=3)"
      ]
     },
     "execution_count": 133,
     "metadata": {},
     "output_type": "execute_result"
    }
   ],
   "source": [
    "knn = KNeighborsClassifier(n_neighbors=3)\n",
    "knn.fit(X_train, y_train)\n"
   ]
  },
  {
   "cell_type": "code",
   "execution_count": 134,
   "metadata": {},
   "outputs": [],
   "source": [
    "X_test = X_test.to_list()"
   ]
  },
  {
   "cell_type": "code",
   "execution_count": 135,
   "metadata": {},
   "outputs": [
    {
     "name": "stdout",
     "output_type": "stream",
     "text": [
      "0.926\n"
     ]
    }
   ],
   "source": [
    "print(round(knn.score(X_test, y_test),3))"
   ]
  },
  {
   "cell_type": "code",
   "execution_count": 137,
   "metadata": {},
   "outputs": [
    {
     "name": "stderr",
     "output_type": "stream",
     "text": [
      "No artists with labels found to put in legend.  Note that artists whose label start with an underscore are ignored when legend() is called with no argument.\n"
     ]
    },
    {
     "data": {
      "image/png": "[encoded data removed]",
      "text/plain": [
       "<Figure size 800x600 with 1 Axes>"
      ]
     },
     "metadata": {},
     "output_type": "display_data"
    },
    {
     "name": "stdout",
     "output_type": "stream",
     "text": [
      "Best accuracy and number of neighbours:  (3, 0.9261083743842364)\n"
     ]
    }
   ],
   "source": [
    "test_accuracies = {}\n",
    "neighbours = range(1, 30)\n",
    "\n",
    "for neighbour in neighbours:\n",
    "    knn = KNeighborsClassifier(n_neighbors=neighbour)\n",
    "    knn.fit(X_train, y_train)\n",
    "    test_accuracies[neighbour] = knn.score(X_test, y_test)\n",
    "    \n",
    "plt.figure(figsize=(8,6))\n",
    "plt.title('KNN Accuracy: Varying number of neighbours')\n",
    "plt.plot(list(test_accuracies.keys()), list(test_accuracies.values()))\n",
    "plt.legend()\n",
    "plt.xlabel('Number of neighbours')\n",
    "plt.ylabel('Accuracy')\n",
    "plt.show()\n",
    "\n",
    "print('Best accuracy and number of neighbours: ', max(test_accuracies.items(), key=lambda x: x[1]))"
   ]
  }
 ],
 "metadata": {
  "kernelspec": {
   "display_name": ".env-web-scrap",
   "language": "python",
   "name": ".env-web-scrap"
  },
  "language_info": {
   "codemirror_mode": {
    "name": "ipython",
    "version": 3
   },
   "file_extension": ".py",
   "mimetype": "text/x-python",
   "name": "python",
   "nbconvert_exporter": "python",
   "pygments_lexer": "ipython3",
   "version": "3.10.13"
  }
 },
 "nbformat": 4,
 "nbformat_minor": 2
}
