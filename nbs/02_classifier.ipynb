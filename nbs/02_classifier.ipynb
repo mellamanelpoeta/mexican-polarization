{
 "cells": [
  {
   "cell_type": "markdown",
   "metadata": {},
   "source": [
    "# Classifier\n",
    "> This is the class that creates the dictionary model"
   ]
  },
  {
   "cell_type": "code",
   "execution_count": 1,
   "metadata": {},
   "outputs": [],
   "source": [
    "#| default_exp Classifier"
   ]
  },
  {
   "cell_type": "code",
   "execution_count": 2,
   "metadata": {},
   "outputs": [
    {
     "name": "stdout",
     "output_type": "stream",
     "text": [
      "Intel MKL WARNING: Support of Intel(R) Streaming SIMD Extensions 4.2 (Intel(R) SSE4.2) enabled only processors has been deprecated. Intel oneAPI Math Kernel Library 2025.0 will require Intel(R) Advanced Vector Extensions (Intel(R) AVX) instructions.\n",
      "Intel MKL WARNING: Support of Intel(R) Streaming SIMD Extensions 4.2 (Intel(R) SSE4.2) enabled only processors has been deprecated. Intel oneAPI Math Kernel Library 2025.0 will require Intel(R) Advanced Vector Extensions (Intel(R) AVX) instructions.\n"
     ]
    }
   ],
   "source": [
    "#| hide\n",
    "from nbdev.showdoc import *\n",
    "from matplotlib import pyplot as plt"
   ]
  },
  {
   "cell_type": "code",
   "execution_count": 3,
   "metadata": {},
   "outputs": [],
   "source": [
    "#| export\n",
    "import pandas as pd\n",
    "import numpy as np\n",
    "from sklearn.neighbors import KNeighborsClassifier\n",
    "from sklearn.model_selection import train_test_split"
   ]
  },
  {
   "cell_type": "code",
   "execution_count": 4,
   "metadata": {},
   "outputs": [],
   "source": [
    "#negative_words file\n",
    "df = pd.read_csv('negative_words.csv')\n",
    "df = df.drop(columns=['original']) #drop it since it contains the concept with an * in it\n",
    "\n",
    "neg_words = [] \n",
    "for _, row in df.iterrows():\n",
    "    for item in row:\n",
    "        if pd.notnull(item):\n",
    "            neg_words.append(item)"
   ]
  },
  {
   "cell_type": "code",
   "execution_count": 5,
   "metadata": {},
   "outputs": [
    {
     "data": {
      "text/plain": [
       "1599"
      ]
     },
     "execution_count": 5,
     "metadata": {},
     "output_type": "execute_result"
    }
   ],
   "source": [
    "#Drop duplicates in neg_words:\n",
    "neg_words = list(set(neg_words))\n",
    "\n",
    "len(neg_words)"
   ]
  },
  {
   "cell_type": "code",
   "execution_count": 6,
   "metadata": {},
   "outputs": [
    {
     "name": "stdout",
     "output_type": "stream",
     "text": [
      "['moralidad']\n",
      "['moral']\n",
      "['etica']\n",
      "['etico']\n",
      "['principios']\n",
      "['valores']\n",
      "['bueno', ' buena']\n",
      "['bondadoso']\n",
      "['correcto']\n",
      "['erroneo', ' equivocado', ' incorrecto', ' malo']\n",
      "['justicia']\n",
      "['fechoria', ' pecado', ' indebido']\n",
      "['virtud']\n",
      "['vicioso']\n",
      "['moralidad']\n",
      "['etica']\n"
     ]
    }
   ],
   "source": [
    "#moral_foundations_dictionary file:\n",
    "df = pd.read_csv('moral_foundations_dictionary_1.0.csv')\n",
    "df = df[['categories','word_examples']]\n",
    "\n",
    "virtue = []\n",
    "vice = []\n",
    "for _, row in df.iterrows():\n",
    "    if pd.notnull(row['word_examples']):\n",
    "        words = row['word_examples'].split(',')\n",
    "        if 'Virtue' in row['categories']:\n",
    "            virtue.extend(words)\n",
    "        elif 'Vice' in row['categories']:\n",
    "            vice.extend(words)\n",
    "        else:\n",
    "            print(words)\n",
    "\n",
    "\n"
   ]
  },
  {
   "cell_type": "code",
   "execution_count": 7,
   "metadata": {},
   "outputs": [
    {
     "name": "stdout",
     "output_type": "stream",
     "text": [
      "vice examples:  ['guerrero', 'arrasar', ' tendenciosa', ' mató', ' lesionar', ' sufrimiento', 'aprovechador', ' destruir', ' lastimar', ' explotando']\n",
      "virtue examples:  ['amistad', ' supremo', ' simpatico', 'inmaculado', ' imparcial', ' sumisión', 'acatar', 'modestia', ' empatico', 'recto']\n"
     ]
    }
   ],
   "source": [
    "virtue.extend(['moralidad','moral','etica','etico','principios','valores','bueno','buena','bondadoso','correcto','justicia','virtud','moralidad','etica'])\n",
    "vice.extend(['erroneo','equivocado','incorrecto','malo','fechoria','pecado','indebido','vicioso'])\n",
    "#Drop duplicates in virtue and vice:\n",
    "virtue = list(set(virtue))\n",
    "vice = list(set(vice))\n",
    "\n",
    "print('vice examples: ', vice[:10])\n",
    "print('virtue examples: ', virtue[:10])"
   ]
  },
  {
   "cell_type": "code",
   "execution_count": 8,
   "metadata": {},
   "outputs": [],
   "source": [
    "#Load the embeddings to data frame:\n",
    "def load_embeddings(file_path):\n",
    "    word_to_vec = {}\n",
    "    with open(file_path, 'r', encoding='utf-8') as file:\n",
    "        for line in file:\n",
    "            values = line.split()\n",
    "            word = values[0]\n",
    "            vector = np.array(values[1:], dtype='float32')\n",
    "            word_to_vec[word] = vector\n",
    "    return word_to_vec\n",
    "\n",
    "word_to_vec = load_embeddings('vectorspol.txt')"
   ]
  },
  {
   "cell_type": "code",
   "execution_count": 9,
   "metadata": {},
   "outputs": [],
   "source": [
    "one = set(vice)\n",
    "two = set(neg_words)\n",
    "\n",
    "vice = list(one.union(two))"
   ]
  },
  {
   "cell_type": "code",
   "execution_count": 10,
   "metadata": {},
   "outputs": [
    {
     "name": "stdout",
     "output_type": "stream",
     "text": [
      "1936\n"
     ]
    }
   ],
   "source": [
    "# Total words\n",
    "print(len(vice)+len(virtue))"
   ]
  },
  {
   "cell_type": "code",
   "execution_count": 73,
   "metadata": {},
   "outputs": [
    {
     "name": "stdout",
     "output_type": "stream",
     "text": [
      "1935\n"
     ]
    }
   ],
   "source": [
    "words = vice + virtue\n",
    "words = set(words)"
   ]
  },
  {
   "cell_type": "code",
   "execution_count": 11,
   "metadata": {},
   "outputs": [],
   "source": [
    "#| export\n",
    "class Classifier:\n",
    "    def __init__(self):\n",
    "        self.embeddings = None\n",
    "        self.vice = None\n",
    "        self.virtue = None\n",
    "\n",
    "    def load_embeddings(file_path):\n",
    "        '''Loads the embeddings from a file and returns a dictionary with the words as keys and the vectors as values'''\n",
    "        word_to_vec = {}\n",
    "        with open(file_path, 'r', encoding='utf-8') as file:\n",
    "            for line in file:\n",
    "                values = line.split()\n",
    "                word = values[0]\n",
    "                vector = np.array(values[1:], dtype='float32')\n",
    "                print(vector.shape)\n",
    "                word_to_vec[word] = vector\n",
    "        self.embeddings = word_to_vec\n",
    "        return word_to_vec\n",
    "    \n",
    "    \n",
    "    def list_to_vec(vice, virtue, word_to_vec):\n",
    "        '''Returns the vector representation of a list of words in a df'''\n",
    "        data = {'word': [], 'vector': [], 'category': []}\n",
    "        for word in vice:\n",
    "            if word in word_to_vec.keys():\n",
    "                data['word'].append(word)\n",
    "                data['vector'].append(word_to_vec[word])\n",
    "                data['category'].append(0.0) #vice will be represented as 0\n",
    "            else:\n",
    "                data['word'].append(word)\n",
    "                data['vector'].append(np.nan)\n",
    "                data['category'].append(0.0) \n",
    "        \n",
    "        for word in virtue:\n",
    "            if word in word_to_vec.keys():\n",
    "                data['word'].append(word)\n",
    "                data['vector'].append(word_to_vec[word])\n",
    "                data['category'].append(1.0) #virtue will be represented as 1\n",
    "            else:\n",
    "                data['word'].append(word)\n",
    "                data['vector'].append(np.nan)\n",
    "                data['category'].append(1.0)\n",
    "\n",
    "        df = pd.DataFrame(data)\n",
    "        return df"
   ]
  },
  {
   "cell_type": "code",
   "execution_count": 17,
   "metadata": {},
   "outputs": [
    {
     "name": "stdout",
     "output_type": "stream",
     "text": [
      "Total words:  1936\n",
      "Total words after dropping NaN:  1015\n",
      "∆:  921\n",
      "∆%: 47.57\n"
     ]
    },
    {
     "data": {
      "text/html": [
       "<div>\n",
       "<style scoped>\n",
       "    .dataframe tbody tr th:only-of-type {\n",
       "        vertical-align: middle;\n",
       "    }\n",
       "\n",
       "    .dataframe tbody tr th {\n",
       "        vertical-align: top;\n",
       "    }\n",
       "\n",
       "    .dataframe thead th {\n",
       "        text-align: right;\n",
       "    }\n",
       "</style>\n",
       "<table border=\"1\" class=\"dataframe\">\n",
       "  <thead>\n",
       "    <tr style=\"text-align: right;\">\n",
       "      <th></th>\n",
       "      <th>word</th>\n",
       "      <th>vector</th>\n",
       "      <th>category</th>\n",
       "    </tr>\n",
       "  </thead>\n",
       "  <tbody>\n",
       "    <tr>\n",
       "      <th>0</th>\n",
       "      <td>clamando</td>\n",
       "      <td>[-0.019718, 0.070441, 0.095847, 0.036198, 0.72...</td>\n",
       "      <td>0.0</td>\n",
       "    </tr>\n",
       "    <tr>\n",
       "      <th>1</th>\n",
       "      <td>equivocacion</td>\n",
       "      <td>[0.188414, -0.485956, -0.166965, 0.305048, -0....</td>\n",
       "      <td>0.0</td>\n",
       "    </tr>\n",
       "    <tr>\n",
       "      <th>2</th>\n",
       "      <td>molestaba</td>\n",
       "      <td>[0.317355, 0.333469, -0.217782, 0.230674, 0.15...</td>\n",
       "      <td>0.0</td>\n",
       "    </tr>\n",
       "    <tr>\n",
       "      <th>3</th>\n",
       "      <td>protesta</td>\n",
       "      <td>[-0.223335, 0.019639, -0.617296, -0.185387, -0...</td>\n",
       "      <td>0.0</td>\n",
       "    </tr>\n",
       "    <tr>\n",
       "      <th>4</th>\n",
       "      <td>incomodo</td>\n",
       "      <td>[0.128509, 0.176696, 0.332319, 0.093413, -0.25...</td>\n",
       "      <td>0.0</td>\n",
       "    </tr>\n",
       "    <tr>\n",
       "      <th>...</th>\n",
       "      <td>...</td>\n",
       "      <td>...</td>\n",
       "      <td>...</td>\n",
       "    </tr>\n",
       "    <tr>\n",
       "      <th>1010</th>\n",
       "      <td>permitir</td>\n",
       "      <td>[0.399679, 0.177693, -0.26869, 0.413365, 0.002...</td>\n",
       "      <td>1.0</td>\n",
       "    </tr>\n",
       "    <tr>\n",
       "      <th>1011</th>\n",
       "      <td>santo</td>\n",
       "      <td>[0.561064, 0.187086, 0.754766, 0.169807, -0.00...</td>\n",
       "      <td>1.0</td>\n",
       "    </tr>\n",
       "    <tr>\n",
       "      <th>1012</th>\n",
       "      <td>ordenado</td>\n",
       "      <td>[0.706895, 0.023167, -0.561053, 0.612558, 0.02...</td>\n",
       "      <td>1.0</td>\n",
       "    </tr>\n",
       "    <tr>\n",
       "      <th>1013</th>\n",
       "      <td>reciprocidad</td>\n",
       "      <td>[0.027735, 0.303429, -0.187403, 0.371294, 0.07...</td>\n",
       "      <td>1.0</td>\n",
       "    </tr>\n",
       "    <tr>\n",
       "      <th>1014</th>\n",
       "      <td>puritano</td>\n",
       "      <td>[0.152248, 0.049276, 0.476907, -0.775882, -0.3...</td>\n",
       "      <td>1.0</td>\n",
       "    </tr>\n",
       "  </tbody>\n",
       "</table>\n",
       "<p>1015 rows × 3 columns</p>\n",
       "</div>"
      ],
      "text/plain": [
       "              word                                             vector  \\\n",
       "0         clamando  [-0.019718, 0.070441, 0.095847, 0.036198, 0.72...   \n",
       "1     equivocacion  [0.188414, -0.485956, -0.166965, 0.305048, -0....   \n",
       "2        molestaba  [0.317355, 0.333469, -0.217782, 0.230674, 0.15...   \n",
       "3         protesta  [-0.223335, 0.019639, -0.617296, -0.185387, -0...   \n",
       "4         incomodo  [0.128509, 0.176696, 0.332319, 0.093413, -0.25...   \n",
       "...            ...                                                ...   \n",
       "1010      permitir  [0.399679, 0.177693, -0.26869, 0.413365, 0.002...   \n",
       "1011         santo  [0.561064, 0.187086, 0.754766, 0.169807, -0.00...   \n",
       "1012      ordenado  [0.706895, 0.023167, -0.561053, 0.612558, 0.02...   \n",
       "1013  reciprocidad  [0.027735, 0.303429, -0.187403, 0.371294, 0.07...   \n",
       "1014      puritano  [0.152248, 0.049276, 0.476907, -0.775882, -0.3...   \n",
       "\n",
       "      category  \n",
       "0          0.0  \n",
       "1          0.0  \n",
       "2          0.0  \n",
       "3          0.0  \n",
       "4          0.0  \n",
       "...        ...  \n",
       "1010       1.0  \n",
       "1011       1.0  \n",
       "1012       1.0  \n",
       "1013       1.0  \n",
       "1014       1.0  \n",
       "\n",
       "[1015 rows x 3 columns]"
      ]
     },
     "execution_count": 17,
     "metadata": {},
     "output_type": "execute_result"
    }
   ],
   "source": [
    "def list_to_vec(vice, virtue, word_to_vec):\n",
    "    '''Returns the vector representation of a list of words in a df'''\n",
    "    data = {'word': [], 'vector': [], 'category': []}\n",
    "    for word in vice:\n",
    "        if word in word_to_vec.keys():\n",
    "            data['word'].append(word)\n",
    "            data['vector'].append(word_to_vec[word])\n",
    "            data['category'].append(0.0) #vice will be represented as 0\n",
    "        else:\n",
    "            data['word'].append(word)\n",
    "            data['vector'].append(np.nan)\n",
    "            data['category'].append(0.0) \n",
    "    \n",
    "    for word in virtue:\n",
    "        if word in word_to_vec.keys():\n",
    "            data['word'].append(word)\n",
    "            data['vector'].append(word_to_vec[word])\n",
    "            data['category'].append(1.0) #virtue will be represented as 1\n",
    "        else:\n",
    "            data['word'].append(word)\n",
    "            data['vector'].append(np.nan)\n",
    "            data['category'].append(1.0)\n",
    "\n",
    "    df = pd.DataFrame(data)\n",
    "    return df\n",
    "\n",
    "df = list_to_vec(vice,virtue,word_to_vec)\n",
    "total = len(df)\n",
    "print('Total words: ',total)\n",
    "df.dropna(inplace=True)\n",
    "df.reset_index(inplace=True,drop=True)\n",
    "print('Total words after dropping NaN: ',len(df))\n",
    "print('∆: ',total-len(df))\n",
    "print('∆%:', round((total-len(df))/total*100,2) )\n",
    "df"
   ]
  },
  {
   "cell_type": "code",
   "execution_count": 42,
   "metadata": {},
   "outputs": [
    {
     "data": {
      "text/html": [
       "<div>\n",
       "<style scoped>\n",
       "    .dataframe tbody tr th:only-of-type {\n",
       "        vertical-align: middle;\n",
       "    }\n",
       "\n",
       "    .dataframe tbody tr th {\n",
       "        vertical-align: top;\n",
       "    }\n",
       "\n",
       "    .dataframe thead th {\n",
       "        text-align: right;\n",
       "    }\n",
       "</style>\n",
       "<table border=\"1\" class=\"dataframe\">\n",
       "  <thead>\n",
       "    <tr style=\"text-align: right;\">\n",
       "      <th></th>\n",
       "      <th>word</th>\n",
       "      <th>vector</th>\n",
       "      <th>category</th>\n",
       "    </tr>\n",
       "  </thead>\n",
       "  <tbody>\n",
       "    <tr>\n",
       "      <th>0</th>\n",
       "      <td>clamando</td>\n",
       "      <td>[-0.019718, 0.070441, 0.095847, 0.036198, 0.72...</td>\n",
       "      <td>0.0</td>\n",
       "    </tr>\n",
       "    <tr>\n",
       "      <th>1</th>\n",
       "      <td>equivocacion</td>\n",
       "      <td>[0.188414, -0.485956, -0.166965, 0.305048, -0....</td>\n",
       "      <td>0.0</td>\n",
       "    </tr>\n",
       "    <tr>\n",
       "      <th>2</th>\n",
       "      <td>molestaba</td>\n",
       "      <td>[0.317355, 0.333469, -0.217782, 0.230674, 0.15...</td>\n",
       "      <td>0.0</td>\n",
       "    </tr>\n",
       "    <tr>\n",
       "      <th>3</th>\n",
       "      <td>protesta</td>\n",
       "      <td>[-0.223335, 0.019639, -0.617296, -0.185387, -0...</td>\n",
       "      <td>0.0</td>\n",
       "    </tr>\n",
       "    <tr>\n",
       "      <th>4</th>\n",
       "      <td>incomodo</td>\n",
       "      <td>[0.128509, 0.176696, 0.332319, 0.093413, -0.25...</td>\n",
       "      <td>0.0</td>\n",
       "    </tr>\n",
       "    <tr>\n",
       "      <th>...</th>\n",
       "      <td>...</td>\n",
       "      <td>...</td>\n",
       "      <td>...</td>\n",
       "    </tr>\n",
       "    <tr>\n",
       "      <th>896</th>\n",
       "      <td>sepultar</td>\n",
       "      <td>[0.042547, 0.139265, -0.259497, 0.222025, 0.27...</td>\n",
       "      <td>0.0</td>\n",
       "    </tr>\n",
       "    <tr>\n",
       "      <th>897</th>\n",
       "      <td>pesados</td>\n",
       "      <td>[-0.536507, 0.215566, -0.91868, -0.233452, 0.1...</td>\n",
       "      <td>0.0</td>\n",
       "    </tr>\n",
       "    <tr>\n",
       "      <th>898</th>\n",
       "      <td>vulnerable</td>\n",
       "      <td>[-0.118379, -0.0568, 0.162655, 0.320707, 0.236...</td>\n",
       "      <td>0.0</td>\n",
       "    </tr>\n",
       "    <tr>\n",
       "      <th>899</th>\n",
       "      <td>crudeza</td>\n",
       "      <td>[-0.564241, 0.255476, -0.214359, 0.283713, 0.0...</td>\n",
       "      <td>0.0</td>\n",
       "    </tr>\n",
       "    <tr>\n",
       "      <th>900</th>\n",
       "      <td>incomunicado</td>\n",
       "      <td>[-0.040818, 0.399264, 0.099939, -0.804632, -0....</td>\n",
       "      <td>0.0</td>\n",
       "    </tr>\n",
       "  </tbody>\n",
       "</table>\n",
       "<p>901 rows × 3 columns</p>\n",
       "</div>"
      ],
      "text/plain": [
       "             word                                             vector  category\n",
       "0        clamando  [-0.019718, 0.070441, 0.095847, 0.036198, 0.72...       0.0\n",
       "1    equivocacion  [0.188414, -0.485956, -0.166965, 0.305048, -0....       0.0\n",
       "2       molestaba  [0.317355, 0.333469, -0.217782, 0.230674, 0.15...       0.0\n",
       "3        protesta  [-0.223335, 0.019639, -0.617296, -0.185387, -0...       0.0\n",
       "4        incomodo  [0.128509, 0.176696, 0.332319, 0.093413, -0.25...       0.0\n",
       "..            ...                                                ...       ...\n",
       "896      sepultar  [0.042547, 0.139265, -0.259497, 0.222025, 0.27...       0.0\n",
       "897       pesados  [-0.536507, 0.215566, -0.91868, -0.233452, 0.1...       0.0\n",
       "898    vulnerable  [-0.118379, -0.0568, 0.162655, 0.320707, 0.236...       0.0\n",
       "899       crudeza  [-0.564241, 0.255476, -0.214359, 0.283713, 0.0...       0.0\n",
       "900  incomunicado  [-0.040818, 0.399264, 0.099939, -0.804632, -0....       0.0\n",
       "\n",
       "[901 rows x 3 columns]"
      ]
     },
     "execution_count": 42,
     "metadata": {},
     "output_type": "execute_result"
    }
   ],
   "source": [
    "df[df['category'] == 0.0]"
   ]
  },
  {
   "cell_type": "code",
   "execution_count": 41,
   "metadata": {},
   "outputs": [
    {
     "data": {
      "text/html": [
       "<div>\n",
       "<style scoped>\n",
       "    .dataframe tbody tr th:only-of-type {\n",
       "        vertical-align: middle;\n",
       "    }\n",
       "\n",
       "    .dataframe tbody tr th {\n",
       "        vertical-align: top;\n",
       "    }\n",
       "\n",
       "    .dataframe thead th {\n",
       "        text-align: right;\n",
       "    }\n",
       "</style>\n",
       "<table border=\"1\" class=\"dataframe\">\n",
       "  <thead>\n",
       "    <tr style=\"text-align: right;\">\n",
       "      <th></th>\n",
       "      <th>word</th>\n",
       "      <th>vector</th>\n",
       "      <th>category</th>\n",
       "    </tr>\n",
       "  </thead>\n",
       "  <tbody>\n",
       "    <tr>\n",
       "      <th>0</th>\n",
       "      <td>amistad</td>\n",
       "      <td>[0.172457, 0.141743, 0.447321, -0.073092, -0.2...</td>\n",
       "      <td>1.0</td>\n",
       "    </tr>\n",
       "    <tr>\n",
       "      <th>1</th>\n",
       "      <td>inmaculado</td>\n",
       "      <td>[0.286774, -0.271835, 0.330746, 0.306968, -0.4...</td>\n",
       "      <td>1.0</td>\n",
       "    </tr>\n",
       "    <tr>\n",
       "      <th>2</th>\n",
       "      <td>acatar</td>\n",
       "      <td>[-0.125062, 0.039009, -0.361311, 0.484929, 0.4...</td>\n",
       "      <td>1.0</td>\n",
       "    </tr>\n",
       "    <tr>\n",
       "      <th>3</th>\n",
       "      <td>modestia</td>\n",
       "      <td>[-0.590255, -0.037919, -0.265095, 0.371402, 0....</td>\n",
       "      <td>1.0</td>\n",
       "    </tr>\n",
       "    <tr>\n",
       "      <th>4</th>\n",
       "      <td>recto</td>\n",
       "      <td>[-0.021141, 0.448575, -0.220464, 0.467975, 0.2...</td>\n",
       "      <td>1.0</td>\n",
       "    </tr>\n",
       "    <tr>\n",
       "      <th>...</th>\n",
       "      <td>...</td>\n",
       "      <td>...</td>\n",
       "      <td>...</td>\n",
       "    </tr>\n",
       "    <tr>\n",
       "      <th>109</th>\n",
       "      <td>permitir</td>\n",
       "      <td>[0.399679, 0.177693, -0.26869, 0.413365, 0.002...</td>\n",
       "      <td>1.0</td>\n",
       "    </tr>\n",
       "    <tr>\n",
       "      <th>110</th>\n",
       "      <td>santo</td>\n",
       "      <td>[0.561064, 0.187086, 0.754766, 0.169807, -0.00...</td>\n",
       "      <td>1.0</td>\n",
       "    </tr>\n",
       "    <tr>\n",
       "      <th>111</th>\n",
       "      <td>ordenado</td>\n",
       "      <td>[0.706895, 0.023167, -0.561053, 0.612558, 0.02...</td>\n",
       "      <td>1.0</td>\n",
       "    </tr>\n",
       "    <tr>\n",
       "      <th>112</th>\n",
       "      <td>reciprocidad</td>\n",
       "      <td>[0.027735, 0.303429, -0.187403, 0.371294, 0.07...</td>\n",
       "      <td>1.0</td>\n",
       "    </tr>\n",
       "    <tr>\n",
       "      <th>113</th>\n",
       "      <td>puritano</td>\n",
       "      <td>[0.152248, 0.049276, 0.476907, -0.775882, -0.3...</td>\n",
       "      <td>1.0</td>\n",
       "    </tr>\n",
       "  </tbody>\n",
       "</table>\n",
       "<p>114 rows × 3 columns</p>\n",
       "</div>"
      ],
      "text/plain": [
       "             word                                             vector  category\n",
       "0         amistad  [0.172457, 0.141743, 0.447321, -0.073092, -0.2...       1.0\n",
       "1      inmaculado  [0.286774, -0.271835, 0.330746, 0.306968, -0.4...       1.0\n",
       "2          acatar  [-0.125062, 0.039009, -0.361311, 0.484929, 0.4...       1.0\n",
       "3        modestia  [-0.590255, -0.037919, -0.265095, 0.371402, 0....       1.0\n",
       "4           recto  [-0.021141, 0.448575, -0.220464, 0.467975, 0.2...       1.0\n",
       "..            ...                                                ...       ...\n",
       "109      permitir  [0.399679, 0.177693, -0.26869, 0.413365, 0.002...       1.0\n",
       "110         santo  [0.561064, 0.187086, 0.754766, 0.169807, -0.00...       1.0\n",
       "111      ordenado  [0.706895, 0.023167, -0.561053, 0.612558, 0.02...       1.0\n",
       "112  reciprocidad  [0.027735, 0.303429, -0.187403, 0.371294, 0.07...       1.0\n",
       "113      puritano  [0.152248, 0.049276, 0.476907, -0.775882, -0.3...       1.0\n",
       "\n",
       "[114 rows x 3 columns]"
      ]
     },
     "execution_count": 41,
     "metadata": {},
     "output_type": "execute_result"
    }
   ],
   "source": [
    "df[df['category'] == 1.0].reset_index(drop=True)"
   ]
  },
  {
   "cell_type": "code",
   "execution_count": 45,
   "metadata": {},
   "outputs": [
    {
     "name": "stdout",
     "output_type": "stream",
     "text": [
      "[[-0.019718  0.070441  0.095847 ... -0.276453 -0.203689 -0.019674]\n",
      " [ 0.188414 -0.485956 -0.166965 ...  0.287388  0.402349 -0.119525]\n",
      " [ 0.317355  0.333469 -0.217782 ... -0.300722  0.118656  0.429469]\n",
      " ...\n",
      " [ 0.706895  0.023167 -0.561053 ... -0.148469 -0.220061 -0.294169]\n",
      " [ 0.027735  0.303429 -0.187403 ... -0.048711 -0.087904  0.038837]\n",
      " [ 0.152248  0.049276  0.476907 ... -0.197355 -0.239643  0.347962]]\n",
      "[0. 0. 0. ... 1. 1. 1.]\n"
     ]
    }
   ],
   "source": [
    "X = np.array(df['vector'].tolist())\n",
    "print(X)\n",
    "y = np.array(df['category'].tolist())\n",
    "print(y)"
   ]
  },
  {
   "cell_type": "code",
   "execution_count": 18,
   "metadata": {},
   "outputs": [],
   "source": [
    "'''\n",
    "X_train, X_test, y_train, y_test = train_test_split(df['vector'], df['category'], test_size=0.2, random_state=21,stratify=df['category'])\n",
    "X_train = X_train.to_list()\n",
    "knn = KNeighborsClassifier(n_neighbors=3)\n",
    "knn.fit(X_train, y_train)\n",
    "X_test = X_test.to_list()\n",
    "print(round(knn.score(X_test, y_test),3))\n",
    "'''"
   ]
  },
  {
   "cell_type": "code",
   "execution_count": 89,
   "metadata": {},
   "outputs": [
    {
     "name": "stderr",
     "output_type": "stream",
     "text": [
      "No artists with labels found to put in legend.  Note that artists whose label start with an underscore are ignored when legend() is called with no argument.\n"
     ]
    },
    {
     "data": {
      "image/png": "[encoded data removed]",
      "text/plain": [
       "<Figure size 800x600 with 1 Axes>"
      ]
     },
     "metadata": {},
     "output_type": "display_data"
    },
    {
     "name": "stdout",
     "output_type": "stream",
     "text": [
      "Best accuracy and number of neighbours:  (5, 0.9458128078817734)\n"
     ]
    }
   ],
   "source": [
    "test_accuracies = {}\n",
    "neighbours = range(1, 30)\n",
    "\n",
    "for neighbour in neighbours:\n",
    "    knn = KNeighborsClassifier(n_neighbors=neighbour)\n",
    "    knn.fit(X_train, y_train)\n",
    "    test_accuracies[neighbour] = knn.score(X_test, y_test)\n",
    "    \n",
    "plt.figure(figsize=(8,6))\n",
    "plt.title('KNN Accuracy: Varying number of neighbours')\n",
    "plt.plot(list(test_accuracies.keys()), list(test_accuracies.values()))\n",
    "plt.legend()\n",
    "plt.xlabel('Number of neighbours')\n",
    "plt.ylabel('Accuracy')\n",
    "plt.show()\n",
    "\n",
    "print('Best accuracy and number of neighbours: ', max(test_accuracies.items(), key=lambda x: x[1]))"
   ]
  },
  {
   "cell_type": "markdown",
   "metadata": {},
   "source": [
    "### Using the model to tag adjectives found on media*\n",
    "> Issues to be solved..."
   ]
  },
  {
   "cell_type": "code",
   "execution_count": 91,
   "metadata": {},
   "outputs": [
    {
     "data": {
      "text/html": [
       "<style>#sk-container-id-5 {color: black;}#sk-container-id-5 pre{padding: 0;}#sk-container-id-5 div.sk-toggleable {background-color: white;}#sk-container-id-5 label.sk-toggleable__label {cursor: pointer;display: block;width: 100%;margin-bottom: 0;padding: 0.3em;box-sizing: border-box;text-align: center;}#sk-container-id-5 label.sk-toggleable__label-arrow:before {content: \"▸\";float: left;margin-right: 0.25em;color: #696969;}#sk-container-id-5 label.sk-toggleable__label-arrow:hover:before {color: black;}#sk-container-id-5 div.sk-estimator:hover label.sk-toggleable__label-arrow:before {color: black;}#sk-container-id-5 div.sk-toggleable__content {max-height: 0;max-width: 0;overflow: hidden;text-align: left;background-color: #f0f8ff;}#sk-container-id-5 div.sk-toggleable__content pre {margin: 0.2em;color: black;border-radius: 0.25em;background-color: #f0f8ff;}#sk-container-id-5 input.sk-toggleable__control:checked~div.sk-toggleable__content {max-height: 200px;max-width: 100%;overflow: auto;}#sk-container-id-5 input.sk-toggleable__control:checked~label.sk-toggleable__label-arrow:before {content: \"▾\";}#sk-container-id-5 div.sk-estimator input.sk-toggleable__control:checked~label.sk-toggleable__label {background-color: #d4ebff;}#sk-container-id-5 div.sk-label input.sk-toggleable__control:checked~label.sk-toggleable__label {background-color: #d4ebff;}#sk-container-id-5 input.sk-hidden--visually {border: 0;clip: rect(1px 1px 1px 1px);clip: rect(1px, 1px, 1px, 1px);height: 1px;margin: -1px;overflow: hidden;padding: 0;position: absolute;width: 1px;}#sk-container-id-5 div.sk-estimator {font-family: monospace;background-color: #f0f8ff;border: 1px dotted black;border-radius: 0.25em;box-sizing: border-box;margin-bottom: 0.5em;}#sk-container-id-5 div.sk-estimator:hover {background-color: #d4ebff;}#sk-container-id-5 div.sk-parallel-item::after {content: \"\";width: 100%;border-bottom: 1px solid gray;flex-grow: 1;}#sk-container-id-5 div.sk-label:hover label.sk-toggleable__label {background-color: #d4ebff;}#sk-container-id-5 div.sk-serial::before {content: \"\";position: absolute;border-left: 1px solid gray;box-sizing: border-box;top: 0;bottom: 0;left: 50%;z-index: 0;}#sk-container-id-5 div.sk-serial {display: flex;flex-direction: column;align-items: center;background-color: white;padding-right: 0.2em;padding-left: 0.2em;position: relative;}#sk-container-id-5 div.sk-item {position: relative;z-index: 1;}#sk-container-id-5 div.sk-parallel {display: flex;align-items: stretch;justify-content: center;background-color: white;position: relative;}#sk-container-id-5 div.sk-item::before, #sk-container-id-5 div.sk-parallel-item::before {content: \"\";position: absolute;border-left: 1px solid gray;box-sizing: border-box;top: 0;bottom: 0;left: 50%;z-index: -1;}#sk-container-id-5 div.sk-parallel-item {display: flex;flex-direction: column;z-index: 1;position: relative;background-color: white;}#sk-container-id-5 div.sk-parallel-item:first-child::after {align-self: flex-end;width: 50%;}#sk-container-id-5 div.sk-parallel-item:last-child::after {align-self: flex-start;width: 50%;}#sk-container-id-5 div.sk-parallel-item:only-child::after {width: 0;}#sk-container-id-5 div.sk-dashed-wrapped {border: 1px dashed gray;margin: 0 0.4em 0.5em 0.4em;box-sizing: border-box;padding-bottom: 0.4em;background-color: white;}#sk-container-id-5 div.sk-label label {font-family: monospace;font-weight: bold;display: inline-block;line-height: 1.2em;}#sk-container-id-5 div.sk-label-container {text-align: center;}#sk-container-id-5 div.sk-container {/* jupyter's `normalize.less` sets `[hidden] { display: none; }` but bootstrap.min.css set `[hidden] { display: none !important; }` so we also need the `!important` here to be able to override the default hidden behavior on the sphinx rendered scikit-learn.org. See: https://github.com/scikit-learn/scikit-learn/issues/21755 */display: inline-block !important;position: relative;}#sk-container-id-5 div.sk-text-repr-fallback {display: none;}</style><div id=\"sk-container-id-5\" class=\"sk-top-container\"><div class=\"sk-text-repr-fallback\"><pre>KNeighborsClassifier()</pre><b>In a Jupyter environment, please rerun this cell to show the HTML representation or trust the notebook. <br />On GitHub, the HTML representation is unable to render, please try loading this page with nbviewer.org.</b></div><div class=\"sk-container\" hidden><div class=\"sk-item\"><div class=\"sk-estimator sk-toggleable\"><input class=\"sk-toggleable__control sk-hidden--visually\" id=\"sk-estimator-id-5\" type=\"checkbox\" checked><label for=\"sk-estimator-id-5\" class=\"sk-toggleable__label sk-toggleable__label-arrow\">KNeighborsClassifier</label><div class=\"sk-toggleable__content\"><pre>KNeighborsClassifier()</pre></div></div></div></div></div>"
      ],
      "text/plain": [
       "KNeighborsClassifier()"
      ]
     },
     "execution_count": 91,
     "metadata": {},
     "output_type": "execute_result"
    }
   ],
   "source": [
    "knn = KNeighborsClassifier(n_neighbors=5)\n",
    "knn.fit(X,y)\n"
   ]
  },
  {
   "cell_type": "code",
   "execution_count": 92,
   "metadata": {},
   "outputs": [
    {
     "name": "stdout",
     "output_type": "stream",
     "text": [
      "['increible', 'bajo', 'efectiva', 'decentes', 'hdch', 'chentebotitas', 'ardidos', 'nuesteos', 'corruptosy', 'comprobado']\n",
      "1642\n"
     ]
    }
   ],
   "source": [
    "#Adjs found in comments using spaCy library:\n",
    "adjs = set()\n",
    "with open('adjs_comments.txt', 'r', encoding='utf-8') as file:\n",
    "    for line in file:\n",
    "        adjs.add(line.strip())\n",
    "\n",
    "adjs = list(adjs)\n",
    "print(adjs[:10])\n",
    "print(len(adjs))"
   ]
  },
  {
   "cell_type": "code",
   "execution_count": 93,
   "metadata": {},
   "outputs": [
    {
     "name": "stdout",
     "output_type": "stream",
     "text": [
      "1538\n",
      "{'increible', 'bajo', 'efectiva', 'decentes', 'hdch', 'chentebotitas', 'ardidos', 'nuesteos', 'corruptosy', 'comprobado', 'ine-scrupulosos', 'apistelentes', 'futuro', 'entrevistados', 'vista', 'metodos', 'drogado', 'incondicionales', 'atomica', 'afectada', 'asecino', 'incluida', 'invasivo', 'envidiosote', 'sheet', 'demas', 'consejero', 'reciente', 'comprendanlo', 'hermosa', 'antiguo', 'mendigo', 'tramposo', 'correcta', 'elegantes', 'engana', 'desgrasiado', 'hbldr', 'genial', 'coruptos', 'elegido', 'recreativa', 'gran', 'dios', 'describire', 'famosos', 'advenedizos', 'harias', 'fuelra', 'inepto', 'dicho', 'aprovechados', 'purita', 'incompetentesmediocres', 'natal', 'vomitivos', 'lectorapuro', 'corruptasos', 'marihuana', 'rrs', 'muertos', 'defendidos', 'altos', 'campantes', 'vitacilina', 'llevenll', 'gustosa', 'hechoahora', 'cuasta', 'vejestorios', 'etcetera', 'pasadas', 'previllegios', 'qureo', 'mieda', 'hueca', 'desaparecete', 'representates', 'verdaderas', 'malsanos', 'prianista', 'cascarrabias', 'ledio', 'marranadas', 'callado', 'zocalo', 'putridos', 'aerea', 'recursospuro', 'pensantes', 'pusilanimes', 'buey', 'psiquiatrico', 'chulo', 'marihuanol', 'afecto', 'primero', 'carroneros', 'viva', 'deste', 'snganos', 'foxcada', 'lunatico', 'maligna', 'ultimos', 'acareados', 'seco', 'aprox', 'empoderados', 'diles', 'trabajadora', 'maiceadas', 'corajes', 'tendenciosas', 'inmoral', 'mexicana', 'adecuada', 'larga', 'infelices', 'simulada', 'evitense', 'vendidosfuera', 'pagadas', 'impotente', 'analfabeta', 'sano', 'ofendidos', 'humana', 'agredidos', 'ala', 'finos', 'desgraciados', 'empresarios', 'aguadas', 'claras', 'viejito', 'propias', 'miadas', 'grande', 'hambreados', 'necios', 'guevones', 'acabado', 'grandes', 'parasitos', 'decomiso', 'asolear', 'corto', 'cacomiztles', 'pagados', 'insaciables', 'prometido', 'mensuales', 'encubierto', 'oportunistas', 'esquizofrenico', 'minerales', 'tibia', 'botudo', 'sinicos', 'harto', 'humildeahora', 'compares', 'pica', 'menor', 'iriapero', 'apokono', 'conocido', 'defensor', 'humano', 'chupado', 'confirmado', 'corrptisimo', 'ambulantes', 'cdmx', 'tranquilo', 'corruptos', 'inteligente', 'seguidos', 'traicionera', 'sinsos', 'odiado', 'trabajador', 'amlolo', 'estupido', 'digno', 'trapacerias', 'miedosos', 'acerquense', 'rapido', 'honrosas', 'corruptospor', 'usava', 'corruptosmercenarios', 'veras', 'diria', 'ratasvendidos', 'salio', 'lacras', 'electrica', 'publicas', 'lamvehuvos', 'asustados', 'simuladores', 'cinicos', 'encabezado', 'basico', 'ntro', 'verboviva', 'cumpleanos', 'someriado', 'callese', 'raaaaaaaaatas', 'chupeteadores', 'masivo', 'fertilizante', 'cerebral', 'primer', 'loquito', 'ponzonosas', 'checheas', 'pedorras', 'paniaguados', 'neutrales', 'ventajosos', 'camisas', 'positivos', 'manipulados', 'trabajadoras', 'expresidentes', 'actually', 'rata', 'seria', 'indescriptibles', 'acusalo', 'vianello', 'sennofox', 'enojados', 'igual', 'indicado', 'hipocritas', 'alucinado', 'gchclro', 'inflado', 'imparciales', 'huachicolero', 'ademas', 'ex', 'friegas', 'pelado', 'maravilloso', 'mnss', 'enfermisas', 'm@men', 'tapendejo', 'hables', 'curruptoseso', 'comprados', 'renovada', 'coludidos', 'patriastraidores', 'nopuedo', 'unico', 'protejidos', 'alos', 'incomoda', 'plena', 'caracol', 'metidos', 'vien', 'fregado', 'des', 'feliz', 'llenos', 'transtornado', 'jjjjjjjj', 'contados', 'sientes', 'quedaria', 'sakeadores', 'falsas', 'quemados', 'toncho', 'pasasdos', 'lencha', 'minimos', 'peorcito', 'incondicional', 'sicaro', 'energetica', 'baboso', 'fuchi', 'inutiles', 'plurinominales', 'largas', 'gentemuchos', 'blanca', 'incomparable', 'marihuas', 'saqueadora', 'desonesto', 'cinicosratas', 'callados', 'mariguanay', 'chentito', 'generosos', 'apatridas', 'entregista', 'empresariales', 'caro', 'vacios', 'corta', 'mejores', 'prianmc', 'comodinos', 'tremenda', 'curioso', 'mismo', 'muchisimo', 'vendidosrealmente', 'minima', 'cochinos', 'tiranos', 'comosea', 'organizado', 'confiable', 'oilo', 'adinerada', 'maya', 'almada', 'rafas', 'lados', 'msrigua', 'plana', 'osico', 'mesquinos', 'alla', 'empleado', 'empresarial', 'engordado', 'menoria', 'malevolos', 'secuestrada', 'delirante', 'quedado', 'idiotizado', 'chapeados', 'lgualmente', 'historico', 'lado', 'anti', 'visto', 'riquito', 'partodos', 'queridos', 'malos', 'creibles', 'paypa', 'oyy', 'perversos', 'severas', 'ladras', 'criminales', 'herario', 'dadeberia', 'pasados', 'cuantos', 'acostumbradas', 'mega', 'enves', 'manche', 'borrachales', 'oficial', 'desapareceresa', 'deshonestos', 'pequena', 'descarados', 'disfrazados', 'enemigos', 'estadodas', 'holgazanes', 'mental', 'ficientes', 'nadamas', 'contentos', 'adineradas', 'podridos', 'alborotada', 'infames', 'guasolina', 'parientes', 'satrapa', 'corruptosfuera', 'juridica', 'viejas', 'enquistados', 'seguros', 'participado', 'cagadas', 'complices', 'respetoeste', 'amadas', 'alta', 'pcasi', 'mediera', 'descritos', 'pobrecitos', 'suturado', 'estiempo', 'vergonzoso', 'puebloson', 'meadas', 'crecida', 'mantenidoscorruptos', 'sinverguenzada', 'impotenciaque', 'dominguero', 'llena', 'petroleras', 'necesitados', 'insignificante', 'computadoras', 'torta', 'quieroen', 'italiano', 'ajenas', 'tirado', 'anteriores', 'ardido', 'federal', 'acarriada', 'iguales', 'mula', 'ocultas', 'cubano', 'unidos', 'hozico', 'solita', 'dividido', 'comprueve', 'farsante', 'perros', 'garrapatas', 'ilegal', 'democracias', 'decrepitos', 'extraordinaria', 'cronico', 'atraves', 'ofencivo', 'mana', 'cauarta', 'sintetica', 'primera', 'muertas', '@uuuuuu', 'mmmdas', 'logica', 'raterossalta', 'rapaz', 'entero', 'perfecto', 'vendido', 'veneficio', 'administradorcillo', 'mariguanol', 'corruptas', 'duermase', 'minimo', 'empleados', 'rrequerido', 'fumovisente', 'oceanica', 'unacoca', 'hacersolo', 'libres', 'real', 'tipica', 'inteligentes', 'curado', 'duena', 'planeado', 'chin', 'arrabaleroscorruptostraidoresmentirosos', 'llamado', 'pacifica', 'terminada', 'jajakaj', 'jajajaaaaaa', 'ipocritas', 'mudos', 'valiente', 'humildes', 'mafia', 'mera', 'tonterias', 'hermoso', 'dulces', 'electoraly', 'sabio', 'leido', 'senora', 'malvados', 'aclaro', 'cimo', 'sicarios', 'descansa', 'chingnd', 'suprema', 'verdaderos', 'fuma', 'politiqueros', 'personal', 'stiercol', 'legitimo', 'verdadero', 'graciosos', 'debilito', 'cuantas', 'ineptos', 'carajos', 'mariguana', 'doble', 'fortalecio', 'eline', 'lanbiscomes', 'pobres', 'deleales', 'servil', 'callen', 'institucionlos', 'putrefacto', 'compatriotasviva', 'sentidos', 'grandioso', 'porinfeliz', 'mentirosos', 'paridos', 'unido', 'limpio', 'remordimieno', 'aburre', 'rrrrratas', 'caros', 'stpdo', 'controlado', 'capaces', 'varcel', 'mochada', 'enfada', 'amlooo', 'anciano', 'sumbado', 'nocivos', 'verdulera', 'defendiendolos', 'merolico', 'millonarios', 'igualado', 'popular', 'respetoviva', 'rosas', 'arrastrada', 'desarrollado', 'espanola', 'presidentecon', 'variadas', 'huevosfuera', 'parasito', 'sinico', 'hombreeso', 'enganada', 'transparente', 'inestable', 'laserado', 'chachalaco', 'abtidemocraticos', 'intocables', 'perdidos', 'racista', 'encabezados', 'playeras', 'segundo', 'duro', 'solas', 'listo', 'proximos', 'usurpadores', 'apegado', 'hdspm', 'sencillo', 'media', 'plurinominal', 'hecho', 'inecesario', 'hhuu', 'clase', 'pagada', 'fueraaaaaa', 'pienza', 'vudjito', 'merecido', 'presentes', 'normal', 'personales', 'foxresentido', 'auspiciadas', 'golpistas', 'querido', 'vandidos', 'informados', 'ultima', 'maximo', 'solosomos', 'municipal', 'nosotras', 'pregunteles', 'amargadas', 'biendolos', 'quierenestos', 'pendejas', 'paraditos', 'industriales', 'criado', 'orgulloso', 'exacta', 'prepotentes', 'engreidos', 'dadiva', 'dictador', 'operado', 'miradas', 'inevendido', 'inca', 'privilegios', 'chachalaca', 'qnomme', 'fumastes', 'megacorruptos', 'sentados', 'ricachones', 'ta', 'vendidosy', 'hambrientos', 'pesadas', 'llenas', 'obrigatoria', 'electoral', 'organica', 'ables', 'bastantes', 'desmemoriados', 'experto', 'cambio', 'tremens', 'simple', 'huachicoleros', 'perotodos', 'desbocados', 'tesla', 'mejor', 'propuesta', 'acarrearal', 'intachable', 'amado', 'foxito', 'diputados', 'ricos', 'veznobqueda', 'elhechalo', 'acarrearia', 'autonomo', 'derrotados', 'atina', 'cortos', 'arrastrados', 'impuestos', 'universal', 'traiciono', 'mismopero', 'ratificado', 'prianistas', 'duenos', 'indigenas', 'amolado', 'stos', 'encontraras', 'pagariamos', 'cascaraviasyonosavequeaserniquedecircon', 'coructos', 'huevos', 'prieta', 'vemdidos', 'conplan', 'bitacilina', 'proximo', 'obsesionado', 'apollemos', 'save', 'mendigos', 'orale', 'masoquista', 'presidencial', 'apestosas', 'politica', 'mojadas', 'tranzas', 'trampososineptos', 'guero', 'lkenadera', 'ridiculos', 'acarreas', 'propios', 'verdadera', 'tramposos', 'obligatorio', 'ciudadana', 'aaaay', 'calmado', 'encarcelado', 'humanas', 'posible', 'amargo', 'neoliberal', 'sumidos', 'cabada', 'prostitutos', 'd', 'desfraudado', 'serviles', 'queria', 'humanista', 'srvicente', 'pendejadas', 'hechoellos', 'comprada', 'mediocre', 'nefastas', 'tambien', 'descerebrado', 'extranjeros', 'ranas', 'verguenzasaludos', 'fisico', 'autoritarios', 'riquillo', 'aleccionados', 'alto', 'prmitido', 'yegaria', 'demacrado', 'ajena', 'basicas', 'parados', 'viejo', 'tranquila', 'inmensa', 'manosos', 'enjuicien', 'visonte', 'jajaja', 'cierto', 'aaaarranquense', 'politicas', 'chole', 'desias', 'usada', 'especial', 'corruption', 'patriasdelincuenteshipocritasnefastos', 'facil', 'chochea', 'elbolsillo', 'economico', 'inmenso', 'sinverhuenzas', 'poquita', 'encueta', 'buenos', 'fraudulentas', 'hijos', 'deberia', 'nuestreo', 'antipatriotas', 'maxima', 'electronicos', 'junta', 'nuevos', 'jajajajajaja', 'japonesa', 'bonito', 'amexico', 'hocicon', 'ferrocarriles', 'rociados', 'sinverguendas', 'by', 'lleno', 'elctoral', 'elitistas', 'hdschm', 'comun', 'acarreo', 'vjejo', 'lisensensiado', 'unicos', 'asustas', 'asta', 'lne', 'delicados', 'despotas', 'injustos', 'marig', 'estudiado', 'gubernamental', 'anterior', 'preso', 'malas', 'cean', 'ocicon', 'excesivos', 'democratico', 'recibido', 'quemado', 'marhuana', 'pulpos', 'combinado', 'puras', 'bandejo', 'maiceados', 'azteca', 'irrefutable', 'irresponsables', 'incorruptibles', 'borregos', 'mantenido', 'estafador', 'vividora', 'acrarreador', 'enterados', 'logrosesto', 'delicuentes', 'simexicanos', 'hade', 'millonario', 'extrano', 'apasear', 'cm', 'vestida', 'riquillos', 'fieles', 'familiar', 'necesario', 'soltado', 'conq', 'escalteado', 'acostumbrados', 'corruptisimos', 'electorales', 'prestigiada', 'gorda', 'preciopor', 'endeudado', 'maruiguas', 'nuevo', 'borregada', 'viboras', 'patriota', 'quesadapues', 'decente', 'voluntaria', 'chente', 'martita', 'nefastos', 'jajajaja', 'verde', 'maliada', 'fascistas', 'l', 'marihuanono', 'entoloachado', 'paracitos', 'incomada', 'blanco', 'msriguana', 'populacho', 'bajos', 'alcansaria', 'paso', 'voluntario', 'demostrado', 'immundas', 'repartes', 'tronado', 'insensibles', 'calladito', 'cuscos', 'molestos', 'gusanos', 'cobardes', 'fecales', 'europeo', 'corrompido', 'orgullosos', 'profesional', 'hidratados', 'incurruptibles', 'despreciados', 'ligera', 'irrespetuoso', 'armada', 'grandecito', 'nacional', 'lindos', 'tubites', 'urgentemente', 'firmes', 'alcaldias', 'manana', 'pequeno', 'vendidas', 'interno', 'morena', 'salinas', 'tenido', 'mayor', 'huuuleeeerooooo', 'adivino', 'borracho', 'valio', 'economicos', 'carino', 'quioere', 'mayores', 'mundial', 'saqueadores', 'bandidos', 'llo', 'derrotada', 'clarito', 'lozonso', 'pocas', 'nacidos', 'viejio', 'libre', 'integrantes', 'ivas', 'total', 'infinitas', 'desconectado', 'vacelina', 'nesesitamos', 'lindo', 'autonomos', 'acarreados', 'remoras', 'avalado', 'mesmamente', 'consec', 'lolita', 'legales', 'campesino', 'enfermos', 'suave', 'queles', 'muneco', 'seve', 'vidente', 'electoralpero', 'huevones', 'contundente', 'arrabaleros', 'verdespenejo', 'ganado', 'acarreado', 'alrevez', 'felices', 'valioso', 'exelente', 'fuerte', 'indefendible', 'electoreros', 'natural', 'punados', 'conveneciera', 'abusivos', 'solitos', 'grabadora', 'avbio', 'inmorales', 'adinerados', 'secuestrado', 'amikos', 'afectado', 'an', 'aereas', 'psicopata', 'nesesitados', 'ficticias', 'iluso', 'llores', 'derecho', 'deque', 'ocupado', 'queridisimo', 'sociales', 'laca', 'tocado', 'qeremos', 'traidores', 'indibiduo', 'parciales', 'vividor', 'dignos', 'autonomosque', 'clasistas', 'humanitario', 'nonesesita', 'srpresidente', 'ajeno', 'dekrepito', 'senores', 'habidos', 'mexicohasta', 'civiles', 'opositores', 'humilde', 'poderosos', 'reales', 'razistas', 'narcoas', 'rica', 'social', 'sencilla', 'quesada', 'perfectos', 'mexicoviva', 'obrador', 'actual', 'urgente', 'cuarta', 'funcional', 'desorientado', 'askerosas', 'mantenidos', 'deveria', 'sanganos', 'economica', 'mas', 'bedidos', 'marguas', 'independientes', 'ormigs', 'primeros', 'mariguano', 'importantisima', 'vivos', 'conservadores', 'farsantes', 'sumado', 'basto', 'incongruente', 'pandilla', 'tactica', 'mafiososhijos', 'pensionados', 'nesecitada', 'pitufos', 'patras', 'asquerosasvendidos', 'tercer', 'rubio', 'conveniente', 'puntadas', 'nacido', 'inferiores', 'huleeeeeros', 'pasado', 'blancas', 'pelados', 'obvio', 'amanados', 'deseoso', 'peleles', 'enserio', 'lavadora(de', 'habil', 'incompetentes', 'arreglados', 'agradecida', 'ratera', 'emitidas', 'veracruz', 'crrupto', 'vendepatrias', 'innombrables', 'bibidores', 'burradas', 'corructos', 'traicioneras', 'incompetente', 'nazi', 'miserables', 'demexico', 'estadista', 'recaudados', 'largo', 'vendidos', 'bloqueado', 'estafadores', 'beneficiados', 'adulta', 'amucha', 'institucionalizados', 'tontosvendidos', 'ultimo', 'sras', 'parcial', 'maltratado', 'vicentico', 'cansado', 'unificadorno', 'fraudes', 'jamas', 'q', 'sometida', 'mendiga', 'estepincheviejodecrepitoyanadamasleqedololoco', 'plenos', 'nesecidada', 'amigos', 'asquerosas', 'partidos', 'ineficiente', 'cansados', 'beneficiodos', 'lorenzo', 'inconforme', 'chavorruco', 'propiaarriba', 'acabeotros', 'jente', 'espresidente', 'organizada', 'renegrido', 'democraticos', 'pobrecito', 'huachicoleras', 'autentico', 'vendida', 'defraudadores', 'intocable', 'gastadera', 'facistas', 'senal', 'desvergonzados', 'vieja', 'domesticopobrecitas', 'margara', 'buenas', 'mafiosas', 'poqiquitos', 'acsrreados', 'tiznado', 'mandenidos', 'decrepito', 'unica', 'sentidas', 'prianrede', 'ratotas', 'sinsera', 'barato', 'pseudo', 'saqueado', 'dura', 'coludas', 'asesinos', 'alucines', 'decia', 'digna', 'judicial', 'desquiciado', 'archirequetecontracorruptos', 'dichola', 'chistoso', 'contrario', 'hechos', 'cochinada', 'superiores', 'corruptelas', 'tapaderas', 'favorecida', 'enriquecidos', 'ahihasta', 'corrupto', 'aferrados', 'ternurita', 'desesperados', 'nacionales', 'jodidos', 'incongruentes', 'vaquetones', 'maliditos', 'acusador', 'proximas', 'ignorantes', 'presente', 'desfasado', 'culeros', 'escrupulos', 'falsa', 'ardor', 'delincuentes', 'civil', 'buen', 'flojos', 'valiosas', 'lencho', 'marihuaniado', 'chistosito', 'k', 'mandilon', 'saludable', 'pendesta', 'zanganos', 'rratotassinberguensas', 'indeseables', 'blanquitos', 'tisnaditas', 'mediana', 'votado', 'gueros', 'viejos', 'tinoso', 'vende-patrias', 'nuevas', 'marranos', 'dirigido', 'danado', 'rico', 'ruquito', 'productivo', 'vivido', 'enganados', 'pendientes', 'traicioneros', 'cerrada', 'chayoteros', 'pri', 'pedorro', 'umillados', 'sinverguenzas', 'contradictoriosesas', 'claro', 'corruptosvendidos', 'sinsanoso', 'fcg', 'discriminatorio', 'pruevas', 'acarrados', 'razonable', 'neuliberales', 'seno', 'comparado', 'familiares', 'pobresprianistas', 'desinflado', 'padres', 'ahj', 'internado', 'devores', 'pequenos', 'privilegiada', 'alito', 'mexicanos', 'mariguanete', 'involucrado', 'corruptisimo', 'frutsi', 'agradecidos', 'peca', 'obligados', 'lopitos', 'amlono', 'falsos', 'agrada', 'dichos', 'presidentes', 'relajate', 'sueldos', 'apatrida', 'presidenciales', 'innecesaio', 'dueno', 'oscurito', 'pagado', 'corrptos', 'baloyan', 'vivo', 'alimentos', 'esbirros', 'reacionea', 'idiotisado', 'quezada', 'mayoria', 'ratasss', 'saludos', 'senil', 'adulto', 'plagada', 'crueles', 'pueblosolo', 'aparescas', 'arrugado', 'robado', 'acarriados', 'convertidos', 'pura', 'preocupados', 'fraudulentos', 'acarreada', 'conocidos', 'ensucia', 'ironia', 'marihuano', 'hartos', 'atras', 'bitasilina', 'detocs', 'cambiado', 'vividores', 'equivocas', 'conscientes', 'verdad', 'antidemocratas', 'sandijuelas', 'suficiente', 'panista', 'invito', 'qchaspm', 'bonita', 'bandido', 'conchudos', 'publico', 'propio', 'chapuceros', 'repudiaria', 'malditas', 'botuda', 'molestes', 'diferente', 'carreados', 'locuas', 'sedientos', 'malditos', 'indignos', 'convencidos', 'senoras', 'lorensito', 'chspm', 'desinformada', 'hermosos', 'descanse', 'contras', 'amanada', 'insecto', 'desvergonzado', 'ostentados', 'politico', 'mentado', 'nato', 'firme', 'traicionero', 'honesta', 'jajajajajjajajajjaajajajjjaajajjaano', 'cagada', 'corruptotes', 'interesante', 'engrandecerlos', 'cerrados', 'cercano', 'ningun', 'asistiria', 'particulares', 'basica', 'escandalosa', 'aferrado', 'rateros', 'capitalista', 'importante', 'venenosas', 'compradas', 'tristes', 'carruseles', 'obradoristas', 'importantes', 'amloasi', 'amlo', 'hobrador', 'afectados', 'pertinentes', 'chiquitos', 'zombi', 'honestos', 'mexico', 'derecha', 'malparridos', 'junto', 'bienpero', 'solo', 'guaruras', 'acompano', 'pallaso', 'trasnochado', 'encerrado', 'ardida', 'enesima', 'america', 'cundo', 'secuaces', 'puros', 'cilencio', 'pintada', 'vestidas', 'celular', 'buenoaestecabrocontodorespetosiesqueselomeresrcuandolevanaquitarloquerobo', 'defendible', 'propia', 'mentales', 'regalapartidos', 'veandido', 'cercania', 'simbergyensas', 'pejistas', 'viejillo', 'decual', 'ancianos', 'nesita', 'burocratas', 'conosemosa', 'sandeces', 'guaraguano', 'serian', 'innecesarios', 'siega', 'mariguas', 'casiques', 'incuriptible', 'convocados', 'motorolo', 'extrema', 'antimexicanos', 'gatos', 'ponte', 'nidos', 'mexicano', 'opcs', 'excelente', 'democracia', 'sincero', 'manoseada', 'agual', 'naturales', 'sucios', 'quretino', 'retrasados', 'anuales', 'ultrajada', 'corrupta', 'compras', 'tremendo', 'sahagun', 'sera', 'sercas', 'tranquilos', 'inquietos', 'chingandoy', 'mafiosos', 'igualvendidos', 'licenciado', 'limpia', 'etc', 'cruptos', 'ofenza', 'viendoesta', 'postizos', 'comercial', 'justas', 'absoluta', 'puritito', 'estupidos', 'comerciante', 'traido', 'tercera', 'obrera', 'logrado', 'ladrarladrar', 'sinonimos', 'orate', 'lamentable', 'balga', 'politicos', 'despedidos', 'exageradas', 'tespetosox', 'maldita', 'bende', 'chacales', 'peo', 'senor', 'racistas', 'pirque', 'anemonas', 'agancaso', 'maiceado', 'precaria', 'precidente', 'omosexual', 'agradecido', 'duermete', 'nueva', 'publicos', 'jogosa', 'calificativos', 'neoliberales', 'hambriados', 'justos', 'maaaa', 'atarantado', 'sordos', 'tarugada', 'superinteligentisimo', 'clasista', 'limpias', 'asquerosos', 'locote', 'agresivos', 'pios'}\n"
     ]
    }
   ],
   "source": [
    "#Adjs from comments but not in words:\n",
    "adjs_set = set(adjs)\n",
    "diference = adjs_set.difference(words)\n",
    "print(len(diference))\n",
    "print(diference)"
   ]
  },
  {
   "cell_type": "code",
   "execution_count": 94,
   "metadata": {},
   "outputs": [
    {
     "name": "stdout",
     "output_type": "stream",
     "text": [
      "[('increible', 0.0), ('bajo', 0.0), ('efectiva', 0.0), ('decentes', 0.0), ('comprobado', 0.0), ('futuro', 0.0), ('entrevistados', 0.0), ('vista', 1.0), ('metodos', 1.0), ('drogado', 0.0)]\n"
     ]
    }
   ],
   "source": [
    "adj_tag = {}\n",
    "for adj in adjs:\n",
    "    if adj in word_to_vec.keys():\n",
    "        tag = knn.predict([word_to_vec[adj]])\n",
    "        adj_tag[adj] = tag[0]\n",
    "        \n",
    "print(list(adj_tag.items())[:10])   \n",
    "\n"
   ]
  },
  {
   "cell_type": "markdown",
   "metadata": {},
   "source": [
    "## Given a word, return the k nearest neighbours:"
   ]
  },
  {
   "cell_type": "code",
   "execution_count": 95,
   "metadata": {},
   "outputs": [
    {
     "name": "stdout",
     "output_type": "stream",
     "text": [
      "853      riguroso\n",
      "191    despiadado\n",
      "811    implacable\n",
      "369      inquieto\n",
      "Name: word, dtype: object\n"
     ]
    }
   ],
   "source": [
    "def get_k_nearest_neighbours(word, k, word_to_vec,knn):\n",
    "    '''Given a word, return the k nearest neighbours'''\n",
    "    if word in word_to_vec.keys():\n",
    "        word_vec = [word_to_vec[word]]\n",
    "        results = knn.kneighbors(word_vec, n_neighbors=k, return_distance=True)\n",
    "        index = results[1]\n",
    "        for i in index:\n",
    "            print(df.iloc[i]['word'])\n",
    "    else:\n",
    "        print('The word is not in the vocabulary')\n",
    "        \n",
    "get_k_nearest_neighbours('metodico', 4, word_to_vec,knn)"
   ]
  },
  {
   "cell_type": "markdown",
   "metadata": {},
   "source": [
    "## Given a word, predict its category"
   ]
  },
  {
   "cell_type": "code",
   "execution_count": 96,
   "metadata": {},
   "outputs": [
    {
     "name": "stdout",
     "output_type": "stream",
     "text": [
      "The word is a vice\n"
     ]
    }
   ],
   "source": [
    "def predict_category(word, word_to_vec, knn):\n",
    "    if word in word_to_vec.keys():\n",
    "        word_vec = [word_to_vec[word]]\n",
    "        tag = knn.predict(word_vec)\n",
    "        if tag[0] == 0.0:\n",
    "            print('The word is a vice')\n",
    "        else:\n",
    "            print('The word is a virtue')\n",
    "    else:\n",
    "        print('The word is not in the vocabulary')\n",
    "\n",
    "predict_category('metodico', word_to_vec, knn)"
   ]
  }
 ],
 "metadata": {
  "kernelspec": {
   "display_name": ".env-web-scrap",
   "language": "python",
   "name": ".env-web-scrap"
  },
  "language_info": {
   "codemirror_mode": {
    "name": "ipython",
    "version": 3
   },
   "file_extension": ".py",
   "mimetype": "text/x-python",
   "name": "python",
   "nbconvert_exporter": "python",
   "pygments_lexer": "ipython3",
   "version": "3.10.13"
  }
 },
 "nbformat": 4,
 "nbformat_minor": 2
}
