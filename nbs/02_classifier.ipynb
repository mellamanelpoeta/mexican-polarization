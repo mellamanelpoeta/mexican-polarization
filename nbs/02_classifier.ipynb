{
 "cells": [
  {
   "cell_type": "markdown",
   "metadata": {},
   "source": [
    "# Classifier\n",
    "> This is the class that creates the dictionary model"
   ]
  },
  {
   "cell_type": "code",
   "execution_count": null,
   "metadata": {},
   "outputs": [],
   "source": [
    "#| default_exp Classifier"
   ]
  },
  {
   "cell_type": "code",
   "execution_count": null,
   "metadata": {},
   "outputs": [
    {
     "name": "stdout",
     "output_type": "stream",
     "text": [
      "Intel MKL WARNING: Support of Intel(R) Streaming SIMD Extensions 4.2 (Intel(R) SSE4.2) enabled only processors has been deprecated. Intel oneAPI Math Kernel Library 2025.0 will require Intel(R) Advanced Vector Extensions (Intel(R) AVX) instructions.\n",
      "Intel MKL WARNING: Support of Intel(R) Streaming SIMD Extensions 4.2 (Intel(R) SSE4.2) enabled only processors has been deprecated. Intel oneAPI Math Kernel Library 2025.0 will require Intel(R) Advanced Vector Extensions (Intel(R) AVX) instructions.\n"
     ]
    }
   ],
   "source": [
    "#| hide\n",
    "from nbdev.showdoc import *\n",
    "from matplotlib import pyplot as plt"
   ]
  },
  {
   "cell_type": "code",
   "execution_count": null,
   "metadata": {},
   "outputs": [],
   "source": [
    "#| export\n",
    "import pandas as pd\n",
    "import numpy as np\n",
    "from sklearn.neighbors import KNeighborsClassifier\n",
    "from sklearn.model_selection import train_test_split"
   ]
  },
  {
   "cell_type": "code",
   "execution_count": null,
   "metadata": {},
   "outputs": [],
   "source": [
    "#negative_words file\n",
    "df = pd.read_csv('negative_words(Julio).csv')\n",
    "df = df.drop(columns=['original']) #drop it since it contains the concept with an * in it\n",
    "\n",
    "neg_words = [] \n",
    "for _, row in df.iterrows():\n",
    "    for item in row:\n",
    "        if pd.notnull(item):\n",
    "            neg_words.append(item.strip())"
   ]
  },
  {
   "cell_type": "code",
   "execution_count": null,
   "metadata": {},
   "outputs": [
    {
     "data": {
      "text/plain": [
       "1599"
      ]
     },
     "execution_count": null,
     "metadata": {},
     "output_type": "execute_result"
    }
   ],
   "source": [
    "#Drop duplicates in neg_words:\n",
    "neg_words = list(set(neg_words))\n",
    "\n",
    "len(neg_words)"
   ]
  },
  {
   "cell_type": "code",
   "execution_count": null,
   "metadata": {},
   "outputs": [
    {
     "name": "stdout",
     "output_type": "stream",
     "text": [
      "['moralidad']\n",
      "['moral']\n",
      "['etica']\n",
      "['etico']\n",
      "['principios']\n",
      "['valores']\n",
      "['bueno', 'buena']\n",
      "['bondadoso']\n",
      "['correcto']\n",
      "['erroneo', 'equivocado', 'incorrecto', 'malo']\n",
      "['justicia']\n",
      "['fechoria', 'pecado', 'indebido']\n",
      "['virtud']\n",
      "['vicioso']\n",
      "['moralidad']\n",
      "['etica']\n"
     ]
    }
   ],
   "source": [
    "#moral_foundations_dictionary file:\n",
    "df = pd.read_csv('moral_foundations_dictionary(Julio).csv')\n",
    "df = df[['categories','word_examples']]\n",
    "\n",
    "virtue = []\n",
    "vice = []\n",
    "for _, row in df.iterrows():\n",
    "    if pd.notnull(row['word_examples']):\n",
    "        words = row['word_examples'].split(',')\n",
    "        words = [word.strip() for word in words]\n",
    "        if 'Virtue' in row['categories']:\n",
    "            virtue.extend(words)\n",
    "        elif 'Vice' in row['categories']:\n",
    "            vice.extend(words)\n",
    "        else:\n",
    "            print(words)"
   ]
  },
  {
   "cell_type": "code",
   "execution_count": null,
   "metadata": {},
   "outputs": [],
   "source": [
    "virtue.extend(['moralidad','moral','etica','etico','principios','valores','bueno','buena','bondadoso','correcto','justicia','virtud','moralidad','etica'])\n",
    "vice.extend(['erroneo','equivocado','incorrecto','malo','fechoria','pecado','indebido','vicioso'])\n",
    "#Drop duplicates in virtue and vice:\n",
    "virtue = list(set(virtue))\n",
    "vice = list(set(vice).union(set(neg_words)))\n"
   ]
  },
  {
   "cell_type": "code",
   "execution_count": null,
   "metadata": {},
   "outputs": [
    {
     "name": "stdout",
     "output_type": "stream",
     "text": [
      "vice examples:  ['disgustar', 'reclamar', 'querella', 'estropear', 'duelo', 'alarmado', 'gruño', 'rebajado', 'locos', 'interrumpiésemos']\n",
      "virtue examples:  ['imparcialidad', 'ordenar', 'beneficiar', 'buena', 'empatico', 'balanceado', 'casta', 'aliados', 'justo', 'cuidar']\n",
      "vice length:  1691\n",
      "virtue length:  210\n",
      "total words: 1901\n",
      "vice proportion:  0.89\n",
      "virtue proportion:  0.11\n"
     ]
    }
   ],
   "source": [
    "\n",
    "print('vice examples: ', vice[:10])\n",
    "print('virtue examples: ', virtue[:10])\n",
    "\n",
    "print('vice length: ', len(vice))\n",
    "print('virtue length: ', len(virtue))\n",
    "print('total words:', len(vice) + len(virtue))\n",
    "\n",
    "print('vice proportion: ', round(len(vice)/(len(vice) + len(virtue)),2)) \n",
    "print('virtue proportion: ', round(len(virtue)/(len(vice) + len(virtue)),2))"
   ]
  },
  {
   "cell_type": "code",
   "execution_count": null,
   "metadata": {},
   "outputs": [],
   "source": [
    "#eliminate accents from words:\n",
    "import unidecode\n",
    "vice = [unidecode.unidecode(word) for word in vice]\n",
    "virtue = [unidecode.unidecode(word) for word in virtue]\n",
    "\n"
   ]
  },
  {
   "cell_type": "code",
   "execution_count": null,
   "metadata": {},
   "outputs": [],
   "source": [
    "\n",
    "#replace 'ñ' for 'n':\n",
    "vice = [word.replace('ñ','n') for word in vice]\n",
    "virtue = [word.replace('ñ','n') for word in virtue]"
   ]
  },
  {
   "cell_type": "code",
   "execution_count": null,
   "metadata": {},
   "outputs": [
    {
     "name": "stdout",
     "output_type": "stream",
     "text": [
      "vice examples:  ['disgustar', 'reclamar', 'querella', 'estropear', 'duelo', 'alarmado', 'gruno', 'rebajado', 'locos', 'interrumpiesemos']\n",
      "virtue examples:  ['imparcialidad', 'ordenar', 'beneficiar', 'buena', 'empatico', 'balanceado', 'casta', 'aliados', 'justo', 'cuidar']\n"
     ]
    }
   ],
   "source": [
    "print('vice examples: ', vice[:10])\n",
    "print('virtue examples: ', virtue[:10])"
   ]
  },
  {
   "cell_type": "markdown",
   "metadata": {},
   "source": [
    "We have a bigger proportion of vice words which may have an important effect on the tagging task usin KNN"
   ]
  },
  {
   "cell_type": "code",
   "execution_count": null,
   "metadata": {},
   "outputs": [],
   "source": [
    "#Load the embeddings to data frame:\n",
    "def load_embeddings(file_path):\n",
    "    word_to_vec = {}\n",
    "    with open(file_path, 'r', encoding='utf-8') as file:\n",
    "        for line in file:\n",
    "            values = line.split()\n",
    "            word = values[0]\n",
    "            vector = np.array(values[1:], dtype='float32')\n",
    "            word_to_vec[word] = vector\n",
    "    return word_to_vec\n",
    "\n",
    "word_to_vec = load_embeddings('vectorspol.txt')"
   ]
  },
  {
   "cell_type": "code",
   "execution_count": null,
   "metadata": {},
   "outputs": [],
   "source": [
    "words = vice + virtue\n",
    "words = set(words)"
   ]
  },
  {
   "cell_type": "code",
   "execution_count": null,
   "metadata": {},
   "outputs": [],
   "source": [
    "#| export\n",
    "class Classifier:\n",
    "    def __init__(self):\n",
    "        self.embeddings = None\n",
    "        self.vice = None\n",
    "        self.virtue = None\n",
    "\n",
    "    def load_embeddings(file_path):\n",
    "        '''Loads the embeddings from a file and returns a dictionary with the words as keys and the vectors as values'''\n",
    "        word_to_vec = {}\n",
    "        with open(file_path, 'r', encoding='utf-8') as file:\n",
    "            for line in file:\n",
    "                values = line.split()\n",
    "                word = values[0]\n",
    "                vector = np.array(values[1:], dtype='float32')\n",
    "                print(vector.shape)\n",
    "                word_to_vec[word] = vector\n",
    "        self.embeddings = word_to_vec\n",
    "        return word_to_vec\n",
    "    \n",
    "    \n",
    "    def list_to_vec(vice, virtue, word_to_vec):\n",
    "        '''Returns the vector representation of a list of words in a df'''\n",
    "        data = {'word': [], 'vector': [], 'category': []}\n",
    "        for word in vice:\n",
    "            if word in word_to_vec.keys():\n",
    "                data['word'].append(word)\n",
    "                data['vector'].append(word_to_vec[word])\n",
    "                data['category'].append(0.0) #vice will be represented as 0\n",
    "            else:\n",
    "                data['word'].append(word)\n",
    "                data['vector'].append(np.nan)\n",
    "                data['category'].append(0.0) \n",
    "        \n",
    "        for word in virtue:\n",
    "            if word in word_to_vec.keys():\n",
    "                data['word'].append(word)\n",
    "                data['vector'].append(word_to_vec[word])\n",
    "                data['category'].append(1.0) #virtue will be represented as 1\n",
    "            else:\n",
    "                data['word'].append(word)\n",
    "                data['vector'].append(np.nan)\n",
    "                data['category'].append(1.0)\n",
    "\n",
    "        df = pd.DataFrame(data)\n",
    "        return df"
   ]
  },
  {
   "cell_type": "code",
   "execution_count": null,
   "metadata": {},
   "outputs": [
    {
     "name": "stdout",
     "output_type": "stream",
     "text": [
      "Total words:  1901\n",
      "Total words after dropping NaN:  1260\n",
      "∆:  641\n",
      "∆%: 33.72\n"
     ]
    },
    {
     "data": {
      "text/html": [
       "<div>\n",
       "<style scoped>\n",
       "    .dataframe tbody tr th:only-of-type {\n",
       "        vertical-align: middle;\n",
       "    }\n",
       "\n",
       "    .dataframe tbody tr th {\n",
       "        vertical-align: top;\n",
       "    }\n",
       "\n",
       "    .dataframe thead th {\n",
       "        text-align: right;\n",
       "    }\n",
       "</style>\n",
       "<table border=\"1\" class=\"dataframe\">\n",
       "  <thead>\n",
       "    <tr style=\"text-align: right;\">\n",
       "      <th></th>\n",
       "      <th>word</th>\n",
       "      <th>vector</th>\n",
       "      <th>category</th>\n",
       "    </tr>\n",
       "  </thead>\n",
       "  <tbody>\n",
       "    <tr>\n",
       "      <th>0</th>\n",
       "      <td>reclamar</td>\n",
       "      <td>[0.350479, 0.451604, -0.038733, 0.004833, 0.09...</td>\n",
       "      <td>0.0</td>\n",
       "    </tr>\n",
       "    <tr>\n",
       "      <th>1</th>\n",
       "      <td>querella</td>\n",
       "      <td>[0.372906, 0.212048, 0.07853, 0.396364, 0.2686...</td>\n",
       "      <td>0.0</td>\n",
       "    </tr>\n",
       "    <tr>\n",
       "      <th>2</th>\n",
       "      <td>duelo</td>\n",
       "      <td>[0.03649, -0.714654, 0.320353, 0.369299, -0.34...</td>\n",
       "      <td>0.0</td>\n",
       "    </tr>\n",
       "    <tr>\n",
       "      <th>3</th>\n",
       "      <td>alarmado</td>\n",
       "      <td>[-0.242345, 0.106267, -0.283696, 0.385316, 0.3...</td>\n",
       "      <td>0.0</td>\n",
       "    </tr>\n",
       "    <tr>\n",
       "      <th>4</th>\n",
       "      <td>rebajado</td>\n",
       "      <td>[-0.433806, -0.272883, -0.933484, 0.264673, 0....</td>\n",
       "      <td>0.0</td>\n",
       "    </tr>\n",
       "    <tr>\n",
       "      <th>...</th>\n",
       "      <td>...</td>\n",
       "      <td>...</td>\n",
       "      <td>...</td>\n",
       "    </tr>\n",
       "    <tr>\n",
       "      <th>1255</th>\n",
       "      <td>reciprocidad</td>\n",
       "      <td>[0.027735, 0.303429, -0.187403, 0.371294, 0.07...</td>\n",
       "      <td>1.0</td>\n",
       "    </tr>\n",
       "    <tr>\n",
       "      <th>1256</th>\n",
       "      <td>blindar</td>\n",
       "      <td>[0.575569, -0.052739, -0.048362, 0.442083, -0....</td>\n",
       "      <td>1.0</td>\n",
       "    </tr>\n",
       "    <tr>\n",
       "      <th>1257</th>\n",
       "      <td>gremio</td>\n",
       "      <td>[-0.192371, -0.257035, -0.517887, -1.009554, -...</td>\n",
       "      <td>1.0</td>\n",
       "    </tr>\n",
       "    <tr>\n",
       "      <th>1258</th>\n",
       "      <td>equitativamente</td>\n",
       "      <td>[0.04587, 0.226428, -0.237832, 0.400725, -0.36...</td>\n",
       "      <td>1.0</td>\n",
       "    </tr>\n",
       "    <tr>\n",
       "      <th>1259</th>\n",
       "      <td>comuna</td>\n",
       "      <td>[-0.448656, 1.283608, -0.08672, 0.188085, 0.49...</td>\n",
       "      <td>1.0</td>\n",
       "    </tr>\n",
       "  </tbody>\n",
       "</table>\n",
       "<p>1260 rows × 3 columns</p>\n",
       "</div>"
      ],
      "text/plain": [
       "                 word                                             vector  \\\n",
       "0            reclamar  [0.350479, 0.451604, -0.038733, 0.004833, 0.09...   \n",
       "1            querella  [0.372906, 0.212048, 0.07853, 0.396364, 0.2686...   \n",
       "2               duelo  [0.03649, -0.714654, 0.320353, 0.369299, -0.34...   \n",
       "3            alarmado  [-0.242345, 0.106267, -0.283696, 0.385316, 0.3...   \n",
       "4            rebajado  [-0.433806, -0.272883, -0.933484, 0.264673, 0....   \n",
       "...               ...                                                ...   \n",
       "1255     reciprocidad  [0.027735, 0.303429, -0.187403, 0.371294, 0.07...   \n",
       "1256          blindar  [0.575569, -0.052739, -0.048362, 0.442083, -0....   \n",
       "1257           gremio  [-0.192371, -0.257035, -0.517887, -1.009554, -...   \n",
       "1258  equitativamente  [0.04587, 0.226428, -0.237832, 0.400725, -0.36...   \n",
       "1259           comuna  [-0.448656, 1.283608, -0.08672, 0.188085, 0.49...   \n",
       "\n",
       "      category  \n",
       "0          0.0  \n",
       "1          0.0  \n",
       "2          0.0  \n",
       "3          0.0  \n",
       "4          0.0  \n",
       "...        ...  \n",
       "1255       1.0  \n",
       "1256       1.0  \n",
       "1257       1.0  \n",
       "1258       1.0  \n",
       "1259       1.0  \n",
       "\n",
       "[1260 rows x 3 columns]"
      ]
     },
     "execution_count": null,
     "metadata": {},
     "output_type": "execute_result"
    }
   ],
   "source": [
    "def list_to_vec(vice, virtue, word_to_vec):\n",
    "    '''Returns the vector representation of a list of words in a df'''\n",
    "    data = {'word': [], 'vector': [], 'category': []}\n",
    "    words_notin = []\n",
    "    for word in vice:\n",
    "        if word in word_to_vec.keys():\n",
    "            data['word'].append(word)\n",
    "            data['vector'].append(word_to_vec[word])\n",
    "            data['category'].append(0.0) #vice will be represented as 0\n",
    "        else:\n",
    "            data['word'].append(word)\n",
    "            data['vector'].append(np.nan)\n",
    "            data['category'].append(0.0)\n",
    "            words_notin.append(word)\n",
    "    \n",
    "    for word in virtue:\n",
    "        if word in word_to_vec.keys():\n",
    "            data['word'].append(word)\n",
    "            data['vector'].append(word_to_vec[word])\n",
    "            data['category'].append(1.0) #virtue will be represented as 1\n",
    "        else:\n",
    "            data['word'].append(word)\n",
    "            data['vector'].append(np.nan)\n",
    "            data['category'].append(1.0)\n",
    "            words_notin.append(word)\n",
    "\n",
    "    df = pd.DataFrame(data)\n",
    "    return df, words_notin\n",
    "\n",
    "df,words_notin = list_to_vec(vice,virtue,word_to_vec)\n",
    "df2= pd.DataFrame()\n",
    "# Asigna la lista como una nueva columna del DataFrame\n",
    "df2['words not in embeddings'] = words_notin\n",
    "\n",
    "total = len(df)\n",
    "print('Total words: ',total)\n",
    "df.dropna(inplace=True)\n",
    "df.reset_index(inplace=True,drop=True)\n",
    "print('Total words after dropping NaN: ',len(df))\n",
    "print('∆: ',total-len(df))\n",
    "print('∆%:', round((total-len(df))/total*100,2) )\n",
    "df\n"
   ]
  },
  {
   "cell_type": "code",
   "execution_count": null,
   "metadata": {},
   "outputs": [],
   "source": [
    "df2.to_csv('words_notin_embeddings.csv',index=False)"
   ]
  },
  {
   "cell_type": "code",
   "execution_count": null,
   "metadata": {},
   "outputs": [
    {
     "name": "stdout",
     "output_type": "stream",
     "text": [
      "False\n"
     ]
    }
   ],
   "source": [
    "#write a function to return a boolean if a word is in the embeddings:\n",
    "def is_in_embeddings(word,word_to_vec):\n",
    "    '''Returns a boolean if the word is in the embeddings'''\n",
    "    return word in word_to_vec.keys()\n",
    "\n",
    "print(is_in_embeddings('lioso',word_to_vec))"
   ]
  },
  {
   "cell_type": "markdown",
   "metadata": {},
   "source": [
    "## Vice words"
   ]
  },
  {
   "cell_type": "code",
   "execution_count": null,
   "metadata": {},
   "outputs": [
    {
     "data": {
      "text/html": [
       "<div>\n",
       "<style scoped>\n",
       "    .dataframe tbody tr th:only-of-type {\n",
       "        vertical-align: middle;\n",
       "    }\n",
       "\n",
       "    .dataframe tbody tr th {\n",
       "        vertical-align: top;\n",
       "    }\n",
       "\n",
       "    .dataframe thead th {\n",
       "        text-align: right;\n",
       "    }\n",
       "</style>\n",
       "<table border=\"1\" class=\"dataframe\">\n",
       "  <thead>\n",
       "    <tr style=\"text-align: right;\">\n",
       "      <th></th>\n",
       "      <th>word</th>\n",
       "      <th>vector</th>\n",
       "      <th>category</th>\n",
       "    </tr>\n",
       "  </thead>\n",
       "  <tbody>\n",
       "    <tr>\n",
       "      <th>0</th>\n",
       "      <td>gravedad</td>\n",
       "      <td>[0.406933, -0.442615, 0.150346, 0.196391, 0.46...</td>\n",
       "      <td>0.0</td>\n",
       "    </tr>\n",
       "    <tr>\n",
       "      <th>1</th>\n",
       "      <td>reclamar</td>\n",
       "      <td>[0.350479, 0.451604, -0.038733, 0.004833, 0.09...</td>\n",
       "      <td>0.0</td>\n",
       "    </tr>\n",
       "    <tr>\n",
       "      <th>2</th>\n",
       "      <td>querella</td>\n",
       "      <td>[0.372906, 0.212048, 0.07853, 0.396364, 0.2686...</td>\n",
       "      <td>0.0</td>\n",
       "    </tr>\n",
       "    <tr>\n",
       "      <th>3</th>\n",
       "      <td>duelo</td>\n",
       "      <td>[0.03649, -0.714654, 0.320353, 0.369299, -0.34...</td>\n",
       "      <td>0.0</td>\n",
       "    </tr>\n",
       "    <tr>\n",
       "      <th>4</th>\n",
       "      <td>alarmado</td>\n",
       "      <td>[-0.242345, 0.106267, -0.283696, 0.385316, 0.3...</td>\n",
       "      <td>0.0</td>\n",
       "    </tr>\n",
       "    <tr>\n",
       "      <th>...</th>\n",
       "      <td>...</td>\n",
       "      <td>...</td>\n",
       "      <td>...</td>\n",
       "    </tr>\n",
       "    <tr>\n",
       "      <th>1064</th>\n",
       "      <td>abandone</td>\n",
       "      <td>[0.067921, -0.367901, -0.07643, 0.076776, 0.25...</td>\n",
       "      <td>0.0</td>\n",
       "    </tr>\n",
       "    <tr>\n",
       "      <th>1065</th>\n",
       "      <td>devastacion</td>\n",
       "      <td>[-0.623626, -0.312241, -0.085955, 0.00901, -0....</td>\n",
       "      <td>0.0</td>\n",
       "    </tr>\n",
       "    <tr>\n",
       "      <th>1066</th>\n",
       "      <td>llorando</td>\n",
       "      <td>[0.225656, 0.076165, -0.011752, 0.036493, -0.5...</td>\n",
       "      <td>0.0</td>\n",
       "    </tr>\n",
       "    <tr>\n",
       "      <th>1067</th>\n",
       "      <td>excluyente</td>\n",
       "      <td>[0.029632, -0.521416, 0.069739, 0.01097, 0.114...</td>\n",
       "      <td>0.0</td>\n",
       "    </tr>\n",
       "    <tr>\n",
       "      <th>1068</th>\n",
       "      <td>rabia</td>\n",
       "      <td>[0.005622, 0.472133, 0.040107, -0.431458, 0.41...</td>\n",
       "      <td>0.0</td>\n",
       "    </tr>\n",
       "  </tbody>\n",
       "</table>\n",
       "<p>1069 rows × 3 columns</p>\n",
       "</div>"
      ],
      "text/plain": [
       "             word                                             vector  category\n",
       "0        gravedad  [0.406933, -0.442615, 0.150346, 0.196391, 0.46...       0.0\n",
       "1        reclamar  [0.350479, 0.451604, -0.038733, 0.004833, 0.09...       0.0\n",
       "2        querella  [0.372906, 0.212048, 0.07853, 0.396364, 0.2686...       0.0\n",
       "3           duelo  [0.03649, -0.714654, 0.320353, 0.369299, -0.34...       0.0\n",
       "4        alarmado  [-0.242345, 0.106267, -0.283696, 0.385316, 0.3...       0.0\n",
       "...           ...                                                ...       ...\n",
       "1064     abandone  [0.067921, -0.367901, -0.07643, 0.076776, 0.25...       0.0\n",
       "1065  devastacion  [-0.623626, -0.312241, -0.085955, 0.00901, -0....       0.0\n",
       "1066     llorando  [0.225656, 0.076165, -0.011752, 0.036493, -0.5...       0.0\n",
       "1067   excluyente  [0.029632, -0.521416, 0.069739, 0.01097, 0.114...       0.0\n",
       "1068        rabia  [0.005622, 0.472133, 0.040107, -0.431458, 0.41...       0.0\n",
       "\n",
       "[1069 rows x 3 columns]"
      ]
     },
     "execution_count": null,
     "metadata": {},
     "output_type": "execute_result"
    }
   ],
   "source": [
    "df[df['category'] == 0.0]"
   ]
  },
  {
   "cell_type": "markdown",
   "metadata": {},
   "source": [
    "## Virtue words"
   ]
  },
  {
   "cell_type": "code",
   "execution_count": null,
   "metadata": {},
   "outputs": [
    {
     "data": {
      "text/html": [
       "<div>\n",
       "<style scoped>\n",
       "    .dataframe tbody tr th:only-of-type {\n",
       "        vertical-align: middle;\n",
       "    }\n",
       "\n",
       "    .dataframe tbody tr th {\n",
       "        vertical-align: top;\n",
       "    }\n",
       "\n",
       "    .dataframe thead th {\n",
       "        text-align: right;\n",
       "    }\n",
       "</style>\n",
       "<table border=\"1\" class=\"dataframe\">\n",
       "  <thead>\n",
       "    <tr style=\"text-align: right;\">\n",
       "      <th></th>\n",
       "      <th>word</th>\n",
       "      <th>vector</th>\n",
       "      <th>category</th>\n",
       "    </tr>\n",
       "  </thead>\n",
       "  <tbody>\n",
       "    <tr>\n",
       "      <th>0</th>\n",
       "      <td>imparcialidad</td>\n",
       "      <td>[-0.271824, -0.125822, 0.096738, 0.458268, 0.6...</td>\n",
       "      <td>1.0</td>\n",
       "    </tr>\n",
       "    <tr>\n",
       "      <th>1</th>\n",
       "      <td>ordenar</td>\n",
       "      <td>[0.967317, 0.239572, -0.26908, -0.046095, 0.03...</td>\n",
       "      <td>1.0</td>\n",
       "    </tr>\n",
       "    <tr>\n",
       "      <th>2</th>\n",
       "      <td>beneficiar</td>\n",
       "      <td>[0.386634, 0.620873, -0.233254, 0.273299, -0.1...</td>\n",
       "      <td>1.0</td>\n",
       "    </tr>\n",
       "    <tr>\n",
       "      <th>3</th>\n",
       "      <td>buena</td>\n",
       "      <td>[-0.225948, -0.338355, 0.192, 0.190509, -0.138...</td>\n",
       "      <td>1.0</td>\n",
       "    </tr>\n",
       "    <tr>\n",
       "      <th>4</th>\n",
       "      <td>empatico</td>\n",
       "      <td>[-0.273632, -0.032786, -0.114944, 0.601547, -0...</td>\n",
       "      <td>1.0</td>\n",
       "    </tr>\n",
       "    <tr>\n",
       "      <th>...</th>\n",
       "      <td>...</td>\n",
       "      <td>...</td>\n",
       "      <td>...</td>\n",
       "    </tr>\n",
       "    <tr>\n",
       "      <th>186</th>\n",
       "      <td>reciprocidad</td>\n",
       "      <td>[0.027735, 0.303429, -0.187403, 0.371294, 0.07...</td>\n",
       "      <td>1.0</td>\n",
       "    </tr>\n",
       "    <tr>\n",
       "      <th>187</th>\n",
       "      <td>blindar</td>\n",
       "      <td>[0.575569, -0.052739, -0.048362, 0.442083, -0....</td>\n",
       "      <td>1.0</td>\n",
       "    </tr>\n",
       "    <tr>\n",
       "      <th>188</th>\n",
       "      <td>gremio</td>\n",
       "      <td>[-0.192371, -0.257035, -0.517887, -1.009554, -...</td>\n",
       "      <td>1.0</td>\n",
       "    </tr>\n",
       "    <tr>\n",
       "      <th>189</th>\n",
       "      <td>equitativamente</td>\n",
       "      <td>[0.04587, 0.226428, -0.237832, 0.400725, -0.36...</td>\n",
       "      <td>1.0</td>\n",
       "    </tr>\n",
       "    <tr>\n",
       "      <th>190</th>\n",
       "      <td>comuna</td>\n",
       "      <td>[-0.448656, 1.283608, -0.08672, 0.188085, 0.49...</td>\n",
       "      <td>1.0</td>\n",
       "    </tr>\n",
       "  </tbody>\n",
       "</table>\n",
       "<p>191 rows × 3 columns</p>\n",
       "</div>"
      ],
      "text/plain": [
       "                word                                             vector  \\\n",
       "0      imparcialidad  [-0.271824, -0.125822, 0.096738, 0.458268, 0.6...   \n",
       "1            ordenar  [0.967317, 0.239572, -0.26908, -0.046095, 0.03...   \n",
       "2         beneficiar  [0.386634, 0.620873, -0.233254, 0.273299, -0.1...   \n",
       "3              buena  [-0.225948, -0.338355, 0.192, 0.190509, -0.138...   \n",
       "4           empatico  [-0.273632, -0.032786, -0.114944, 0.601547, -0...   \n",
       "..               ...                                                ...   \n",
       "186     reciprocidad  [0.027735, 0.303429, -0.187403, 0.371294, 0.07...   \n",
       "187          blindar  [0.575569, -0.052739, -0.048362, 0.442083, -0....   \n",
       "188           gremio  [-0.192371, -0.257035, -0.517887, -1.009554, -...   \n",
       "189  equitativamente  [0.04587, 0.226428, -0.237832, 0.400725, -0.36...   \n",
       "190           comuna  [-0.448656, 1.283608, -0.08672, 0.188085, 0.49...   \n",
       "\n",
       "     category  \n",
       "0         1.0  \n",
       "1         1.0  \n",
       "2         1.0  \n",
       "3         1.0  \n",
       "4         1.0  \n",
       "..        ...  \n",
       "186       1.0  \n",
       "187       1.0  \n",
       "188       1.0  \n",
       "189       1.0  \n",
       "190       1.0  \n",
       "\n",
       "[191 rows x 3 columns]"
      ]
     },
     "execution_count": null,
     "metadata": {},
     "output_type": "execute_result"
    }
   ],
   "source": [
    "df[df['category'] == 1.0].reset_index(drop=True)"
   ]
  },
  {
   "cell_type": "code",
   "execution_count": null,
   "metadata": {},
   "outputs": [
    {
     "name": "stdout",
     "output_type": "stream",
     "text": [
      "[[ 0.406933 -0.442615  0.150346 ...  0.163208  0.050834  0.061015]\n",
      " [ 0.350479  0.451604 -0.038733 ... -0.160872  0.151122  0.226422]\n",
      " [ 0.372906  0.212048  0.07853  ...  0.894929  0.401156  0.726543]\n",
      " ...\n",
      " [-0.192371 -0.257035 -0.517887 ...  0.547242  0.286338 -0.057461]\n",
      " [ 0.04587   0.226428 -0.237832 ...  0.661773  0.514155 -0.623272]\n",
      " [-0.448656  1.283608 -0.08672  ...  0.547518  0.155616  0.122199]]\n",
      "[0. 0. 0. ... 1. 1. 1.]\n"
     ]
    }
   ],
   "source": [
    "X = np.array(df['vector'].tolist())\n",
    "print(X)\n",
    "y = np.array(df['category'].tolist())\n",
    "print(y)"
   ]
  },
  {
   "cell_type": "code",
   "execution_count": null,
   "metadata": {},
   "outputs": [
    {
     "name": "stdout",
     "output_type": "stream",
     "text": [
      "0.913\n"
     ]
    },
    {
     "name": "stderr",
     "output_type": "stream",
     "text": [
      "/Users/gerardoguerrero/anaconda3/lib/python3.10/site-packages/threadpoolctl.py:1010: RuntimeWarning: \n",
      "Found Intel OpenMP ('libiomp') and LLVM OpenMP ('libomp') loaded at\n",
      "the same time. Both libraries are known to be incompatible and this\n",
      "can cause random crashes or deadlocks on Linux when loaded in the\n",
      "same Python program.\n",
      "Using threadpoolctl may cause crashes or deadlocks. For more\n",
      "information and possible workarounds, please see\n",
      "    https://github.com/joblib/threadpoolctl/blob/master/multiple_openmp.md\n",
      "\n",
      "  warnings.warn(msg, RuntimeWarning)\n"
     ]
    }
   ],
   "source": [
    "X_train, X_test, y_train, y_test = train_test_split(df['vector'], df['category'], test_size=0.2, random_state=21,stratify=df['category'])\n",
    "X_train = X_train.to_list()\n",
    "knn = KNeighborsClassifier(n_neighbors=3)\n",
    "knn.fit(X_train, y_train)\n",
    "X_test = X_test.to_list()\n",
    "print(round(knn.score(X_test, y_test),3))"
   ]
  },
  {
   "cell_type": "code",
   "execution_count": null,
   "metadata": {},
   "outputs": [
    {
     "name": "stderr",
     "output_type": "stream",
     "text": [
      "No artists with labels found to put in legend.  Note that artists whose label start with an underscore are ignored when legend() is called with no argument.\n"
     ]
    },
    {
     "data": {
      "image/png": "[encoded data removed]",
      "text/plain": [
       "<Figure size 800x600 with 1 Axes>"
      ]
     },
     "metadata": {},
     "output_type": "display_data"
    },
    {
     "name": "stdout",
     "output_type": "stream",
     "text": [
      "Best accuracy and number of neighbours:  (3, 0.9126984126984127)\n"
     ]
    }
   ],
   "source": [
    "test_accuracies = {}\n",
    "neighbours = range(1, 30)\n",
    "\n",
    "for neighbour in neighbours:\n",
    "    knn = KNeighborsClassifier(n_neighbors=neighbour)\n",
    "    knn.fit(X_train, y_train)\n",
    "    test_accuracies[neighbour] = knn.score(X_test, y_test)\n",
    "    \n",
    "plt.figure(figsize=(8,6))\n",
    "plt.title('KNN Accuracy: Varying number of neighbours')\n",
    "plt.plot(list(test_accuracies.keys()), list(test_accuracies.values()))\n",
    "plt.legend()\n",
    "plt.xlabel('Number of neighbours')\n",
    "plt.ylabel('Accuracy')\n",
    "plt.show()\n",
    "\n",
    "print('Best accuracy and number of neighbours: ', max(test_accuracies.items(), key=lambda x: x[1]))"
   ]
  },
  {
   "cell_type": "markdown",
   "metadata": {},
   "source": [
    "### Using the model to tag adjectives found on media*\n",
    "> Issues to be solved..."
   ]
  },
  {
   "cell_type": "code",
   "execution_count": null,
   "metadata": {},
   "outputs": [
    {
     "data": {
      "text/html": [
       "<style>#sk-container-id-1 {color: black;}#sk-container-id-1 pre{padding: 0;}#sk-container-id-1 div.sk-toggleable {background-color: white;}#sk-container-id-1 label.sk-toggleable__label {cursor: pointer;display: block;width: 100%;margin-bottom: 0;padding: 0.3em;box-sizing: border-box;text-align: center;}#sk-container-id-1 label.sk-toggleable__label-arrow:before {content: \"▸\";float: left;margin-right: 0.25em;color: #696969;}#sk-container-id-1 label.sk-toggleable__label-arrow:hover:before {color: black;}#sk-container-id-1 div.sk-estimator:hover label.sk-toggleable__label-arrow:before {color: black;}#sk-container-id-1 div.sk-toggleable__content {max-height: 0;max-width: 0;overflow: hidden;text-align: left;background-color: #f0f8ff;}#sk-container-id-1 div.sk-toggleable__content pre {margin: 0.2em;color: black;border-radius: 0.25em;background-color: #f0f8ff;}#sk-container-id-1 input.sk-toggleable__control:checked~div.sk-toggleable__content {max-height: 200px;max-width: 100%;overflow: auto;}#sk-container-id-1 input.sk-toggleable__control:checked~label.sk-toggleable__label-arrow:before {content: \"▾\";}#sk-container-id-1 div.sk-estimator input.sk-toggleable__control:checked~label.sk-toggleable__label {background-color: #d4ebff;}#sk-container-id-1 div.sk-label input.sk-toggleable__control:checked~label.sk-toggleable__label {background-color: #d4ebff;}#sk-container-id-1 input.sk-hidden--visually {border: 0;clip: rect(1px 1px 1px 1px);clip: rect(1px, 1px, 1px, 1px);height: 1px;margin: -1px;overflow: hidden;padding: 0;position: absolute;width: 1px;}#sk-container-id-1 div.sk-estimator {font-family: monospace;background-color: #f0f8ff;border: 1px dotted black;border-radius: 0.25em;box-sizing: border-box;margin-bottom: 0.5em;}#sk-container-id-1 div.sk-estimator:hover {background-color: #d4ebff;}#sk-container-id-1 div.sk-parallel-item::after {content: \"\";width: 100%;border-bottom: 1px solid gray;flex-grow: 1;}#sk-container-id-1 div.sk-label:hover label.sk-toggleable__label {background-color: #d4ebff;}#sk-container-id-1 div.sk-serial::before {content: \"\";position: absolute;border-left: 1px solid gray;box-sizing: border-box;top: 0;bottom: 0;left: 50%;z-index: 0;}#sk-container-id-1 div.sk-serial {display: flex;flex-direction: column;align-items: center;background-color: white;padding-right: 0.2em;padding-left: 0.2em;position: relative;}#sk-container-id-1 div.sk-item {position: relative;z-index: 1;}#sk-container-id-1 div.sk-parallel {display: flex;align-items: stretch;justify-content: center;background-color: white;position: relative;}#sk-container-id-1 div.sk-item::before, #sk-container-id-1 div.sk-parallel-item::before {content: \"\";position: absolute;border-left: 1px solid gray;box-sizing: border-box;top: 0;bottom: 0;left: 50%;z-index: -1;}#sk-container-id-1 div.sk-parallel-item {display: flex;flex-direction: column;z-index: 1;position: relative;background-color: white;}#sk-container-id-1 div.sk-parallel-item:first-child::after {align-self: flex-end;width: 50%;}#sk-container-id-1 div.sk-parallel-item:last-child::after {align-self: flex-start;width: 50%;}#sk-container-id-1 div.sk-parallel-item:only-child::after {width: 0;}#sk-container-id-1 div.sk-dashed-wrapped {border: 1px dashed gray;margin: 0 0.4em 0.5em 0.4em;box-sizing: border-box;padding-bottom: 0.4em;background-color: white;}#sk-container-id-1 div.sk-label label {font-family: monospace;font-weight: bold;display: inline-block;line-height: 1.2em;}#sk-container-id-1 div.sk-label-container {text-align: center;}#sk-container-id-1 div.sk-container {/* jupyter's `normalize.less` sets `[hidden] { display: none; }` but bootstrap.min.css set `[hidden] { display: none !important; }` so we also need the `!important` here to be able to override the default hidden behavior on the sphinx rendered scikit-learn.org. See: https://github.com/scikit-learn/scikit-learn/issues/21755 */display: inline-block !important;position: relative;}#sk-container-id-1 div.sk-text-repr-fallback {display: none;}</style><div id=\"sk-container-id-1\" class=\"sk-top-container\"><div class=\"sk-text-repr-fallback\"><pre>KNeighborsClassifier()</pre><b>In a Jupyter environment, please rerun this cell to show the HTML representation or trust the notebook. <br />On GitHub, the HTML representation is unable to render, please try loading this page with nbviewer.org.</b></div><div class=\"sk-container\" hidden><div class=\"sk-item\"><div class=\"sk-estimator sk-toggleable\"><input class=\"sk-toggleable__control sk-hidden--visually\" id=\"sk-estimator-id-1\" type=\"checkbox\" checked><label for=\"sk-estimator-id-1\" class=\"sk-toggleable__label sk-toggleable__label-arrow\">KNeighborsClassifier</label><div class=\"sk-toggleable__content\"><pre>KNeighborsClassifier()</pre></div></div></div></div></div>"
      ],
      "text/plain": [
       "KNeighborsClassifier()"
      ]
     },
     "execution_count": null,
     "metadata": {},
     "output_type": "execute_result"
    }
   ],
   "source": [
    "knn = KNeighborsClassifier(n_neighbors=5)\n",
    "knn.fit(X,y)\n"
   ]
  },
  {
   "cell_type": "code",
   "execution_count": null,
   "metadata": {},
   "outputs": [
    {
     "name": "stdout",
     "output_type": "stream",
     "text": [
      "['chayoteros', 'familiares', 'fraudes', 'tranquilo', 'sanganos', 'locos', 'pesado', 'verdaderos', 'lne', 'asecino']\n",
      "1642\n"
     ]
    }
   ],
   "source": [
    "#Adjs found in comments using spaCy library:\n",
    "adjs = set()\n",
    "with open('adjs_comments.txt', 'r', encoding='utf-8') as file:\n",
    "    for line in file:\n",
    "        adjs.add(line.strip())\n",
    "\n",
    "adjs = list(adjs)\n",
    "print(adjs[:10])\n",
    "print(len(adjs))"
   ]
  },
  {
   "cell_type": "code",
   "execution_count": null,
   "metadata": {},
   "outputs": [
    {
     "name": "stdout",
     "output_type": "stream",
     "text": [
      "True\n"
     ]
    }
   ],
   "source": [
    "print('justo' in words)"
   ]
  },
  {
   "cell_type": "code",
   "execution_count": null,
   "metadata": {},
   "outputs": [
    {
     "name": "stdout",
     "output_type": "stream",
     "text": [
      "1522\n",
      "{'chayoteros', 'familiares', 'fraudes', 'tranquilo', 'sanganos', 'verdaderos', 'lne', 'asecino', 'ponte', 'ranas', 'encabezado', 'malditas', 'stos', 'mera', 'demas', 'oportunistas', 'visto', 'entero', 'prometido', 'amargadas', 'manche', 'aburre', 'celular', 'muertas', 'acompano', 'simulada', 'innecesaio', 'coructos', 'anti', 'raterossalta', 'social', 'hocicon', 'equivocas', 'america', 'empresariales', 'conchudos', 'honrosas', 'agancaso', 'energetica', 'comercial', 'carreados', 'maravilloso', 'acarrados', 'transparente', 'ridiculos', 'pintada', 'enfermos', 'rata', 'gorda', 'extranjeros', 'dios', 'comprada', 'desonesto', 'ardidos', 'sintetica', 'afectados', 'senora', 'mexicanos', 'sano', 'ofenza', 'relajate', 'antimexicanos', 'mantenidoscorruptos', 'prostitutos', 'mexico', 'cansados', 'chentito', 'primero', 'beneficiados', 'borregada', 'gatos', 'arrabaleros', 'queridos', 'envidiosote', 'k', 'aprovechados', 'corrompido', 'fertilizante', 'delicuentes', 'perros', 'vendidas', 'hambrientos', 'raaaaaaaaatas', 'interesante', 'obrador', 'cundo', 'anteriores', 'acarreados', 'vendepatrias', 'acsrreados', 'detocs', 'ventajosos', 'traicionero', 'indignos', 'veras', 'holgazanes', 'acarriados', 'valioso', 'tarugada', 'lopitos', 'ultimos', 'rapido', 'pocas', 'marranos', 'senor', 'trapacerias', 'limpias', 'secuestrado', 'lgualmente', 'perversos', 'dominguero', 'comprados', 'bienpero', 'mental', 'juridica', 'miadas', 'drogado', 'ultima', 'vestida', 'plana', 'acarreado', 'alcaldias', 'unica', 'quedado', 'saqueado', 'doble', 'sakeadores', 'chole', 'convertidos', 'retrasados', 'irrespetuoso', 'limpia', 'jajaja', 'vejestorios', 'electronicos', 'pendesta', 'mega', 'partidos', 'mantenido', 'ahihasta', 'tendenciosas', 'maldita', 'crueles', 'posible', 'maiceadas', '@uuuuuu', 'renovada', 'pequenos', 'comprueve', 'metidos', 'odiado', 'blanco', 'ultimo', 'farsantes', 'regalapartidos', 'mayoria', 'idiotisado', 'aaaay', 'malevolos', 'pobresprianistas', 'chin', 'neuliberales', 'guaraguano', 'buenos', 'trabajadora', 'tristes', 'ficientes', 'llenas', 'vudjito', 'controlado', 'propiaarriba', 'plurinominal', 'ables', 'gueros', 'descerebrado', 'hables', 'desvergonzado', 'amlo', 'peca', 'saqueadores', 'inteligente', 'hermosos', 'veracruz', 'mantenidos', 'psicopata', 'conocido', 'veneficio', 'futuro', 'italiano', 'hueca', 'hambriados', 'ormigs', 'logica', 'curado', 'pendejas', 'incomada', 'elitistas', 'alos', 'nato', 'politico', 'encabezados', 'vivo', 'internado', 'mandenidos', 'chingnd', 'descarados', 'trampososineptos', 'molestos', 'hipocritas', 'acabeotros', 'unido', 'parasito', 'ambulantes', 'salinas', 'mieda', 'inecesario', 'plagada', 'propias', 'sera', 'amloasi', 'quesada', 'llevenll', 'loquito', 'cm', 'lorenzo', 'incompetente', 'jajakaj', 'riquillos', 'gastadera', 'pienza', 'primera', 'pitufos', 'sicarios', 'pagado', 'senal', 'oyy', 'llenos', 'amolado', 'vacelina', 'ahj', 'malsanos', 'corruptisimos', 'incomoda', 'pertinentes', 'propuesta', 'corto', 'mexicohasta', 'inconforme', 'pendejadas', 'llena', 'plena', 'campesino', 'almada', 'propio', 'humanista', 'margara', 'conveniente', 'alborotada', 'nidos', 'coludas', 'ligera', 'maaaa', 'defendible', 'compras', 'incompetentes', 'planeado', 'desorientado', 'ricachones', 'alta', 'buenas', 'gchclro', 'riquillo', 'amucha', 'patras', 'acarreas', 'quezada', 'igualvendidos', 'expresidentes', 'deshonestos', 'viva', 'muchisimo', 'iriapero', 'rociados', 'engordado', 'oceanica', 'sumbado', 'nuestreo', 'dichos', 'cacomiztles', 'entoloachado', 'vaquetones', 'mafiosas', 'pasados', 'bonita', 'mejor', 'masoquista', 'acusalo', 'flojos', 'clase', 'corrupto', 'pagadas', 'dadiva', 'libres', 'derecho', 'sinverguenzas', 'voluntario', 'racistas', 'conscientes', 'debilito', 'cuscos', 'inmensa', 'atina', 'someriado', 'ine-scrupulosos', 'basto', 'fueraaaaaa', 'queles', 'tubites', 'bajo', 'apokono', 'derrotada', 'inmenso', 'bitasilina', 'an', 'robado', 'mariguanol', 'conservadores', 'acostumbradas', 'naturales', 'caro', 'decrepito', 'sennofox', 'grandes', 'ratera', 'ocultas', 'neoliberal', 'acarrearal', 'garrapatas', 'ratasvendidos', 'viejos', 'asistiria', 'incorruptibles', 'propia', 'necesario', 'bedidos', 'cortos', 'enfada', 'decentes', 'vidente', 'cierto', 'amikos', 'buenoaestecabrocontodorespetosiesqueselomeresrcuandolevanaquitarloquerobo', 'corrupta', 'asquerosos', 'defraudadores', 'psiquiatrico', 'desinflado', 'archirequetecontracorruptos', 'malparridos', 'hdspm', 'adinerados', 'jajajaaaaaa', 'anciano', 'razistas', 'desias', 'delirante', 'vendida', 'pedorras', 'vivido', 'terminada', 'enquistados', 'immundas', 'chspm', 'mendigo', 'sentidos', 'hozico', 'necesitados', 'verboviva', 'apatridas', 'pulpos', 'firmes', 'nefastos', 'indescriptibles', 'sumado', 'elbolsillo', 'ocupado', 'antidemocratas', 'perdidos', 'suficiente', 'paridos', 'fumovisente', 'caracol', 'mariguanay', 'corruptisimo', 'patriasdelincuenteshipocritasnefastos', 'contentos', 'indeseables', 'qnomme', 'excesivos', 'profesional', 'tipica', 'nesesitamos', 'mmmdas', 'grandioso', 'duermase', 'simple', 'calificativos', 'chachalaco', 'mendiga', 'pruevas', 'solo', 'camisas', 'bandejo', 'cobardes', 'suave', 'aguadas', 'amanados', 'borrachales', 'compatriotasviva', 'preocupados', 'importante', 'pseudo', 'sientes', 'rrequerido', 'alucines', 'amigos', 'prianrede', 'chiquitos', 'conveneciera', 'venenosas', 'desfasado', 'participado', 'natural', 'ricos', 'nesesitados', 'pobrecitos', 'amlono', 'total', 'opositores', 'aparescas', 'merecido', 'chistoso', 'hacersolo', 'electoreros', 'dueno', 'gran', 'compradas', 'simuladores', 'simexicanos', 'humildes', 'primeros', 'desesperados', 'ala', 'adecuada', 'pasado', 'delincuentes', 'creibles', 'nocivos', 'recibido', 'bitacilina', 'curruptoseso', 'cinicos', 'pcasi', 'barato', 'molestes', 'asquerosas', 'oficial', 'amadas', 'consec', 'calladito', 'enjuicien', 'baloyan', 'suturado', 'remoras', 'pejistas', 'democracias', 'honestos', 'soltado', 'inca', 'lencha', 'privilegiada', 'inmorales', 'auspiciadas', 'sinverguendas', 'mayores', 'lleno', 'tiranos', 'vergonzoso', 'hdch', 'ajeno', 'fortalecio', 'sinsera', 'lectorapuro', 'acarreada', 'indicado', 'lados', 'secuestrada', 'vivos', 'hade', 'traicioneros', 'conplan', 'menor', 'alcansaria', 'hbldr', 'by', 'libre', 'vomitivos', 'defendiendolos', 'neoliberales', 'graciosos', 'miradas', 'sucios', 'viejas', 'alucinado', 'corruptosfuera', 'peorcito', 'pri', 'pelado', 'mesmamente', 'chapeados', 'empresarial', 'tremenda', 'mula', 'diputados', 'sometida', 'minimos', 'chupado', 'zocalo', 'huachicolero', 'nesita', 'estafadores', 'prianmc', 'encerrado', 'intachable', 'media', 'lado', 'decia', 'umillados', 'justos', 'decente', 'mafia', 'mentado', 'autentico', 'ocicon', 'despedidos', 'organica', 'estadista', 'evitense', 'enfermisas', 'sinicos', 'diferente', 'bastantes', 'vividora', 'vendido', 'deberia', 'cilencio', 'cdmx', 'armada', 'mexicana', 'agredidos', 'cochinada', 'puebloson', 'personal', 'ningun', 'amlolo', 'listo', 'maliada', 'jjjjjjjj', 'experto', 'ardor', 'particulares', 'emitidas', 'criado', 'estafador', 'rrrrratas', 'nefastas', 'quretino', 'corrptos', 'mandilon', 'corruptotes', 'gentemuchos', 'minimo', 'confiable', 'ofencivo', 'ostentados', 'feliz', 'superiores', 'contados', 'quemado', 'pequeno', 'urgente', 'nuevas', 'sinico', 'sheet', 'comerciante', 'senores', 'asustas', 'cansado', 'tirado', 'marihuano', 'vitacilina', 'afectado', 'primer', 'cerrada', 'locuas', 'valiosas', 'desgrasiado', 'extraordinaria', 'sentidas', 'nazi', 'engana', 'sahagun', 'desbocados', 'descritos', 'vianello', 'viendoesta', 'malos', 'diria', 'alto', 'agradecida', 'malvados', 'hermoso', 'nacido', 'tonterias', 'pandilla', 'rapaz', 'encubierto', 'ratotas', 'industriales', 'enojados', 'oilo', 'mediana', 'deste', 'saqueadora', 'mnss', 'japonesa', 'presidentecon', 'menoria', 'cascaraviasyonosavequeaserniquedecircon', 'impotenciaque', 'malditos', 'harias', 'devores', 'indibiduo', 'endeudado', 'orale', 'pirque', 'popular', 'sencillo', 'recursospuro', 'estudiado', 'minerales', 'apollemos', 'electrica', 'huevones', 'fraudulentas', 'electoraly', 'basica', 'institucionlos', 'desgraciados', 'cuantas', 'peleles', 'decual', 'discriminatorio', 'vandidos', 'cinicosratas', 'conocidos', 'fascistas', 'guevones', 'etcetera', 'harto', 'decomiso', 'sercas', 'aereas', 'arrabaleroscorruptostraidoresmentirosos', 'representates', 'mentales', 'maiceado', 'atraves', 'populacho', 'botuda', 'visonte', 'ademas', 'cochinos', 'poderosos', 'lisensensiado', 'traidores', 'desarrollado', 'jodidos', 'viejito', 'mariguano', 'pregunteles', 'cumpleanos', 'acarriada', 'apistelentes', 'tisnaditas', 'asolear', 'proximo', 'farsante', 'unacoca', 'playeras', 'mariguas', 'propios', 'inutiles', 'cercano', 'sinverhuenzas', 'prianista', 'perotodos', 'cagada', 'presidentes', 'votado', 'ajenas', 'motorolo', 'apasear', 'importantes', 'disfrazados', 'srvicente', 'vacios', 'vemdidos', 'crecida', 'politica', 'contrario', 'panista', 'capitalista', 'gubernamental', 'mensuales', 'orgulloso', 'marihuanol', 'chistosito', 'cubano', 'universal', 'ladras', 'ratificado', 'orgullosos', 'clasista', 'maximo', 'queria', 'efectiva', 'pica', 'maligna', 'despotas', 'incuriptible', 'traicionera', 'pasadas', 'apegado', 'malas', 'elegantes', 'mariguana', 'balga', 'irrefutable', 'fraudulentos', 'callados', 'maltratado', 'jajajajajaja', 'verguenzasaludos', 'peo', 'manoseada', 'metodos', 'hidratados', 'neutrales', 'ignorantes', 'cambio', 'verdadero', 'facistas', 'herario', 'publico', 'maliditos', 'logrado', 'confirmado', 'humano', 'jajajajajjajajajjaajajajjjaajajjaano', 'iluso', 'postizos', 'estepincheviejodecrepitoyanadamasleqedololoco', 'defendidos', 'pagada', 'inestable', 'viejillo', 'varcel', 'espanola', 'encontraras', 'inmoral', 'junta', 'adineradas', 'avalado', 'sinsanoso', 'srpresidente', 'mayor', 'civiles', 'coludidos', 'snganos', 'paypa', 'operado', 'enganada', 'tramposos', 'vividor', 'elctoral', 'saludos', 'ultrajada', 'tranquilos', 'judicial', 'democracia', 'insecto', 'tontosvendidos', 'tocado', 'cimo', 'buen', 'inferiores', 'pusilanimes', 'quieroen', 'ledio', 'renegrido', 'putridos', 'analfabeta', 'muneco', 'pedorro', 'intocable', 'vestidas', 'amanada', 'derecha', 'tibia', 'logrosesto', 'estiempo', 'comparado', 'sras', 'contundente', 'dictador', 'hartos', 'dichola', 'empleados', 'alimentos', 'marihuas', 'dignos', 'solosomos', 'sinsos', 'independientes', 'merolico', 'desquiciado', 'gustosa', 'mexicano', 'desconectado', 'aferrado', 'seguros', 'acabado', 'borregos', 'deseoso', 'iguales', 'viejio', 'fisico', 'exacta', 'municipal', 'precidente', 'ficticias', 'des', 'sedientos', 'corruptospor', 'acusador', 'aleccionados', 'largas', 'puras', 'ganado', 'comodinos', 'agrada', 'nuevo', 'quesadapues', 'ajena', 'eline', 'usurpadores', 'partodos', 'escandalosa', 'federal', 'nesecidada', 'alrevez', 'mediera', 'cronico', 'mas', 'enemigos', 'botudo', 'masivo', 'tronado', 'obrigatoria', 'convencidos', 'tapaderas', 'trabajador', 'personales', 'acerquense', 'msrigua', 'vende-patrias', 'rateros', 'sordos', 'parados', 'cambiado', 'digna', 'publicas', 'ratasss', 'encueta', 'dividido', 'conosemosa', 'save', 'morena', 'duena', 'rico', 'igualado', 'stpdo', 'importantisima', 'obligados', 'parasitos', 'economico', 'grandecito', 'esbirros', 'mudos', 'nacionales', 'simbergyensas', 'vista', 'dirigido', 'cerebral', 'qchaspm', 'foxcada', 'adulto', 'duro', 'reales', 'engreidos', 'ineficiente', 'lunatico', 'suprema', 'firme', 'fieles', 'presente', 'combinado', 'afectada', 'preciopor', 'actual', 'llamado', 'desinformada', 'habil', 'incongruentes', 'deque', 'fuchi', 'baboso', 'compares', 'pasasdos', 'caros', 'chupeteadores', 'aclaro', 'laca', 'cruptos', 'oscurito', 'incluida', 'aerea', 'voluntaria', 'maxima', 'ipocritas', 'corajes', 'ensucia', 'falsas', 'lamvehuvos', 'coruptos', 'mafiosos', 'adinerada', 'fregado', 'prmitido', 'increible', 'complices', 'recreativa', 'millonario', 'tambien', 'incondicionales', 'democratico', 'viboras', 'mentirosos', 'facil', 'zanganos', 'mejores', 'innecesarios', 'real', 'corruptosy', 'humanas', 'alla', 'usada', 'patriota', 'arrastrados', 'escalteado', 'campantes', 'ponzonosas', 'qeremos', 'genial', 'nosotras', 'proximas', 'sabio', 'asesinos', 'lkenadera', 'criminales', 'economicos', 'legitimo', 'parientes', 'cuasta', 'duermete', 'hermosa', 'marranadas', 'impuestos', 'agradecido', 'descansa', 'marhuana', 'adivino', 'amlooo', 'escrupulos', 'inepto', 'larga', 'pensantes', 'ironia', 'honesta', 'abtidemocraticos', 'tenido', 'enganados', 'rrs', 'pueblosolo', 'q', 'respetoeste', 'paracitos', 'civil', 'defensor', 'licenciado', 'encarcelado', 'marihuaniado', 'senoras', 'entrevistados', 'petroleras', 'maiceados', 'traicioneras', 'quierenestos', 'nopuedo', 'claras', 'cabada', 'rafas', 'carajos', 'bibidores', 'unificadorno', 'humana', 'hechos', 'ineptos', 'ofendidos', 'pobres', 'derrotados', 'beneficiodos', 'apestosas', 'fuelra', 'guasolina', 'estupidos', 'prieta', 'aaaarranquense', 'asta', 'anemonas', 'servil', 'marguas', 'tinoso', 'tremens', 'jamas', 'fuerte', 'atomica', 'vendidosrealmente', 'tranquila', 'cuarta', 'clarito', 'tesla', 'adulta', 'pendientes', 'falsos', 'corrptisimo', 'friegas', 'burradas', 'vicentico', 'frutsi', 'proximos', 'decrepitos', 'sinverguenzada', 'chachalaca', 'demexico', 'justas', 'tactica', 'empoderados', 'computadoras', 'severas', 'viejo', 'ex', 'pagados', 'espresidente', 'chulo', 'extrema', 'despreciados', 'incurruptibles', 'salio', 'rica', 'demacrado', 'invito', 'veandido', 'sandeces', 'grande', 'contradictoriosesas', 'insensibles', 'callado', 'dicho', 'respetoviva', 'unico', 'carroneros', 'deleales', 'vieja', 'vien', 'empleado', 'repudiaria', 'manana', 'intocables', 'ternurita', 'favorecida', 'miserables', 'diles', 'aprox', 'chente', 'hechoellos', 'manipulados', 'huleeeeeros', 'nesecitada', 'politicos', 'integrantes', 'corruption', 'advenedizos', 'famosos', 'informados', 'antiguo', 'tapendejo', 'seve', 'sociales', 'cercania', 'rosas', 'convocados', 'corruptos', 'secuaces', 'nueva', 'humanitario', 'natal', 'comun', 'traiciono', 'arreglados', 'leido', 'abusivos', 'serian', 'igual', 'politiqueros', 'biendolos', 'torta', 'verdadera', 'osico', 'felices', 'chentebotitas', 'urgentemente', 'gusanos', 'amexico', 'hechoahora', 'desapareceresa', 'sueldos', 'corruptas', 'incompetentesmediocres', 'habidos', 'alito', 'pios', 'actually', 'ardida', 'puros', 'buey', 'jente', 'apatrida', 'ivas', 'elhechalo', 'padres', 'pallaso', 'historico', 'pesadas', 'remordimieno', 'prestigiada', 'consejero', 'desvergonzados', 'grabadora', 'organizado', 'agual', 'huevosfuera', 'claro', 'hhuu', 'zombi', 'rubio', 'blanca', 'desfraudado', 'bandidos', 'describire', 'ruquito', 'puntadas', 'necios', 'tremendo', 'correcta', 'cuantos', 'organizada', 'pelados', 'enserio', 'mendigos', 'exelente', 'institucionalizados', 'parcial', 'huachicoleras', 'calmado', 'comprendanlo', 'productivo', 'basicas', 'cascarrabias', 'l', 'superinteligentisimo', 'interno', 'duenos', 'sentados', 'checheas', 'verdaderas', 'incomparable', 'enves', 'verdespenejo', 'chacales', 'pensionados', 'satrapa', 'stiercol', 'ladrarladrar', 'electorales', 'altos', 'cagadas', 'bloqueado', 'porinfeliz', 'vendidosfuera', 'corruptelas', 'electoral', 'minima', 'cauarta', 'blancas', 'antipatriotas', 'tranzas', 'acarrearia', 'quedaria', 'paraditos', 'finos', 'deveria', 'autonomos', 'dura', 'm@men', 'tespetosox', 'imparciales', 'vividores', 'estadodas', 'mundial', 'd', 'nonesesita', 'largo', 'junto', 'ciudadana', 'mochada', 'sumidos', 'quioere', 'empresarios', 'bandido', 'dekrepito', 'entregista', 'lolita', 'comprobado', 'corruptasos', 'solita', 'enterados', 'amado', 'lindos', 'siega', 'reciente', 'lanbiscomes', 'inflado', 'sinonimos', 'corructos', 'protejidos', 'inteligentes', 'solitos', 'atarantado', 'comosea', 'clasistas', 'avbio', 'hombreeso', 'tercera', 'idiotizado', 'indefendible', 'capaces', 'asustados', 'plenos', 'segundo', 'legales', 'unidos', 'asquerosasvendidos', 'funcional', 'veznobqueda', 'foxresentido', 'digno', 'obligatorio', 'invasivo', 'lozonso', 'callen', 'askerosas', 'inquietos', 'seno', 'publicos', 'seguidos', 'foxito', 'omosexual', 'arrastrada', 'acareados', 'positivos', 'presidencial', 'narcoas', 'riquito', 'acrarreador', 'chochea', 'toncho', 'serviles', 'valiente', 'hijos', 'desmemoriados', 'guero', 'valio', 'azteca', 'jajajaja', 'fcg', 'ta', 'mafiososhijos', 'guaruras', 'cean', 'millonarios', 'sencilla', 'presidenciales', 'obradoristas', 'meadas', 'usava', 'vjejo', 'casiques', 'puritito', 'agradecidos', 'mediocre', 'administradorcillo', 'electoralpero', 'bende', 'pequena', 'hecho', 'racista', 'plurinominales', 'fumastes', 'mariguanete', 'demostrado', 'yegaria', 'perfectos', 'tercer', 'patriastraidores', 'poquita', 'cerrados', 'arrugado', 'lencho', 'danado', 'bonito', 'verdulera', 'etc', 'repartes', 'llores', 'opcs', 'enesima', 'ancianos', 'orate', 'culeros', 'huuuleeeerooooo', 'acarreo', 'saludable', 'huachicoleros', 'esquizofrenico', 'preso', 'transtornado', 'fecales', 'traido', 'lavadora(de', 'trasnochado', 'indigenas', 'agresivos', 'ntro', 'politicas', 'sandijuelas', 'martita', 'seco', 'desaparecete', 'rratotassinberguensas', 'falsa', 'delicados', 'fuma', 'mesquinos', 'maruiguas', 'acostumbrados', 'qureo', 'megacorruptos', 'privilegios', 'enriquecidos', 'previllegios', 'burocratas', 'mismopero', 'economica', 'marihuanono', 'amargo', 'presentes', 'callese', 'manosos', 'llo', 'europeo', 'curioso', 'exageradas', 'afecto', 'obvio', 'borracho', 'poqiquitos', 'descanse', 'contras', 'chavorruco', 'nuevos', 'corruptosmercenarios', 'crrupto', 'verdad', 'recaudados', 'corruptosvendidos', 'mismo', 'ferrocarriles', 'paso', 'involucrado', 'lorensito', 'huevos', 'jogosa', 'mojadas', 'inevendido', 'innombrables', 'atras', 'tiznado', 'verde', 'elegido', 'purita', 'hobrador', 'hambreados', 'engrandecerlos', 'seria', 'autoritarios', 'nuesteos', 'obrera', 'anterior', 'vendidosy', 'irresponsables', 'senil', 'incongruente', 'perfecto', 'msriguana', 'prepotentes', 'precaria', 'humilde', 'sicaro', 'hdschm', 'variadas', 'dadeberia', 'autonomosque', 'sincero', 'locote', 'reacionea', 'parciales', 'infinitas', 'corta', 'incondicional', 'bajos', 'nadamas', 'vendidos', 'quemados', 'prianistas', 'domesticopobrecitas', 'nacidos', 'marihuana', 'excelente', 'conq', 'especial', 'chapuceros', 'carruseles', 'lacras', 'limpio', 'podridos', 'aferrados', 'ilegal', 'normal', 'anuales', 'humildeahora', 'queridisimo', 'insaciables', 'muertos', 'punados', 'solas', 'lindo', 'paniaguados', 'trabajadoras', 'marig', 'absoluta', 'querido', 'dulces', 'golpistas', 'miedosos', 'chingandoy', 'basico', 'ardido', 'injustos', 'mexicoviva', 'maya', 'generosos', 'pagariamos', 'infames', 'democraticos', 'laserado', 'pobrecito', 'unicos', 'autonomo', 'blanquitos'}\n"
     ]
    }
   ],
   "source": [
    "#Adjs from comments but not in words:\n",
    "adjs_set = set(adjs)\n",
    "diference = adjs_set.difference(words)\n",
    "print(len(diference))\n",
    "print(diference)"
   ]
  },
  {
   "cell_type": "code",
   "execution_count": null,
   "metadata": {},
   "outputs": [
    {
     "name": "stdout",
     "output_type": "stream",
     "text": [
      "False\n"
     ]
    }
   ],
   "source": [
    "print('justo' in diference)"
   ]
  },
  {
   "cell_type": "code",
   "execution_count": null,
   "metadata": {},
   "outputs": [
    {
     "name": "stdout",
     "output_type": "stream",
     "text": [
      "[('familiares', 0.0), ('fraudes', 0.0), ('tranquilo', 0.0), ('locos', 0.0), ('pesado', 0.0), ('verdaderos', 0.0), ('ponte', 1.0), ('ranas', 0.0), ('encabezado', 1.0), ('malditas', 0.0), ('mera', 0.0), ('demas', 0.0), ('podrido', 0.0), ('oportunistas', 0.0), ('visto', 0.0), ('entero', 0.0), ('prometido', 0.0), ('manche', 0.0), ('aburre', 0.0), ('muertas', 0.0), ('acompano', 0.0), ('celular', 0.0), ('simulada', 0.0), ('anti', 0.0), ('social', 1.0), ('america', 1.0), ('empresariales', 1.0), ('energetica', 0.0), ('comercial', 0.0), ('maravilloso', 0.0), ('transparente', 1.0), ('ridiculos', 0.0), ('pintada', 1.0), ('enfermos', 0.0), ('rata', 0.0), ('gorda', 0.0), ('extranjeros', 0.0), ('dios', 0.0), ('comprada', 0.0), ('sintetica', 0.0), ('afectados', 0.0), ('senora', 1.0), ('mexicanos', 0.0), ('sano', 0.0), ('mexico', 0.0), ('cansados', 0.0), ('primero', 1.0), ('beneficiados', 0.0), ('gatos', 0.0), ('queridos', 0.0), ('k', 0.0), ('aprovechados', 0.0), ('corrompido', 0.0), ('fertilizante', 0.0), ('perros', 0.0), ('vendidas', 0.0), ('hambrientos', 0.0), ('interesante', 0.0), ('obrador', 0.0), ('anteriores', 1.0), ('acarreados', 0.0), ('traicionero', 0.0), ('veras', 0.0), ('valioso', 0.0), ('ultimos', 0.0), ('rapido', 0.0), ('pocas', 0.0), ('senor', 0.0), ('limpias', 0.0), ('secuestrado', 0.0), ('perversos', 0.0), ('comprados', 0.0), ('mental', 0.0), ('juridica', 1.0), ('drogado', 0.0), ('ultima', 0.0), ('vestida', 0.0), ('plana', 0.0), ('alcaldias', 0.0), ('unica', 0.0), ('infeliz', 0.0), ('quedado', 0.0), ('saqueado', 0.0), ('doble', 0.0), ('convertidos', 0.0), ('retrasados', 0.0), ('limpia', 0.0), ('vil', 0.0), ('electronicos', 0.0), ('mega', 0.0), ('partidos', 0.0), ('mantenido', 0.0), ('maldita', 0.0), ('crueles', 0.0), ('posible', 0.0), ('deficiente', 0.0), ('renovada', 0.0), ('pequenos', 0.0), ('metidos', 0.0), ('triste', 0.0)]\n"
     ]
    }
   ],
   "source": [
    "adj_tag = {}\n",
    "for adj in adjs:\n",
    "    if adj in word_to_vec.keys():\n",
    "        tag = knn.predict([word_to_vec[adj]])\n",
    "        adj_tag[adj] = tag[0]\n",
    "        \n",
    "print(list(adj_tag.items())[:100])\n",
    "\n",
    "df3 = pd.DataFrame(list(adj_tag.items()), columns=['adjective', 'category'])\n",
    "df3.sort_values(by='category',inplace=True)\n",
    "df3.reset_index(drop=True,inplace=True)\n",
    "df3.to_csv('predicted_tag.csv',index=False)\n"
   ]
  },
  {
   "cell_type": "markdown",
   "metadata": {},
   "source": [
    "## Confussion Matrix"
   ]
  },
  {
   "cell_type": "code",
   "execution_count": null,
   "metadata": {},
   "outputs": [],
   "source": [
    "from sklearn.metrics import confusion_matrix\n",
    "\n"
   ]
  },
  {
   "cell_type": "markdown",
   "metadata": {},
   "source": [
    "## Given a word, return the k nearest neighbors:"
   ]
  },
  {
   "cell_type": "code",
   "execution_count": null,
   "metadata": {},
   "outputs": [
    {
     "name": "stdout",
     "output_type": "stream",
     "text": [
      "1072       buena\n",
      "193     teniendo\n",
      "196        pesar\n",
      "Name: word, dtype: object\n"
     ]
    }
   ],
   "source": [
    "def get_k_nearest_neighbours(word, k, word_to_vec,knn):\n",
    "    '''Given a word, return the k nearest neighbours'''\n",
    "    if word in word_to_vec.keys():\n",
    "        word_vec = [word_to_vec[word]]\n",
    "        results = knn.kneighbors(word_vec, n_neighbors=k, return_distance=True)\n",
    "        index = results[1]\n",
    "        for i in index:\n",
    "            print(df.iloc[i]['word'])\n",
    "    else:\n",
    "        print('The word is not in the vocabulary')\n",
    "        \n",
    "get_k_nearest_neighbours('excelente', 3, word_to_vec,knn)"
   ]
  },
  {
   "cell_type": "markdown",
   "metadata": {},
   "source": [
    "## Given a word, predict its category"
   ]
  },
  {
   "cell_type": "code",
   "execution_count": null,
   "metadata": {},
   "outputs": [
    {
     "name": "stdout",
     "output_type": "stream",
     "text": [
      "The word is a vice\n"
     ]
    }
   ],
   "source": [
    "def predict_category(word, word_to_vec, knn):\n",
    "    if word in word_to_vec.keys():\n",
    "        word_vec = [word_to_vec[word]]\n",
    "        tag = knn.predict(word_vec)\n",
    "        if tag[0] == 0.0:\n",
    "            print('The word is a vice')\n",
    "        else:\n",
    "            print('The word is a virtue')\n",
    "    else:\n",
    "        print('The word is not in the vocabulary')\n",
    "\n",
    "predict_category('excelente', word_to_vec, knn)"
   ]
  }
 ],
 "metadata": {
  "kernelspec": {
   "display_name": ".env-web-scrap",
   "language": "python",
   "name": ".env-web-scrap"
  }
 },
 "nbformat": 4,
 "nbformat_minor": 2
}
