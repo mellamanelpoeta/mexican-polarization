{
 "cells": [
  {
   "cell_type": "markdown",
   "metadata": {},
   "source": [
    "# Classifier\n",
    "> This is the class that creates the dictionary model"
   ]
  },
  {
   "cell_type": "code",
   "execution_count": 1,
   "metadata": {},
   "outputs": [],
   "source": [
    "#| default_exp Classifier"
   ]
  },
  {
   "cell_type": "code",
   "execution_count": 2,
   "metadata": {},
   "outputs": [
    {
     "name": "stdout",
     "output_type": "stream",
     "text": [
      "Intel MKL WARNING: Support of Intel(R) Streaming SIMD Extensions 4.2 (Intel(R) SSE4.2) enabled only processors has been deprecated. Intel oneAPI Math Kernel Library 2025.0 will require Intel(R) Advanced Vector Extensions (Intel(R) AVX) instructions.\n",
      "Intel MKL WARNING: Support of Intel(R) Streaming SIMD Extensions 4.2 (Intel(R) SSE4.2) enabled only processors has been deprecated. Intel oneAPI Math Kernel Library 2025.0 will require Intel(R) Advanced Vector Extensions (Intel(R) AVX) instructions.\n"
     ]
    }
   ],
   "source": [
    "#| hide\n",
    "from nbdev.showdoc import *\n",
    "from matplotlib import pyplot as plt"
   ]
  },
  {
   "cell_type": "code",
   "execution_count": 48,
   "metadata": {},
   "outputs": [],
   "source": [
    "#| export\n",
    "import pandas as pd\n",
    "import numpy as np\n",
    "from sklearn.neighbors import KNeighborsClassifier\n",
    "from sklearn.model_selection import train_test_split"
   ]
  },
  {
   "cell_type": "code",
   "execution_count": 23,
   "metadata": {},
   "outputs": [],
   "source": [
    "#negative_words file\n",
    "df = pd.read_csv('negative_words.csv')\n",
    "df = df.drop(columns=['original']) #drop it since it contains the concept with an * in it\n",
    "\n",
    "neg_words = [] \n",
    "for _, row in df.iterrows():\n",
    "    for item in row:\n",
    "        if pd.notnull(item):\n",
    "            neg_words.append(item)"
   ]
  },
  {
   "cell_type": "code",
   "execution_count": 24,
   "metadata": {},
   "outputs": [
    {
     "data": {
      "text/plain": [
       "1599"
      ]
     },
     "execution_count": 24,
     "metadata": {},
     "output_type": "execute_result"
    }
   ],
   "source": [
    "#Drop duplicates in neg_words:\n",
    "neg_words = list(set(neg_words))\n",
    "\n",
    "len(neg_words)"
   ]
  },
  {
   "cell_type": "code",
   "execution_count": 25,
   "metadata": {},
   "outputs": [
    {
     "name": "stdout",
     "output_type": "stream",
     "text": [
      "['moralidad']\n",
      "['moral']\n",
      "['etica']\n",
      "['etico']\n",
      "['principios']\n",
      "['valores']\n",
      "['bueno', ' buena']\n",
      "['bondadoso']\n",
      "['correcto']\n",
      "['erroneo', ' equivocado', ' incorrecto', ' malo']\n",
      "['justicia']\n",
      "['fechoria', ' pecado', ' indebido']\n",
      "['virtud']\n",
      "['vicioso']\n",
      "['moralidad']\n",
      "['etica']\n"
     ]
    }
   ],
   "source": [
    "#moral_foundations_dictionary file:\n",
    "df = pd.read_csv('moral_foundations_dictionary_1.0.csv')\n",
    "df = df[['categories','word_examples']]\n",
    "\n",
    "virtue = []\n",
    "vice = []\n",
    "for _, row in df.iterrows():\n",
    "    if pd.notnull(row['word_examples']):\n",
    "        words = row['word_examples'].split(',')\n",
    "        if 'Virtue' in row['categories']:\n",
    "            virtue.extend(words)\n",
    "        elif 'Vice' in row['categories']:\n",
    "            vice.extend(words)\n",
    "        else:\n",
    "            print(words)\n",
    "\n",
    "\n"
   ]
  },
  {
   "cell_type": "code",
   "execution_count": 52,
   "metadata": {},
   "outputs": [
    {
     "name": "stdout",
     "output_type": "stream",
     "text": [
      "vice examples:  ['mientes', 'extrañando', ' disociable', 'confrontar', 'atrocidad', 'insistir ', 'herido', 'salvaje', 'esceptico', 'pateticos']\n",
      "virtue examples:  [' beneficiar', 'maternal', 'seguir', ' ecuanimidad', 'supremacía', 'patriotico', ' justicia', 'refugiar', 'paternal', 'estatus']\n",
      "vice length:  1719\n",
      "virtue length:  217\n"
     ]
    }
   ],
   "source": [
    "virtue.extend(['moralidad','moral','etica','etico','principios','valores','bueno','buena','bondadoso','correcto','justicia','virtud','moralidad','etica'])\n",
    "vice.extend(['erroneo','equivocado','incorrecto','malo','fechoria','pecado','indebido','vicioso'])\n",
    "#Drop duplicates in virtue and vice:\n",
    "virtue = list(set(virtue))\n",
    "vice = list(set(vice))\n",
    "\n",
    "print('vice examples: ', vice[:10])\n",
    "print('virtue examples: ', virtue[:10])\n",
    "\n",
    "print('vice length: ', len(vice))\n",
    "print('virtue length: ', len(virtue))"
   ]
  },
  {
   "cell_type": "markdown",
   "metadata": {},
   "source": [
    "We have a bigger proportion of vice words which may have an important effect on the tagging task usin KNN"
   ]
  },
  {
   "cell_type": "code",
   "execution_count": 53,
   "metadata": {},
   "outputs": [],
   "source": [
    "#Load the embeddings to data frame:\n",
    "def load_embeddings(file_path):\n",
    "    word_to_vec = {}\n",
    "    with open(file_path, 'r', encoding='utf-8') as file:\n",
    "        for line in file:\n",
    "            values = line.split()\n",
    "            word = values[0]\n",
    "            vector = np.array(values[1:], dtype='float32')\n",
    "            word_to_vec[word] = vector\n",
    "    return word_to_vec\n",
    "\n",
    "word_to_vec = load_embeddings('vectorspol.txt')"
   ]
  },
  {
   "cell_type": "code",
   "execution_count": 28,
   "metadata": {},
   "outputs": [],
   "source": [
    "one = set(vice)\n",
    "two = set(neg_words)\n",
    "\n",
    "vice = list(one.union(two))"
   ]
  },
  {
   "cell_type": "code",
   "execution_count": 29,
   "metadata": {},
   "outputs": [
    {
     "name": "stdout",
     "output_type": "stream",
     "text": [
      "1936\n"
     ]
    }
   ],
   "source": [
    "# Total words\n",
    "print(len(vice)+len(virtue))"
   ]
  },
  {
   "cell_type": "code",
   "execution_count": 30,
   "metadata": {},
   "outputs": [],
   "source": [
    "words = vice + virtue\n",
    "words = set(words)"
   ]
  },
  {
   "cell_type": "code",
   "execution_count": 31,
   "metadata": {},
   "outputs": [],
   "source": [
    "#| export\n",
    "class Classifier:\n",
    "    def __init__(self):\n",
    "        self.embeddings = None\n",
    "        self.vice = None\n",
    "        self.virtue = None\n",
    "\n",
    "    def load_embeddings(file_path):\n",
    "        '''Loads the embeddings from a file and returns a dictionary with the words as keys and the vectors as values'''\n",
    "        word_to_vec = {}\n",
    "        with open(file_path, 'r', encoding='utf-8') as file:\n",
    "            for line in file:\n",
    "                values = line.split()\n",
    "                word = values[0]\n",
    "                vector = np.array(values[1:], dtype='float32')\n",
    "                print(vector.shape)\n",
    "                word_to_vec[word] = vector\n",
    "        self.embeddings = word_to_vec\n",
    "        return word_to_vec\n",
    "    \n",
    "    \n",
    "    def list_to_vec(vice, virtue, word_to_vec):\n",
    "        '''Returns the vector representation of a list of words in a df'''\n",
    "        data = {'word': [], 'vector': [], 'category': []}\n",
    "        for word in vice:\n",
    "            if word in word_to_vec.keys():\n",
    "                data['word'].append(word)\n",
    "                data['vector'].append(word_to_vec[word])\n",
    "                data['category'].append(0.0) #vice will be represented as 0\n",
    "            else:\n",
    "                data['word'].append(word)\n",
    "                data['vector'].append(np.nan)\n",
    "                data['category'].append(0.0) \n",
    "        \n",
    "        for word in virtue:\n",
    "            if word in word_to_vec.keys():\n",
    "                data['word'].append(word)\n",
    "                data['vector'].append(word_to_vec[word])\n",
    "                data['category'].append(1.0) #virtue will be represented as 1\n",
    "            else:\n",
    "                data['word'].append(word)\n",
    "                data['vector'].append(np.nan)\n",
    "                data['category'].append(1.0)\n",
    "\n",
    "        df = pd.DataFrame(data)\n",
    "        return df"
   ]
  },
  {
   "cell_type": "code",
   "execution_count": 32,
   "metadata": {},
   "outputs": [
    {
     "name": "stdout",
     "output_type": "stream",
     "text": [
      "Total words:  1936\n",
      "Total words after dropping NaN:  1015\n",
      "∆:  921\n",
      "∆%: 47.57\n"
     ]
    },
    {
     "data": {
      "text/html": [
       "<div>\n",
       "<style scoped>\n",
       "    .dataframe tbody tr th:only-of-type {\n",
       "        vertical-align: middle;\n",
       "    }\n",
       "\n",
       "    .dataframe tbody tr th {\n",
       "        vertical-align: top;\n",
       "    }\n",
       "\n",
       "    .dataframe thead th {\n",
       "        text-align: right;\n",
       "    }\n",
       "</style>\n",
       "<table border=\"1\" class=\"dataframe\">\n",
       "  <thead>\n",
       "    <tr style=\"text-align: right;\">\n",
       "      <th></th>\n",
       "      <th>word</th>\n",
       "      <th>vector</th>\n",
       "      <th>category</th>\n",
       "    </tr>\n",
       "  </thead>\n",
       "  <tbody>\n",
       "    <tr>\n",
       "      <th>0</th>\n",
       "      <td>desintegrado</td>\n",
       "      <td>[0.1409, -0.281743, -0.021933, 0.063962, 0.363...</td>\n",
       "      <td>0.0</td>\n",
       "    </tr>\n",
       "    <tr>\n",
       "      <th>1</th>\n",
       "      <td>confrontar</td>\n",
       "      <td>[0.52358, -0.042034, 0.196349, -0.10303, -0.01...</td>\n",
       "      <td>0.0</td>\n",
       "    </tr>\n",
       "    <tr>\n",
       "      <th>2</th>\n",
       "      <td>arruina</td>\n",
       "      <td>[0.440164, -0.520216, 0.281926, 0.316728, 0.11...</td>\n",
       "      <td>0.0</td>\n",
       "    </tr>\n",
       "    <tr>\n",
       "      <th>3</th>\n",
       "      <td>herido</td>\n",
       "      <td>[0.435823, -0.5486, 0.689534, 0.293683, 0.1012...</td>\n",
       "      <td>0.0</td>\n",
       "    </tr>\n",
       "    <tr>\n",
       "      <th>4</th>\n",
       "      <td>agresiva</td>\n",
       "      <td>[0.123496, -0.358881, 0.211074, 0.103301, 0.04...</td>\n",
       "      <td>0.0</td>\n",
       "    </tr>\n",
       "    <tr>\n",
       "      <th>...</th>\n",
       "      <td>...</td>\n",
       "      <td>...</td>\n",
       "      <td>...</td>\n",
       "    </tr>\n",
       "    <tr>\n",
       "      <th>1010</th>\n",
       "      <td>castigo</td>\n",
       "      <td>[0.300206, 0.182386, -0.113264, 0.146073, -0.6...</td>\n",
       "      <td>1.0</td>\n",
       "    </tr>\n",
       "    <tr>\n",
       "      <th>1011</th>\n",
       "      <td>etica</td>\n",
       "      <td>[-0.098628, 0.139114, 0.198292, -0.141415, 0.2...</td>\n",
       "      <td>1.0</td>\n",
       "    </tr>\n",
       "    <tr>\n",
       "      <th>1012</th>\n",
       "      <td>ritual</td>\n",
       "      <td>[0.383331, -0.649981, 0.623369, -0.128588, -0....</td>\n",
       "      <td>1.0</td>\n",
       "    </tr>\n",
       "    <tr>\n",
       "      <th>1013</th>\n",
       "      <td>empatia</td>\n",
       "      <td>[-0.079985, 0.049216, -0.123454, 0.110934, 0.0...</td>\n",
       "      <td>1.0</td>\n",
       "    </tr>\n",
       "    <tr>\n",
       "      <th>1014</th>\n",
       "      <td>bueno</td>\n",
       "      <td>[0.717693, 0.01057, 0.502308, 0.411575, -0.427...</td>\n",
       "      <td>1.0</td>\n",
       "    </tr>\n",
       "  </tbody>\n",
       "</table>\n",
       "<p>1015 rows × 3 columns</p>\n",
       "</div>"
      ],
      "text/plain": [
       "              word                                             vector  \\\n",
       "0     desintegrado  [0.1409, -0.281743, -0.021933, 0.063962, 0.363...   \n",
       "1       confrontar  [0.52358, -0.042034, 0.196349, -0.10303, -0.01...   \n",
       "2          arruina  [0.440164, -0.520216, 0.281926, 0.316728, 0.11...   \n",
       "3           herido  [0.435823, -0.5486, 0.689534, 0.293683, 0.1012...   \n",
       "4         agresiva  [0.123496, -0.358881, 0.211074, 0.103301, 0.04...   \n",
       "...            ...                                                ...   \n",
       "1010       castigo  [0.300206, 0.182386, -0.113264, 0.146073, -0.6...   \n",
       "1011         etica  [-0.098628, 0.139114, 0.198292, -0.141415, 0.2...   \n",
       "1012        ritual  [0.383331, -0.649981, 0.623369, -0.128588, -0....   \n",
       "1013       empatia  [-0.079985, 0.049216, -0.123454, 0.110934, 0.0...   \n",
       "1014         bueno  [0.717693, 0.01057, 0.502308, 0.411575, -0.427...   \n",
       "\n",
       "      category  \n",
       "0          0.0  \n",
       "1          0.0  \n",
       "2          0.0  \n",
       "3          0.0  \n",
       "4          0.0  \n",
       "...        ...  \n",
       "1010       1.0  \n",
       "1011       1.0  \n",
       "1012       1.0  \n",
       "1013       1.0  \n",
       "1014       1.0  \n",
       "\n",
       "[1015 rows x 3 columns]"
      ]
     },
     "execution_count": 32,
     "metadata": {},
     "output_type": "execute_result"
    }
   ],
   "source": [
    "def list_to_vec(vice, virtue, word_to_vec):\n",
    "    '''Returns the vector representation of a list of words in a df'''\n",
    "    data = {'word': [], 'vector': [], 'category': []}\n",
    "    for word in vice:\n",
    "        if word in word_to_vec.keys():\n",
    "            data['word'].append(word)\n",
    "            data['vector'].append(word_to_vec[word])\n",
    "            data['category'].append(0.0) #vice will be represented as 0\n",
    "        else:\n",
    "            data['word'].append(word)\n",
    "            data['vector'].append(np.nan)\n",
    "            data['category'].append(0.0) \n",
    "    \n",
    "    for word in virtue:\n",
    "        if word in word_to_vec.keys():\n",
    "            data['word'].append(word)\n",
    "            data['vector'].append(word_to_vec[word])\n",
    "            data['category'].append(1.0) #virtue will be represented as 1\n",
    "        else:\n",
    "            data['word'].append(word)\n",
    "            data['vector'].append(np.nan)\n",
    "            data['category'].append(1.0)\n",
    "\n",
    "    df = pd.DataFrame(data)\n",
    "    return df\n",
    "\n",
    "df = list_to_vec(vice,virtue,word_to_vec)\n",
    "total = len(df)\n",
    "print('Total words: ',total)\n",
    "df.dropna(inplace=True)\n",
    "df.reset_index(inplace=True,drop=True)\n",
    "print('Total words after dropping NaN: ',len(df))\n",
    "print('∆: ',total-len(df))\n",
    "print('∆%:', round((total-len(df))/total*100,2) )\n",
    "df"
   ]
  },
  {
   "cell_type": "markdown",
   "metadata": {},
   "source": [
    "## Vice words"
   ]
  },
  {
   "cell_type": "code",
   "execution_count": 33,
   "metadata": {},
   "outputs": [
    {
     "data": {
      "text/html": [
       "<div>\n",
       "<style scoped>\n",
       "    .dataframe tbody tr th:only-of-type {\n",
       "        vertical-align: middle;\n",
       "    }\n",
       "\n",
       "    .dataframe tbody tr th {\n",
       "        vertical-align: top;\n",
       "    }\n",
       "\n",
       "    .dataframe thead th {\n",
       "        text-align: right;\n",
       "    }\n",
       "</style>\n",
       "<table border=\"1\" class=\"dataframe\">\n",
       "  <thead>\n",
       "    <tr style=\"text-align: right;\">\n",
       "      <th></th>\n",
       "      <th>word</th>\n",
       "      <th>vector</th>\n",
       "      <th>category</th>\n",
       "    </tr>\n",
       "  </thead>\n",
       "  <tbody>\n",
       "    <tr>\n",
       "      <th>0</th>\n",
       "      <td>desintegrado</td>\n",
       "      <td>[0.1409, -0.281743, -0.021933, 0.063962, 0.363...</td>\n",
       "      <td>0.0</td>\n",
       "    </tr>\n",
       "    <tr>\n",
       "      <th>1</th>\n",
       "      <td>confrontar</td>\n",
       "      <td>[0.52358, -0.042034, 0.196349, -0.10303, -0.01...</td>\n",
       "      <td>0.0</td>\n",
       "    </tr>\n",
       "    <tr>\n",
       "      <th>2</th>\n",
       "      <td>arruina</td>\n",
       "      <td>[0.440164, -0.520216, 0.281926, 0.316728, 0.11...</td>\n",
       "      <td>0.0</td>\n",
       "    </tr>\n",
       "    <tr>\n",
       "      <th>3</th>\n",
       "      <td>herido</td>\n",
       "      <td>[0.435823, -0.5486, 0.689534, 0.293683, 0.1012...</td>\n",
       "      <td>0.0</td>\n",
       "    </tr>\n",
       "    <tr>\n",
       "      <th>4</th>\n",
       "      <td>agresiva</td>\n",
       "      <td>[0.123496, -0.358881, 0.211074, 0.103301, 0.04...</td>\n",
       "      <td>0.0</td>\n",
       "    </tr>\n",
       "    <tr>\n",
       "      <th>...</th>\n",
       "      <td>...</td>\n",
       "      <td>...</td>\n",
       "      <td>...</td>\n",
       "    </tr>\n",
       "    <tr>\n",
       "      <th>896</th>\n",
       "      <td>melancolia</td>\n",
       "      <td>[0.100793, 0.07003, -0.095927, -0.148693, -0.4...</td>\n",
       "      <td>0.0</td>\n",
       "    </tr>\n",
       "    <tr>\n",
       "      <th>897</th>\n",
       "      <td>decepciona</td>\n",
       "      <td>[0.166685, -0.138134, -0.523206, -0.21429, -0....</td>\n",
       "      <td>0.0</td>\n",
       "    </tr>\n",
       "    <tr>\n",
       "      <th>898</th>\n",
       "      <td>pesimismo</td>\n",
       "      <td>[-0.158406, 0.275918, -0.5823, 0.252241, -0.29...</td>\n",
       "      <td>0.0</td>\n",
       "    </tr>\n",
       "    <tr>\n",
       "      <th>899</th>\n",
       "      <td>bastarda</td>\n",
       "      <td>[-0.664042, -0.583431, 0.31007, -0.036613, 0.0...</td>\n",
       "      <td>0.0</td>\n",
       "    </tr>\n",
       "    <tr>\n",
       "      <th>900</th>\n",
       "      <td>perversa</td>\n",
       "      <td>[0.062627, -1.33138, 0.117078, -0.129269, -0.0...</td>\n",
       "      <td>0.0</td>\n",
       "    </tr>\n",
       "  </tbody>\n",
       "</table>\n",
       "<p>901 rows × 3 columns</p>\n",
       "</div>"
      ],
      "text/plain": [
       "             word                                             vector  category\n",
       "0    desintegrado  [0.1409, -0.281743, -0.021933, 0.063962, 0.363...       0.0\n",
       "1      confrontar  [0.52358, -0.042034, 0.196349, -0.10303, -0.01...       0.0\n",
       "2         arruina  [0.440164, -0.520216, 0.281926, 0.316728, 0.11...       0.0\n",
       "3          herido  [0.435823, -0.5486, 0.689534, 0.293683, 0.1012...       0.0\n",
       "4        agresiva  [0.123496, -0.358881, 0.211074, 0.103301, 0.04...       0.0\n",
       "..            ...                                                ...       ...\n",
       "896    melancolia  [0.100793, 0.07003, -0.095927, -0.148693, -0.4...       0.0\n",
       "897    decepciona  [0.166685, -0.138134, -0.523206, -0.21429, -0....       0.0\n",
       "898     pesimismo  [-0.158406, 0.275918, -0.5823, 0.252241, -0.29...       0.0\n",
       "899      bastarda  [-0.664042, -0.583431, 0.31007, -0.036613, 0.0...       0.0\n",
       "900      perversa  [0.062627, -1.33138, 0.117078, -0.129269, -0.0...       0.0\n",
       "\n",
       "[901 rows x 3 columns]"
      ]
     },
     "execution_count": 33,
     "metadata": {},
     "output_type": "execute_result"
    }
   ],
   "source": [
    "df[df['category'] == 0.0]"
   ]
  },
  {
   "cell_type": "markdown",
   "metadata": {},
   "source": [
    "## Virtue words"
   ]
  },
  {
   "cell_type": "code",
   "execution_count": 34,
   "metadata": {},
   "outputs": [
    {
     "data": {
      "text/html": [
       "<div>\n",
       "<style scoped>\n",
       "    .dataframe tbody tr th:only-of-type {\n",
       "        vertical-align: middle;\n",
       "    }\n",
       "\n",
       "    .dataframe tbody tr th {\n",
       "        vertical-align: top;\n",
       "    }\n",
       "\n",
       "    .dataframe thead th {\n",
       "        text-align: right;\n",
       "    }\n",
       "</style>\n",
       "<table border=\"1\" class=\"dataframe\">\n",
       "  <thead>\n",
       "    <tr style=\"text-align: right;\">\n",
       "      <th></th>\n",
       "      <th>word</th>\n",
       "      <th>vector</th>\n",
       "      <th>category</th>\n",
       "    </tr>\n",
       "  </thead>\n",
       "  <tbody>\n",
       "    <tr>\n",
       "      <th>0</th>\n",
       "      <td>maternal</td>\n",
       "      <td>[0.325435, 0.10564, 0.775151, -0.238141, -0.29...</td>\n",
       "      <td>1.0</td>\n",
       "    </tr>\n",
       "    <tr>\n",
       "      <th>1</th>\n",
       "      <td>seguir</td>\n",
       "      <td>[0.929292, 0.084175, -0.086734, 0.031077, -0.4...</td>\n",
       "      <td>1.0</td>\n",
       "    </tr>\n",
       "    <tr>\n",
       "      <th>2</th>\n",
       "      <td>patriotico</td>\n",
       "      <td>[-0.391148, -0.314462, -0.495306, -0.404786, -...</td>\n",
       "      <td>1.0</td>\n",
       "    </tr>\n",
       "    <tr>\n",
       "      <th>3</th>\n",
       "      <td>paternal</td>\n",
       "      <td>[-0.164871, -0.043165, 0.527002, -0.032622, -0...</td>\n",
       "      <td>1.0</td>\n",
       "    </tr>\n",
       "    <tr>\n",
       "      <th>4</th>\n",
       "      <td>estatus</td>\n",
       "      <td>[0.195135, 0.061412, 0.429363, 0.509251, -0.02...</td>\n",
       "      <td>1.0</td>\n",
       "    </tr>\n",
       "    <tr>\n",
       "      <th>...</th>\n",
       "      <td>...</td>\n",
       "      <td>...</td>\n",
       "      <td>...</td>\n",
       "    </tr>\n",
       "    <tr>\n",
       "      <th>109</th>\n",
       "      <td>castigo</td>\n",
       "      <td>[0.300206, 0.182386, -0.113264, 0.146073, -0.6...</td>\n",
       "      <td>1.0</td>\n",
       "    </tr>\n",
       "    <tr>\n",
       "      <th>110</th>\n",
       "      <td>etica</td>\n",
       "      <td>[-0.098628, 0.139114, 0.198292, -0.141415, 0.2...</td>\n",
       "      <td>1.0</td>\n",
       "    </tr>\n",
       "    <tr>\n",
       "      <th>111</th>\n",
       "      <td>ritual</td>\n",
       "      <td>[0.383331, -0.649981, 0.623369, -0.128588, -0....</td>\n",
       "      <td>1.0</td>\n",
       "    </tr>\n",
       "    <tr>\n",
       "      <th>112</th>\n",
       "      <td>empatia</td>\n",
       "      <td>[-0.079985, 0.049216, -0.123454, 0.110934, 0.0...</td>\n",
       "      <td>1.0</td>\n",
       "    </tr>\n",
       "    <tr>\n",
       "      <th>113</th>\n",
       "      <td>bueno</td>\n",
       "      <td>[0.717693, 0.01057, 0.502308, 0.411575, -0.427...</td>\n",
       "      <td>1.0</td>\n",
       "    </tr>\n",
       "  </tbody>\n",
       "</table>\n",
       "<p>114 rows × 3 columns</p>\n",
       "</div>"
      ],
      "text/plain": [
       "           word                                             vector  category\n",
       "0      maternal  [0.325435, 0.10564, 0.775151, -0.238141, -0.29...       1.0\n",
       "1        seguir  [0.929292, 0.084175, -0.086734, 0.031077, -0.4...       1.0\n",
       "2    patriotico  [-0.391148, -0.314462, -0.495306, -0.404786, -...       1.0\n",
       "3      paternal  [-0.164871, -0.043165, 0.527002, -0.032622, -0...       1.0\n",
       "4       estatus  [0.195135, 0.061412, 0.429363, 0.509251, -0.02...       1.0\n",
       "..          ...                                                ...       ...\n",
       "109     castigo  [0.300206, 0.182386, -0.113264, 0.146073, -0.6...       1.0\n",
       "110       etica  [-0.098628, 0.139114, 0.198292, -0.141415, 0.2...       1.0\n",
       "111      ritual  [0.383331, -0.649981, 0.623369, -0.128588, -0....       1.0\n",
       "112     empatia  [-0.079985, 0.049216, -0.123454, 0.110934, 0.0...       1.0\n",
       "113       bueno  [0.717693, 0.01057, 0.502308, 0.411575, -0.427...       1.0\n",
       "\n",
       "[114 rows x 3 columns]"
      ]
     },
     "execution_count": 34,
     "metadata": {},
     "output_type": "execute_result"
    }
   ],
   "source": [
    "df[df['category'] == 1.0].reset_index(drop=True)"
   ]
  },
  {
   "cell_type": "code",
   "execution_count": 35,
   "metadata": {},
   "outputs": [
    {
     "name": "stdout",
     "output_type": "stream",
     "text": [
      "[[ 0.1409   -0.281743 -0.021933 ...  0.102292  0.35555  -0.487593]\n",
      " [ 0.52358  -0.042034  0.196349 ...  0.283234  0.035956 -0.422202]\n",
      " [ 0.440164 -0.520216  0.281926 ... -0.381815 -0.04618  -0.25785 ]\n",
      " ...\n",
      " [ 0.383331 -0.649981  0.623369 ...  0.21622  -0.19366  -0.12253 ]\n",
      " [-0.079985  0.049216 -0.123454 ... -0.117718  0.042928 -0.343779]\n",
      " [ 0.717693  0.01057   0.502308 ... -0.425821  0.07154  -0.010166]]\n",
      "[0. 0. 0. ... 1. 1. 1.]\n"
     ]
    }
   ],
   "source": [
    "X = np.array(df['vector'].tolist())\n",
    "print(X)\n",
    "y = np.array(df['category'].tolist())\n",
    "print(y)"
   ]
  },
  {
   "cell_type": "code",
   "execution_count": 50,
   "metadata": {},
   "outputs": [
    {
     "name": "stdout",
     "output_type": "stream",
     "text": [
      "0.922\n"
     ]
    }
   ],
   "source": [
    "X_train, X_test, y_train, y_test = train_test_split(df['vector'], df['category'], test_size=0.1, random_state=21,stratify=df['category'])\n",
    "X_train = X_train.to_list()\n",
    "knn = KNeighborsClassifier(n_neighbors=3)\n",
    "knn.fit(X_train, y_train)\n",
    "X_test = X_test.to_list()\n",
    "print(round(knn.score(X_test, y_test),3))"
   ]
  },
  {
   "cell_type": "code",
   "execution_count": 51,
   "metadata": {},
   "outputs": [
    {
     "name": "stderr",
     "output_type": "stream",
     "text": [
      "No artists with labels found to put in legend.  Note that artists whose label start with an underscore are ignored when legend() is called with no argument.\n"
     ]
    },
    {
     "data": {
      "image/png": "[encoded data removed]",
      "text/plain": [
       "<Figure size 800x600 with 1 Axes>"
      ]
     },
     "metadata": {},
     "output_type": "display_data"
    },
    {
     "name": "stdout",
     "output_type": "stream",
     "text": [
      "Best accuracy and number of neighbours:  (7, 0.9313725490196079)\n"
     ]
    }
   ],
   "source": [
    "test_accuracies = {}\n",
    "neighbours = range(1, 30)\n",
    "\n",
    "for neighbour in neighbours:\n",
    "    knn = KNeighborsClassifier(n_neighbors=neighbour)\n",
    "    knn.fit(X_train, y_train)\n",
    "    test_accuracies[neighbour] = knn.score(X_test, y_test)\n",
    "    \n",
    "plt.figure(figsize=(8,6))\n",
    "plt.title('KNN Accuracy: Varying number of neighbours')\n",
    "plt.plot(list(test_accuracies.keys()), list(test_accuracies.values()))\n",
    "plt.legend()\n",
    "plt.xlabel('Number of neighbours')\n",
    "plt.ylabel('Accuracy')\n",
    "plt.show()\n",
    "\n",
    "print('Best accuracy and number of neighbours: ', max(test_accuracies.items(), key=lambda x: x[1]))"
   ]
  },
  {
   "cell_type": "markdown",
   "metadata": {},
   "source": [
    "### Using the model to tag adjectives found on media*\n",
    "> Issues to be solved..."
   ]
  },
  {
   "cell_type": "code",
   "execution_count": 37,
   "metadata": {},
   "outputs": [
    {
     "data": {
      "text/html": [
       "<style>#sk-container-id-1 {color: black;}#sk-container-id-1 pre{padding: 0;}#sk-container-id-1 div.sk-toggleable {background-color: white;}#sk-container-id-1 label.sk-toggleable__label {cursor: pointer;display: block;width: 100%;margin-bottom: 0;padding: 0.3em;box-sizing: border-box;text-align: center;}#sk-container-id-1 label.sk-toggleable__label-arrow:before {content: \"▸\";float: left;margin-right: 0.25em;color: #696969;}#sk-container-id-1 label.sk-toggleable__label-arrow:hover:before {color: black;}#sk-container-id-1 div.sk-estimator:hover label.sk-toggleable__label-arrow:before {color: black;}#sk-container-id-1 div.sk-toggleable__content {max-height: 0;max-width: 0;overflow: hidden;text-align: left;background-color: #f0f8ff;}#sk-container-id-1 div.sk-toggleable__content pre {margin: 0.2em;color: black;border-radius: 0.25em;background-color: #f0f8ff;}#sk-container-id-1 input.sk-toggleable__control:checked~div.sk-toggleable__content {max-height: 200px;max-width: 100%;overflow: auto;}#sk-container-id-1 input.sk-toggleable__control:checked~label.sk-toggleable__label-arrow:before {content: \"▾\";}#sk-container-id-1 div.sk-estimator input.sk-toggleable__control:checked~label.sk-toggleable__label {background-color: #d4ebff;}#sk-container-id-1 div.sk-label input.sk-toggleable__control:checked~label.sk-toggleable__label {background-color: #d4ebff;}#sk-container-id-1 input.sk-hidden--visually {border: 0;clip: rect(1px 1px 1px 1px);clip: rect(1px, 1px, 1px, 1px);height: 1px;margin: -1px;overflow: hidden;padding: 0;position: absolute;width: 1px;}#sk-container-id-1 div.sk-estimator {font-family: monospace;background-color: #f0f8ff;border: 1px dotted black;border-radius: 0.25em;box-sizing: border-box;margin-bottom: 0.5em;}#sk-container-id-1 div.sk-estimator:hover {background-color: #d4ebff;}#sk-container-id-1 div.sk-parallel-item::after {content: \"\";width: 100%;border-bottom: 1px solid gray;flex-grow: 1;}#sk-container-id-1 div.sk-label:hover label.sk-toggleable__label {background-color: #d4ebff;}#sk-container-id-1 div.sk-serial::before {content: \"\";position: absolute;border-left: 1px solid gray;box-sizing: border-box;top: 0;bottom: 0;left: 50%;z-index: 0;}#sk-container-id-1 div.sk-serial {display: flex;flex-direction: column;align-items: center;background-color: white;padding-right: 0.2em;padding-left: 0.2em;position: relative;}#sk-container-id-1 div.sk-item {position: relative;z-index: 1;}#sk-container-id-1 div.sk-parallel {display: flex;align-items: stretch;justify-content: center;background-color: white;position: relative;}#sk-container-id-1 div.sk-item::before, #sk-container-id-1 div.sk-parallel-item::before {content: \"\";position: absolute;border-left: 1px solid gray;box-sizing: border-box;top: 0;bottom: 0;left: 50%;z-index: -1;}#sk-container-id-1 div.sk-parallel-item {display: flex;flex-direction: column;z-index: 1;position: relative;background-color: white;}#sk-container-id-1 div.sk-parallel-item:first-child::after {align-self: flex-end;width: 50%;}#sk-container-id-1 div.sk-parallel-item:last-child::after {align-self: flex-start;width: 50%;}#sk-container-id-1 div.sk-parallel-item:only-child::after {width: 0;}#sk-container-id-1 div.sk-dashed-wrapped {border: 1px dashed gray;margin: 0 0.4em 0.5em 0.4em;box-sizing: border-box;padding-bottom: 0.4em;background-color: white;}#sk-container-id-1 div.sk-label label {font-family: monospace;font-weight: bold;display: inline-block;line-height: 1.2em;}#sk-container-id-1 div.sk-label-container {text-align: center;}#sk-container-id-1 div.sk-container {/* jupyter's `normalize.less` sets `[hidden] { display: none; }` but bootstrap.min.css set `[hidden] { display: none !important; }` so we also need the `!important` here to be able to override the default hidden behavior on the sphinx rendered scikit-learn.org. See: https://github.com/scikit-learn/scikit-learn/issues/21755 */display: inline-block !important;position: relative;}#sk-container-id-1 div.sk-text-repr-fallback {display: none;}</style><div id=\"sk-container-id-1\" class=\"sk-top-container\"><div class=\"sk-text-repr-fallback\"><pre>KNeighborsClassifier()</pre><b>In a Jupyter environment, please rerun this cell to show the HTML representation or trust the notebook. <br />On GitHub, the HTML representation is unable to render, please try loading this page with nbviewer.org.</b></div><div class=\"sk-container\" hidden><div class=\"sk-item\"><div class=\"sk-estimator sk-toggleable\"><input class=\"sk-toggleable__control sk-hidden--visually\" id=\"sk-estimator-id-1\" type=\"checkbox\" checked><label for=\"sk-estimator-id-1\" class=\"sk-toggleable__label sk-toggleable__label-arrow\">KNeighborsClassifier</label><div class=\"sk-toggleable__content\"><pre>KNeighborsClassifier()</pre></div></div></div></div></div>"
      ],
      "text/plain": [
       "KNeighborsClassifier()"
      ]
     },
     "execution_count": 37,
     "metadata": {},
     "output_type": "execute_result"
    }
   ],
   "source": [
    "knn = KNeighborsClassifier(n_neighbors=5)\n",
    "knn.fit(X,y)\n"
   ]
  },
  {
   "cell_type": "code",
   "execution_count": 38,
   "metadata": {},
   "outputs": [
    {
     "name": "stdout",
     "output_type": "stream",
     "text": [
      "['pobresprianistas', 'pri', 'verdaderas', 'agual', 'mientes', 'nesita', 'hermosa', 'fcg', 'lorenzo', 'prmitido']\n",
      "1642\n"
     ]
    }
   ],
   "source": [
    "#Adjs found in comments using spaCy library:\n",
    "adjs = set()\n",
    "with open('adjs_comments.txt', 'r', encoding='utf-8') as file:\n",
    "    for line in file:\n",
    "        adjs.add(line.strip())\n",
    "\n",
    "adjs = list(adjs)\n",
    "print(adjs[:10])\n",
    "print(len(adjs))"
   ]
  },
  {
   "cell_type": "code",
   "execution_count": 39,
   "metadata": {},
   "outputs": [
    {
     "name": "stdout",
     "output_type": "stream",
     "text": [
      "1538\n",
      "{'pobresprianistas', 'pri', 'verdaderas', 'agual', 'nesita', 'hermosa', 'fcg', 'lorenzo', 'prmitido', 'odiado', 'curado', 'neutrales', 'involucrado', 'malditos', 'comercial', 'bende', 'caros', 'electorales', 'mismopero', 'mantenidoscorruptos', 'evitense', 'demas', 'robado', 'exacta', 'aferrado', 'paraditos', 'privilegios', 'pejistas', 'impotente', 'entoloachado', 'pirque', 'sencilla', 'alcaldias', 'campesino', 'mudos', 'by', 'limpia', 'raterossalta', 'incondicionales', 'saqueado', 'opositores', 'ocicon', 'cortos', 'despotas', 'secuestrado', 'calmado', 'profesional', 'deberia', 'capitalista', 'bandido', 'vestidas', 'importantes', 'encubierto', 'fumastes', 'conscientes', 'fregado', 'necesitados', 'amolado', 'ables', 'diputados', 'lleno', 'politicas', 'institucionalizados', 'grandes', 'cercania', 'caro', 'mmmdas', 'interno', 'm@men', 'intachable', 'pagadas', 'alimentos', 'entero', 'apestosas', 'apasear', 'maya', 'creibles', 'pobrecitos', 'basica', 'corrptos', 'trabajadoras', 'veracruz', 'incompetentesmediocres', 'poqiquitos', 'exelente', 'biendolos', 'democratico', 'elbolsillo', 'arrastrados', 'votado', 'publicos', 'salio', 'elhechalo', 'veznobqueda', 'obrigatoria', 'contras', 'estafador', 'engreidos', 'asta', 'llenas', 'agresivos', 'enquistados', 'ormigs', 'honestos', 'actual', 'qnomme', 'ligera', 'representates', 'hechoellos', 'pagado', 'podridos', 'verdespenejo', 'discriminatorio', 'foxcada', 'mediocre', 'primeros', 'espanola', 'soltado', 'unificadorno', 'minima', 'idiotizado', 'municipal', 'peorcito', 'pobres', 'marihuanol', 'hermosos', 'mochada', 'adinerados', 'ningun', 'malevolos', 'acsrreados', 'pertinentes', 'rosas', 'confiable', 'inepto', 'senor', 'industriales', 'honesta', 'maiceado', 'prestigiada', 'debilito', 'privilegiada', 'nazi', 'quemados', 'propuesta', 'adulta', 'decual', 'avbio', 'largo', 'vitacilina', 'oceanica', 'fraudes', 'asquerosasvendidos', 'acrarreador', 'elctoral', 'aferrados', 'insensibles', 'rapaz', 'indibiduo', 'viejio', 'traido', 'demexico', 'igualvendidos', 'sahagun', 'pueblosolo', 'envidiosote', 'lozonso', 'defendidos', 'corta', 'miserables', 'propiaarriba', 'miradas', 'saqueadores', 'acarriada', 'defendiendolos', 'detocs', 'afectada', 'obligados', 'real', 'maldita', 'devores', 'politica', 'europeo', 'huevones', 'unido', 'federal', 'siega', 'cagadas', 'stpdo', 'sicaro', 'graciosos', 'sumado', 'vendepatrias', 'arrugado', 'ratasvendidos', 'trabajador', 'plena', 'quierenestos', 'independientes', 'hijos', 'atarantado', 'mendigos', 'superinteligentisimo', 'media', 'millonarios', 'jamas', 'lindo', 'vivos', 'beneficiados', 'junta', 'purita', 'seco', 'manipulados', 'criado', 'acusalo', 'desinflado', 'legales', 'incondicional', 'quesadapues', 'snganos', 'ofenza', 'quretino', 'grabadora', 'seria', 'plagada', 'presidentes', 'decomiso', 'civil', 'atraves', 'familiar', 'anti', 'avalado', 'partidos', 'increible', 'lunatico', 'crecida', 'electronicos', 'mejor', 'institucionlos', 'facil', 'jajajaja', 'hombreeso', 'libre', 'enganada', 'maximo', 'estadista', 'asustados', 'garrapatas', 'ofendidos', 'verde', 'estepincheviejodecrepitoyanadamasleqedololoco', 'chupado', 'grande', 'alborotada', 'acarreado', 'absoluta', 'mariguanol', 'perversos', 'nuevos', 'enemigos', 'primera', 'dura', 'nueva', 'vidente', 'callado', 'jjjjjjjj', 'amlolo', 'amucha', 'tranquilo', 'mantenido', 'listo', 'ajena', 'huuuleeeerooooo', 'elegido', 'rafas', 'autentico', 'hueca', 'dominguero', 'obradoristas', 'buey', 'pequena', 'seguros', 'adineradas', 'relajate', 'fraudulentas', 'guasolina', 'masoquista', 'hobrador', 'extraordinaria', 'perros', 'lolita', 'decentes', 'anemonas', 'sras', 'bibidores', 'electoral', 'afecto', 'empresariales', 'descansa', 'analfabeta', 'agrada', 'alla', 'especial', 'gusanos', 'quemado', 'interesante', 'delicuentes', 'corruptospor', 'herario', 'secuaces', 'ledio', 'neoliberal', 'venenosas', 'holgazanes', 'punados', 'protejidos', 'sociales', 'valioso', 'mandenidos', 'escalteado', 'tisnaditas', 'tiznado', 'lado', 'personal', 'japonesa', 'cerrada', 'pica', 'jajajaaaaaa', 'pobrecito', 'malas', 'carajos', 'acarreada', 'tranzas', 'llena', 'fuerte', 'paniaguados', 'contradictoriosesas', 'servil', 'srvicente', 'usada', 'deseoso', 'actually', 'comun', 'miedosos', 'parcial', 'indefendible', 'alta', 'muertos', 'locote', 'personales', 'publico', 'inteligentes', 'licenciado', 'natural', 'mundial', 'comparado', 'pallaso', 'engana', 'pruevas', 'callen', 'hambriados', 'popular', 'sinicos', 'chente', 'desbocados', 'incongruente', 'hipocritas', 'agradecida', 'sueldos', 'repudiaria', 'demostrado', 'universal', 'corruptotes', 'demacrado', 'quesada', 'llo', 'dirigido', 'cambiado', 'sabio', 'diferente', 'stiercol', 'solita', 'comosea', 'urgentemente', 'amargadas', 'conplan', 'marranos', 'domesticopobrecitas', 'tramposo', 'vacios', 'mariguas', 'enserio', 'cacomiztles', 'ricos', 'trampososineptos', 'descanse', 'curioso', 'dichos', 'describire', 'maruiguas', 'mera', 'corruption', 'asustas', 'amlono', 'comprados', 'lectorapuro', 'nacional', 'mana', 'verguenzasaludos', 'chole', 'curruptoseso', 'putrefacto', 'hidratados', 'desfasado', 'contundente', 'desapareceresa', 'justas', 'vendidosfuera', 'invasivo', 'excelente', 'morena', 'vjejo', 'duenos', 'disfrazados', 'danado', 'advenedizos', 'ricachones', 'plenos', 'enfermisas', 'inutiles', 'mediana', 'simuladores', 'nacidos', 'reacionea', 'tremens', 'iluso', 'pasadas', 'asolear', 'tercera', 'vista', 'yegaria', 'hartos', 'alto', 'rica', 'verdulera', 'enfada', 'inmensa', 'amexico', 'chiquitos', 'ntro', 'viejo', 'lopitos', 'ponte', 'justos', 'tapendejo', 'renovada', 'vendida', 'poquita', 'maliditos', 'corruptosmercenarios', 'blanquitos', 'vivo', 'baboso', 'humilde', 'menoria', 'delicados', 'decia', 'hocicon', 'endeudado', 'organica', 'pendesta', 'quedaria', 'porinfeliz', 'corruptosy', 'q', 'razonable', 'mentales', 'humanas', 'corruptasos', 'riquillo', 'enjuicien', 'compares', 'alucines', 'importante', 'quieroen', 'solosomos', 'preocupados', 'obvio', 'pitufos', 'electrica', 'acarreas', 'enterados', 'finos', 'inmorales', 'incompetentes', 'vividora', 'harias', 'anciano', 'apatridas', 'chingandoy', 'buen', 'efectiva', 'razistas', 'experto', 'neuliberales', 'corructos', 'acusador', 'defraudadores', 'lanbiscomes', 'tranquila', 'llamado', 'perfecto', 'laserado', 'simple', 'atomica', 'quioere', 'checheas', 'pasados', 'arreglados', 'administradorcillo', 'planeado', 'derecho', 'estupidos', 'participado', 'ratificado', 'mentado', 'marranadas', 'sandeces', 'aaaay', 'severas', 'obligatorio', 'gatos', 'indignos', 'duermete', 'pocas', 'osico', 'cauarta', 'vividor', 'elitistas', 'lencho', 'impuestos', 'arrastrada', 'tiranos', 'propia', 'carino', 'importantisima', 'trasnochado', 'muchisimo', 'burradas', 'armada', 'chistosito', 'cansados', 'familiares', 'estiempo', 'tactica', 'viejas', 'pagada', 'emitidas', 'perotodos', 'aprovechados', 'inevendido', 'clasista', 'narcoas', 'gran', 'infelices', 'ciudadana', 'fertilizante', 'contados', 'claro', 'maiceadas', 'prianistas', 'diles', 'convencidos', 'inteligente', 'rociados', 'verdadera', 'voluntaria', 'etcetera', 'iguales', 'ocupado', 'cansado', 'cobardes', 'askerosas', 'extranjeros', 'complices', 'borregos', 'economica', 'ardido', 'pendejas', 'eline', 'sinico', 'senal', 'america', 'qureo', 'oficial', 'ancianos', 'energetica', 'manoseada', 'engrandecerlos', 'criminales', 'cruptos', 'marguas', 'indescriptibles', 'total', 'cuantos', 'cuscos', 'idiotisado', 'maliada', 'lacras', 'extrema', 'politiqueros', 'mantenidos', 'desfraudado', 'incuriptible', 'amlooo', 'lkenadera', 'antipatriotas', 'chspm', 'ala', 'lencha', 'acareados', 'd', 'irrefutable', 'padres', 'mega', 'blanco', 'etc', 'tipica', 'harto', 'obrera', 'llores', 'friegas', 'orgulloso', 'encabezado', 'corrptisimo', 'muneco', 'elegantes', 'chavorruco', 'sanganos', 'mariguano', 'cabada', 'minimos', 'ridiculos', 'tinoso', 'parientes', 'pagariamos', 'leido', 'viejillo', 'fuelra', 'innecesarios', 'reciente', 'abtidemocraticos', 'defensor', 'corruptelas', 'chapeados', '@uuuuuu', 'proximos', 'omosexual', 'desias', 'necesario', 'positivos', 'plurinominal', 'llenos', 'incomparable', 'intocables', 'doble', 'srpresidente', 'zanganos', 'primero', 'apistelentes', 'saludable', 'nadamas', 'tespetosox', 'aaaarranquense', 'espresidente', 'lavadora(de', 'largas', 'puras', 'rrequerido', 'rateros', 'sumbado', 'mexico', 'pios', 'dadeberia', 'veneficio', 'ganado', 'mieda', 'peca', 'tendenciosas', 'suave', 'cochinada', 'riquillos', 'hade', 'quedado', 'humanitario', 'sinsanoso', 'inestable', 'chingnd', 'pienza', 'vomitivos', 'nesesitamos', 'compradas', 'preso', 'bajo', 'usava', 'apegado', 'auspiciadas', 'imparciales', 'an', 'chin', 'pacifica', 'chachalaco', 'manosos', 'borracho', 'locuas', 'calladito', 'indeseables', 'inmoral', 'tenido', 'nuevas', 'tirado', 'petroleras', 'partodos', 'extrano', 'senil', 'hambrientos', 'compatriotasviva', 'jajakaj', 'l', 'seve', 'puros', 'crrupto', 'igualado', 'vividores', 'conocido', 'rratotassinberguensas', 'paracitos', 'sentados', 'mas', 'recaudados', 'hhuu', 'tambien', 'tremendo', 'ardida', 'valiosas', 'chentebotitas', 'minerales', 'cuasta', 'cochinos', 'integrantes', 'parasitos', 'pequeno', 'aleccionados', 'comprendanlo', 'sheet', 'qeremos', 'ferrocarriles', 'adivino', 'marihuaniado', 'plana', 'felices', 'consec', 'clasistas', 'simexicanos', 'megacorruptos', 'limpio', 'impotenciaque', 'nonesesita', 'trabajadora', 'inquietos', 'lamvehuvos', 'desgrasiado', 'jodidos', 'desvergonzados', 'mayoria', 'democracias', 'afectado', 'valiente', 'viendoesta', 'drogado', 'sinonimos', 'nosotras', 'guero', 'presidentecon', 'delincuentes', 'suficiente', 'traicionera', 'incompetente', 'ternurita', 'pulpos', 'marihuano', 'deveria', 'chacales', 'capaces', 'desgraciados', 'preciopor', 'millonario', 'mariguana', 'tonterias', 'vendidosy', 'gorda', 'caracol', 'respetoviva', 'merecido', 'veandido', 'ratotas', 'nefastas', 'rico', 'democracia', 'bonita', 'verdaderos', 'vejestorios', 'engordado', 'maravilloso', 'pensionados', 'cierto', 'bandidos', 'comprobado', 'rrs', 'electoreros', 'lgualmente', 'prianrede', 'psiquiatrico', 'indigenas', 'pelado', 'ahj', 'unidos', 'nefastos', 'quezada', 'secuestrada', 'enriquecidos', 'cronico', 'corruptisimo', 'tocado', 'prepotentes', 'alcansaria', 'presente', 'acarreados', 'delirante', 'transparente', 'contentos', 'simbergyensas', 'sakeadores', 'chayoteros', 'clarito', 'falsa', 'mismo', 'corruptas', 'vergonzoso', 'coructos', 'amanada', 'conocidos', 'unico', 'civiles', 'incurruptibles', 'senores', 'humano', 'sincero', 'logrosesto', 'ultimo', 'firmes', 'borrachales', 'sinsos', 'marihuana', 'hacersolo', 'compras', 'propios', 'desmemoriados', 'rata', 'unica', 'antidemocratas', 'judicial', 'racistas', 'computadoras', 'mensuales', 'ocultas', 'zocalo', 'cagada', 'serian', 'cubano', 'historico', 'aparescas', 'tronado', 'presidencial', 'agradecidos', 'malditas', 'respetoeste', 'acarrados', 'viva', 'metidos', 'solitos', 'mayor', 'mojadas', 'sordos', 'sencillo', 'urgente', 'verboviva', 'varcel', 'dichola', 'riquito', 'ineptos', 'meadas', 'sucios', 'visto', 'alrevez', 'peo', 'inecesario', 'duro', 'conveneciera', 'campantes', 'excesivos', 'umillados', 'gubernamental', 'nuevo', 'dadiva', 'sentidas', 'nesesitados', 'remoras', 'prianmc', 'inmenso', 'desarrollado', 'corrupto', 'consejero', 'cilencio', 'enojados', 'agradecido', 'ineficiente', 'aburre', 'acompano', 'afectados', 'claras', 'ademas', 'unicos', 'flojos', 'comodinos', 'defendible', 'maligna', 'oportunistas', 'derrotados', 'prieta', 'rapido', 'fecales', 'obrador', 'pelados', 'aereas', 'chupeteadores', 'junto', 'hozico', 'derrotada', 'ivas', 'dios', 'chochea', 'atina', 'parados', 'diria', 'ultima', 'favorecida', 'ex', 'dictador', 'marhuana', 'nesecidada', 'mandilon', 'ponzonosas', 'ine-scrupulosos', 'contrario', 'maltratado', 'asquerosos', 'obsesionado', 'genial', 'larga', 'hdschm', 'digno', 'cerebral', 'insaciables', 'mexicana', 'viejito', 'voluntario', 'amanados', 'huachicolero', 'ensucia', 'transtornado', 'entregista', 'comprada', 'apatrida', 'ladras', 'nuesteos', 'motorolo', 'ultrajada', 'huachicoleras', 'mafiosos', 'opcs', 'laca', 'irrespetuoso', 'coruptos', 'patriastraidores', 'naturales', 'desvergonzado', 'sera', 'vien', 'sandijuelas', 'malvados', 'ultimos', 'operado', 'lamentable', 'pequenos', 'recibido', 'proximo', 'digna', 'hermoso', 'abusivos', 'esquizofrenico', 'encontraras', 'comprueve', 'ratera', 'traicioneros', 'basicas', 'jajajajajjajajajjaajajajjjaajajjaano', 'lorensito', 'economico', 'chulo', 'acabeotros', 'cascarrabias', 'fascistas', 'autoritarios', 'chistoso', 'nopuedo', 'sennofox', 'rrrrratas', 'ficticias', 'precaria', 'malparridos', 'ardidos', 'cdmx', 'estupido', 'querido', 'mendigo', 'pregunteles', 'posible', 'hechos', 'tarugada', 'vicentico', 'vestida', 'martita', 'cuarta', 'hables', 'empresarial', 'botudo', 'masivo', 'traicionero', 'ardor', 'infinitas', 'traicioneras', 'mayores', 'bajos', 'vandidos', 'mariguanete', 'mendiga', 'grandioso', 'iriapero', 'alito', 'alucinado', 'callados', 'buenas', 'seno', 'amloasi', 'cundo', 'infames', 'pagados', 'neoliberales', 'autonomo', 'dekrepito', 'estadodas', 'superiores', 'economicos', 'vende-patrias', 'culeros', 'sometida', 'proximas', 'hbldr', 'oilo', 'pesadas', 'ironia', 'logrado', 'apokono', 'conq', 'italiano', 'mariguanay', 'loquito', 'reales', 'corruptosvendidos', 'ta', 'serviles', 'msrigua', 'grandecito', 'ratasss', 'injustos', 'enves', 'descarados', 'pasado', 'sientes', 'parasito', 'juridica', 'solas', 'pcasi', 'indicado', 'ignorantes', 'playeras', 'incomada', 'maaaa', 'humildes', 'fumovisente', 'solo', 'vacelina', 'cercano', 'jajajajajaja', 'ahihasta', 'fieles', 'humanista', 'desaparecete', 'toncho', 'insecto', 'callese', 'pusilanimes', 'patras', 'bitacilina', 'encarcelado', 'dueno', 'coludidos', 'guaruras', 'generosos', 'sano', 'fuchi', 'menor', 'camisas', 'llevenll', 'agancaso', 'facistas', 'sumidos', 'corajes', 'ventajosos', 'guaraguano', 'atras', 'escandalosa', 'habidos', 'agredidos', 'queles', 'politico', 'msriguana', 'mediera', 'sedientos', 'hambreados', 'molestes', 'maiceados', 'invito', 'prianista', 'combinado', 'ajeno', 'paso', 'torta', 'marihuas', 'acabado', 'expresidentes', 'ajenas', 'buenoaestecabrocontodorespetosiesqueselomeresrcuandolevanaquitarloquerobo', 'botuda', 'archirequetecontracorruptos', 'miadas', 'satrapa', 'convocados', 'psicopata', 'esbirros', 'inconforme', 'inferiores', 'amikos', 'tramposos', 'oyy', 'legitimo', 'calificativos', 'populacho', 'metodos', 'poderosos', 'mesmamente', 'putridos', 'usurpadores', 'autonomosque', 'hdch', 'buenos', 'retrasados', 'lindos', 'cerrados', 'nacionales', 'mexicanos', 'baloyan', 'bedidos', 'marig', 'amargo', 'descritos', 'raaaaaaaaatas', 'casiques', 'chentito', 'entrevistados', 'anterior', 'amlo', 'blanca', 'organizada', 'puritito', 'politicos', 'mafiososhijos', 'fortalecio', 'simulada', 'mentirosos', 'verdad', 'patriota', 'cm', 'conveniente', 'publicas', 'beneficiodos', 'natal', 'unacoca', 'jente', 'desconectado', 'nacido', 'vendidas', 'empresarios', 'incluida', 'seguidos', 'burocratas', 'cimo', 'repartes', 'celular', 'empleado', 'primer', 'borregada', 'cinicos', 'libres', 'tapaderas', 'autonomos', 'puntadas', 'remordimieno', 'tontosvendidos', 'electoraly', 'oscurito', 'sicarios', 'tristes', 'guevones', 'informados', 'racista', 'cascaraviasyonosavequeaserniquedecircon', 'conchudos', 'ladrarladrar', 'gentemuchos', 'equivocas', 'enesima', 'bandejo', 'huevosfuera', 'peleles', 'nuestreo', 'derecha', 'plurinominales', 'despreciados', 'tercer', 'mexicoviva', 'queridisimo', 'suturado', 'chachalaca', 'queria', 'mental', 'estafadores', 'antiguo', 'frutsi', 'vendidos', 'tesla', 'famosos', 'sinverhuenzas', 'corruptos', 'pendientes', 'bloqueado', 'acostumbradas', 'viboras', 'saludos', 'anteriores', 'controlado', 'corruptosfuera', 'mafia', 'enganados', 'aguadas', 'trapacerias', 'hechoahora', 'sintetica', 'basto', 'postizos', 'futuro', 'bastantes', 'sinverguenzas', 'adecuada', 'confirmado', 'corrompido', 'asistiria', 'someriado', 'merolico', 'cumpleanos', 'desonesto', 'lados', 'mexicano', 'orale', 'veras', 'nidos', 'farsantes', 'bienpero', 'traidores', 'empoderados', 'encueta', 'asecino', 'ostentados', 'aclaro', 'dulces', 'normal', 'estudiado', 'sinverguendas', 'decente', 'comerciante', 'propias', 'regalapartidos', 'clase', 'vendidosrealmente', 'carreados', 'incongruentes', 'apollemos', 'huleeeeeros', 'inflado', 'vieja', 'incomoda', 'acostumbrados', 'logica', 'verdadero', 'pendejadas', 'carroneros', 'pedorro', 'prostitutos', 'propio', 'igual', 'chapuceros', 'pensantes', 'gchclro', 'inca', 'save', 'dividido', 'foxito', 'qchaspm', 'exageradas', 'desinformada', 'fisico', 'traiciono', 'coludas', 'malos', 'cuantas', 'carruseles', 'barato', 'particulares', 'internado', 'perfectos', 'blancas', 'ipocritas', 'corto', 'ficientes', 'decrepitos', 'descerebrado', 'minimo', 'fuma', 'maxima', 'adulto', 'crueles', 'parciales', 'innecesaio', 'suprema', 'sinsera', 'democraticos', 'adinerada', 'funcional', 'mnss', 'malsanos', 'valio', 'lne', 'acarreo', 'vemdidos', 'queridos', 'deste', 'mafiosas', 'mesquinos', 'previllegios', 'escrupulos', 'vendido', 'huachicoleros', 'hdspm', 'acerquense', 'bonito', 'deshonestos', 'lisensensiado', 'insignificante', 'nato', 'paypa', 'electoralpero', 'nesecitada', 'ilegal', 'recursospuro', 'aerea', 'variadas', 'corruptisimos', 'dignos', 'senoras', 'ruquito', 'incorruptibles', 'tremenda', 'gastadera', 'manche', 'encerrado', 'renegrido', 'precidente', 'innombrables', 'humana', 'acarrearia', 'conservadores', 'decrepito', 'pura', 'cambio', 'saqueadora', 'molestos', 'limpias', 'altos', 'manana', 'mejores', 'alos', 'pedorras', 'duena', 'jajaja', 'muertas', 'cinicosratas', 'ambulantes', 'habil', 'gustosa', 'des', 'foxresentido', 'presidenciales', 'almada', 'mexicohasta', 'cean', 'deque', 'golpistas', 'sinverguenzada', 'convertidos', 'acarriados', 'anuales', 'huevos', 'visonte', 'irresponsables', 'vianello', 'mula', 'antimexicanos', 'farsante', 'falsas', 'paridos', 'recreativa', 'prometido', 'arrabaleros', 'ofencivo', 'immundas', 'stos', 'marihuanono', 'orate', 'tibia', 'viejos', 'balga', 'tubites', 'aprox', 'pseudo', 'acarrearal', 'organizado', 'margara', 'firme', 'encabezados', 'fraudulentos', 'necios', 'amado', 'bitasilina', 'dicho', 'humildeahora', 'tranquilos', 'terminada', 'desorientado', 'patriasdelincuenteshipocritasnefastos', 'ranas', 'jogosa', 'asesinos', 'pasasdos', 'vivido', 'deleales', 'correcta', 'enfermos', 'orgullosos', 'sentidos', 'senora', 'conosemosa', 'puebloson', 'vudjito', 'sercas', 'asquerosas', 'despedidos', 'arrabaleroscorruptostraidoresmentirosos', 'social', 'productivo', 'intocable', 'desesperados', 'duermase', 'panista', 'vaquetones', 'pintada', 'desquiciado', 'azteca', 'presentes', 'segundo', 'pandilla', 'zombi', 'salinas', 'gueros', 'rubio', 'corrupta', 'fueraaaaaa', 'perdidos', 'hecho', 'falsos', 'nocivos', 'basico', 'amigos', 'honrosas', 'empleados', 'feliz', 'k', 'amadas'}\n"
     ]
    }
   ],
   "source": [
    "#Adjs from comments but not in words:\n",
    "adjs_set = set(adjs)\n",
    "diference = adjs_set.difference(words)\n",
    "print(len(diference))\n",
    "print(diference)"
   ]
  },
  {
   "cell_type": "code",
   "execution_count": null,
   "metadata": {},
   "outputs": [],
   "source": [
    "adj_tag = {}\n",
    "for adj in adjs:\n",
    "    if adj in word_to_vec.keys():\n",
    "        tag = knn.predict([word_to_vec[adj]])\n",
    "        adj_tag[adj] = tag[0]\n",
    "        \n",
    "print(list(adj_tag.items())[:10])   \n",
    "\n"
   ]
  },
  {
   "cell_type": "markdown",
   "metadata": {},
   "source": [
    "## Given a word, return the k nearest neighbors:"
   ]
  },
  {
   "cell_type": "code",
   "execution_count": 45,
   "metadata": {},
   "outputs": [
    {
     "name": "stdout",
     "output_type": "stream",
     "text": [
      "915        buena\n",
      "651    imposible\n",
      "836     teniendo\n",
      "Name: word, dtype: object\n"
     ]
    }
   ],
   "source": [
    "def get_k_nearest_neighbours(word, k, word_to_vec,knn):\n",
    "    '''Given a word, return the k nearest neighbours'''\n",
    "    if word in word_to_vec.keys():\n",
    "        word_vec = [word_to_vec[word]]\n",
    "        results = knn.kneighbors(word_vec, n_neighbors=k, return_distance=True)\n",
    "        index = results[1]\n",
    "        for i in index:\n",
    "            print(df.iloc[i]['word'])\n",
    "    else:\n",
    "        print('The word is not in the vocabulary')\n",
    "        \n",
    "get_k_nearest_neighbours('perfecta', 3, word_to_vec,knn)"
   ]
  },
  {
   "cell_type": "markdown",
   "metadata": {},
   "source": [
    "## Given a word, predict its category"
   ]
  },
  {
   "cell_type": "code",
   "execution_count": 47,
   "metadata": {},
   "outputs": [
    {
     "name": "stdout",
     "output_type": "stream",
     "text": [
      "The word is a vice\n"
     ]
    }
   ],
   "source": [
    "def predict_category(word, word_to_vec, knn):\n",
    "    if word in word_to_vec.keys():\n",
    "        word_vec = [word_to_vec[word]]\n",
    "        tag = knn.predict(word_vec)\n",
    "        if tag[0] == 0.0:\n",
    "            print('The word is a vice')\n",
    "        else:\n",
    "            print('The word is a virtue')\n",
    "    else:\n",
    "        print('The word is not in the vocabulary')\n",
    "\n",
    "predict_category('perfecta', word_to_vec, knn)"
   ]
  }
 ],
 "metadata": {
  "kernelspec": {
   "display_name": ".env-web-scrap",
   "language": "python",
   "name": ".env-web-scrap"
  },
  "language_info": {
   "codemirror_mode": {
    "name": "ipython",
    "version": 3
   },
   "file_extension": ".py",
   "mimetype": "text/x-python",
   "name": "python",
   "nbconvert_exporter": "python",
   "pygments_lexer": "ipython3",
   "version": "3.10.13"
  }
 },
 "nbformat": 4,
 "nbformat_minor": 2
}
