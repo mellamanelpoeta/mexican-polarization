{
 "cells": [
  {
   "cell_type": "markdown",
   "metadata": {},
   "source": [
    "# Loader\n",
    "\n",
    "> This class loads the necessary files to analyze the polarization of the formated csv."
   ]
  },
  {
   "cell_type": "code",
   "execution_count": null,
   "metadata": {},
   "outputs": [],
   "source": [
    "#| default_exp Loader"
   ]
  },
  {
   "cell_type": "code",
   "execution_count": null,
   "metadata": {},
   "outputs": [],
   "source": [
    "#| hide\n",
    "from nbdev.showdoc import *"
   ]
  },
  {
   "cell_type": "code",
   "execution_count": null,
   "metadata": {},
   "outputs": [],
   "source": [
    "#| export\n",
    "import pandas as pd\n",
    "from unidecode import unidecode\n",
    "import regex as re"
   ]
  },
  {
   "cell_type": "code",
   "execution_count": null,
   "metadata": {},
   "outputs": [],
   "source": [
    "#| export\n",
    "class Loader:\n",
    "\n",
    "    def __init__(self,\n",
    "                 csv: str,    # Path to the csv file\n",
    "                 virtue_dict: str,   # Path to the virtue dictionary\n",
    "                 vice_dict: str      # Path to the vice dictionary\n",
    "                 ):\n",
    "        \"\"\"Constructor for the Loader class\"\"\"\n",
    "        self.csv = csv\n",
    "        self.virtue_dict = self._load_dict('virtue', virtue_dict)\n",
    "        self.vice_dict = self._load_dict('vice', vice_dict)\n",
    "        self.original = None\n",
    "        self.processed = None\n",
    "        self.processed_bool = False\n",
    "\n",
    "    def _load_dict(self, tag, path):\n",
    "        \"\"\"Loads a dictionary from a txt file\"\"\"\n",
    "        dic = {}\n",
    "        with open(path, 'r', encoding='utf-8') as f:\n",
    "            words = [line.strip() for line in f]\n",
    "        for word in words:\n",
    "            dic[word] = tag\n",
    "        return dic\n",
    "    \n",
    "    def process_csv(self,\n",
    "                    text_cols:list, # List of text columns to process\n",
    "                    num_cols:list, # List of numeric columns to process\n",
    "                    date_cols:list # List of date columns to process\n",
    "                    ):\n",
    "        \"\"\"Cleans the columns of the csv file prior the polarization analysis\"\"\"\n",
    "        df = pd.read_csv(self.csv)\n",
    "        self.original = df.copy()\n",
    "\n",
    "        cols = text_cols + num_cols + date_cols\n",
    "        df.drop_duplicates(keep='first',inplace=True) \n",
    "\n",
    "        def clean_message(text):\n",
    "            if isinstance(text, str):\n",
    "                # Eliminate urls\n",
    "                regex_url = r'\\b(?:https?|ftp):\\/\\/(?:www\\.)?[-A-Z0-9+&@#\\/%?=~_|!:,.;]*[-A-Z0-9+&@#\\/%=~_|]'\n",
    "                text = re.sub(regex_url, '', text)\n",
    "\n",
    "                # accents and turn to lower case\n",
    "                text = unidecode(text).lower()\n",
    "                \n",
    "                # Eliminate non-alphabetic and non-numeric characters\n",
    "                text = re.sub(r'[^a-zA-Z0-9\\s]', '', text)\n",
    "\n",
    "                # Eliminar emojis\n",
    "                text = re.sub(r'\\p{Emoticons}', '', text)\n",
    "\n",
    "                # Eliminate additional spaces\n",
    "                text = re.sub(r'\\s+', ' ', text).strip()\n",
    "\n",
    "            return text\n",
    "        \n",
    "        for col in text_cols:\n",
    "            df[col] = df[col].apply(clean_message)\n",
    "            df[col] = df[col].astype(str)\n",
    "\n",
    "        for col in num_cols:\n",
    "            df[col] = pd.to_numeric(df[col], errors='coerce')\n",
    "\n",
    "\n",
    "        new = df.loc[:,cols]\n",
    "        new = new.reset_index(drop=True)\n",
    "        self.processed = new\n",
    "        self.processed_bool = True\n",
    "    \n",
    "    def __str__(self) -> str:\n",
    "        \"\"\"Returns the string representation of the object\"\"\"\n",
    "        return f'Loader(\\n  csv={self.csv}\\n  virtue_dict={self.virtue_dict.keys()}\\n  vice_dict={self.vice_dict.keys()}\\n)'\n",
    "\n",
    "    __repr__ = __str__\n",
    "\n",
    "    def set_virtue_dict(self,\n",
    "                        virtue_dict: str # Path to the virtue dictionary\n",
    "                        ):\n",
    "        \"\"\"Sets the virtue dictionary\"\"\"\n",
    "        self.virtue_dict = self._load_dict('virtue', virtue_dict)\n",
    "    \n",
    "    def set_vice_dict(self,\n",
    "                        virtue_dict: str # Path to the virtue dictionary\n",
    "                        ):\n",
    "        \"\"\"Sets the virtue dictionary\"\"\"\n",
    "        self.virtue_dict = self._load_dict('virtue', virtue_dict)\n",
    "\n",
    "    def set_csv(self,\n",
    "                csv: str # Path to the csv file\n",
    "                ):\n",
    "        \"\"\"Sets the csv file\"\"\"\n",
    "        self.csv = csv\n",
    "\n",
    "    def set_processed(self,\n",
    "                      processed: pd.DataFrame # Processed dataframe\n",
    "                      ):\n",
    "        \"\"\"Sets the processed dataframe\"\"\"\n",
    "        self.processed = processed\n",
    "        self.processed_bool = True\n"
   ]
  },
  {
   "cell_type": "code",
   "execution_count": null,
   "metadata": {},
   "outputs": [
    {
     "data": {
      "text/markdown": [
       "---\n",
       "\n",
       "### Loader.process_csv\n",
       "\n",
       ">      Loader.process_csv (text_cols:list, num_cols:list, date_cols:list)\n",
       "\n",
       "Cleans the columns of the csv file prior the polarization analysis\n",
       "\n",
       "|    | **Type** | **Details** |\n",
       "| -- | -------- | ----------- |\n",
       "| text_cols | list | List of text columns to process |\n",
       "| num_cols | list | List of numeric columns to process |\n",
       "| date_cols | list | List of date columns to process |"
      ],
      "text/plain": [
       "---\n",
       "\n",
       "### Loader.process_csv\n",
       "\n",
       ">      Loader.process_csv (text_cols:list, num_cols:list, date_cols:list)\n",
       "\n",
       "Cleans the columns of the csv file prior the polarization analysis\n",
       "\n",
       "|    | **Type** | **Details** |\n",
       "| -- | -------- | ----------- |\n",
       "| text_cols | list | List of text columns to process |\n",
       "| num_cols | list | List of numeric columns to process |\n",
       "| date_cols | list | List of date columns to process |"
      ]
     },
     "execution_count": null,
     "metadata": {},
     "output_type": "execute_result"
    }
   ],
   "source": [
    "show_doc(Loader.process_csv)"
   ]
  },
  {
   "cell_type": "code",
   "execution_count": null,
   "metadata": {},
   "outputs": [],
   "source": [
    "show_doc(Loader.set_virtue_dict)"
   ]
  },
  {
   "cell_type": "code",
   "execution_count": null,
   "metadata": {},
   "outputs": [],
   "source": [
    "show_doc(Loader.set_vice_dict)"
   ]
  },
  {
   "cell_type": "code",
   "execution_count": null,
   "metadata": {},
   "outputs": [],
   "source": [
    "show_doc(Loader.set_csv)"
   ]
  },
  {
   "cell_type": "code",
   "execution_count": null,
   "metadata": {},
   "outputs": [],
   "source": [
    "show_doc(Loader.set_processed)"
   ]
  }
 ],
 "metadata": {
  "kernelspec": {
   "display_name": ".env-web-scrap",
   "language": "python",
   "name": ".env-web-scrap"
  },
  "language_info": {
   "codemirror_mode": {
    "name": "ipython",
    "version": 3
   },
   "file_extension": ".py",
   "mimetype": "text/x-python",
   "name": "python",
   "nbconvert_exporter": "python",
   "pygments_lexer": "ipython3",
   "version": "3.10.13"
  }
 },
 "nbformat": 4,
 "nbformat_minor": 4
}
